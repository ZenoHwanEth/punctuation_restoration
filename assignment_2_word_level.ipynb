{
  "nbformat": 4,
  "nbformat_minor": 0,
  "metadata": {
    "colab": {
      "name": "assignment 2 word level.ipynb",
      "provenance": [],
      "collapsed_sections": [],
      "include_colab_link": true
    },
    "kernelspec": {
      "name": "python3",
      "display_name": "Python 3"
    },
    "accelerator": "GPU"
  },
  "cells": [
    {
      "cell_type": "markdown",
      "metadata": {
        "id": "view-in-github",
        "colab_type": "text"
      },
      "source": [
        "<a href=\"https://colab.research.google.com/github/unihwan/punctuation_restoration/blob/main/assignment_2_word_level.ipynb\" target=\"_parent\"><img src=\"https://colab.research.google.com/assets/colab-badge.svg\" alt=\"Open In Colab\"/></a>"
      ]
    },
    {
      "cell_type": "code",
      "metadata": {
        "colab": {
          "base_uri": "https://localhost:8080/"
        },
        "id": "uQTHM48B1ZOK",
        "outputId": "1ca83602-3e11-4165-907d-9398fc91e34f"
      },
      "source": [
        "#for google drive directory (colab)\n",
        "from google.colab import drive\n",
        "drive.mount('/content/drive')"
      ],
      "execution_count": null,
      "outputs": [
        {
          "output_type": "stream",
          "text": [
            "Mounted at /content/drive\n"
          ],
          "name": "stdout"
        }
      ]
    },
    {
      "cell_type": "markdown",
      "metadata": {
        "id": "Fi-1C-2u4mmu"
      },
      "source": [
        "#Change your path location here "
      ]
    },
    {
      "cell_type": "code",
      "metadata": {
        "id": "JCpGakrW4mHY"
      },
      "source": [
        "filepath = \"\""
      ],
      "execution_count": null,
      "outputs": []
    },
    {
      "cell_type": "code",
      "metadata": {
        "id": "gwQ_yPAl2VyQ"
      },
      "source": [
        "#Importing library \n",
        "import numpy as np\n",
        "from keras.models import Model\n",
        "from keras.layers import Input, LSTM, Dense,Embedding,Bidirectional,Activation, dot, concatenate,TimeDistributed, GRU\n",
        "from keras.preprocessing.text import Tokenizer\n",
        "from keras.initializers import *\n",
        "from tensorflow.keras.preprocessing.sequence import pad_sequences\n",
        "from tensorflow.keras.utils import to_categorical\n",
        "import tensorflow as tf\n",
        "import time , random\n",
        "import os\n",
        "import math\n",
        "import re\n",
        "import pickle\n",
        "from nltk.tokenize import word_tokenize, sent_tokenize"
      ],
      "execution_count": null,
      "outputs": []
    },
    {
      "cell_type": "code",
      "metadata": {
        "id": "a-MeZLd_2UUY"
      },
      "source": [
        "# function to get tokenizer\n",
        "def tokenize(lang):\n",
        "    tokenizer = tf.keras.preprocessing.text.Tokenizer(filters='', lower=False, num_words=None)\n",
        "    tokenizer.fit_on_texts(lang)\n",
        "    return tokenizer"
      ],
      "execution_count": null,
      "outputs": []
    },
    {
      "cell_type": "code",
      "metadata": {
        "id": "HiExu_A-2ZT4"
      },
      "source": [
        "#Global value \n",
        "NUM_SENTENCES = 600000\n",
        "MAX_NUM_WORDS = 4000"
      ],
      "execution_count": null,
      "outputs": []
    },
    {
      "cell_type": "code",
      "metadata": {
        "colab": {
          "base_uri": "https://localhost:8080/"
        },
        "id": "sl_1EuTOrBRU",
        "outputId": "109dd3fd-a731-4154-b7f1-847518a22b74"
      },
      "source": [
        "with open(filepath + 'norm.txt', 'r',encoding='cp1252') as f:\n",
        "    testinput = f.read().split('\\n')\n",
        "print(testinput)"
      ],
      "execution_count": null,
      "outputs": [
        {
          "output_type": "stream",
          "text": [
            "['berkoban adalah satu bentuk ujian daripada allah s.w.t', 'kerana dalam menjalani kehidupan di dunia ini kita harus melakukan pengorbanan', 'hidup tanpa pengorbanan adalah kehidupan yang gagal', 'dalam menjalani hidup yang baik kita mesti berkorban masa dan tenaga misalnya berusaha mencari rezeki yang halal bagi mengelakkan kemiskinan', 'a merupakan tuntutan hidup kata pensyarah jabatan dakwah dan pembangunan insan akademi pengajian islam universiti malaya roslan mohamed mengenai konsep berkorban dalam islam', 'korban berasal daripada perkataan arab iaitu udhiyah', 'a menjurus kepada peristiwa pengorbanan satu keluarga iaitu nabi ibrahim dan isterinya hajar yang sanggup mengorbankan sesuatu yang amat mereka sayangi iaitu anaknya nabi ismail demi kasih dan cinta kepada allah s.w.t', 'ini adalah nilai pengorbanan yang cukup tinggi di sisi allah s.w.t', 'kerana ia bukan sahaja menguji kesabaran nabi ibrahim tetapi menduga sejauh mana ketakwaan nabi ibrahim', 'maka allah s.w.t menggantikan tempat nabi ismail dengan seekor biri-biri', 'sebagai orang islam yang beriman elakkan perasaan rugi dan sia-sia atas pengorbanan yang dilakukan kerana sesungguhnya allah s.w.t', 'akan menggantikannya dengan sesuatu yang lebih baik katanya yang merujuk kepada surah as-saffat ayat 100 hingga 111', 'dalam islam allah s.w.t menggalakkan umatnya memiliki sifat berkorban demi membantu orang yang kurang bernasib baik', 'memetik kata-kata saidina ali bin abi talib: bahawa apabila kita dapat korbankan sesuatu yang paling berharga untuk orang lain kelebihan yang akan kita peroleh nanti lebih daripada yang dikorbankan', 'oleh itu dalam melakukan sesuatu pengorbanan jangan menganggapnya sebagai sia-sia tetapi sebagai satu cara untuk mendapat peluang yang lebih baik', 'allah s.w.t menjanjikan ganjaran pahala kepada mereka yang sanggup melakukan pengorbanan dan beramal kebajikan kepada mereka yang memerlukan bantuan ujar roslan', 'mengenai konsep mengorbankan binatang pada hari-hari tasyrik secara idealnya adalah lambang kepada sebuah pengorbanan yang menuntut makna tersirat di sebalik yang tersurat', 'konsep ibadah korban lebih luas dan mampu melahirkan insan yang berwawasan serta memiliki anjakan paradigma', 'jika dikaitkan ibadah korban dengan realiti semasa hari ini kita boleh dianggap sebagai gagal sekiranya tidak dapat berkorban untuk orang lain walaupun mampu untuk mengorbankan seekor lembu atau unta', 'dalam konteks ini kita harus memperbetulkan persepsi dalam masyarakat', 'ramai yang mampu mengorbankan binatang tetapi dalam erti kata sebenar tidak dapat menjiwai pengertian korban kata roslan mengaitkan ibadah korban dengan pengertian pengorbanan', 'untuk menyemai semangat pengorbanan yang semakin hilang penghayatannya beliau berkata ibu bapa boleh menterjemahkannya dalam bentuk amalan harian dengan menunjukkan teladan yang baik kepada anak-anak', 'secara tidak langsung tindakan ini akan melahirkan anak-anak yang mudah membantu orang lain yang kurang bernasib baik', 'kita perlu lahirkan keluarga yang ada nilai-nilai pengorbanan kerana pada hari ini masyarakat islam khususnya melalui transformasi dunia yang penuh cabaran', 'sudah sampai satu tahap umat islam jangan hanya sekadar membaca sejarah dan kisah mengenai nabi ibrahim sebaliknya melihat erti pengorbanan dalam konteks yang lebih luas katanya', 'senario menarik yang turut berkait dalam isu pengorbanan ialah penglibatan ramai remaja islam dengan gejala sosial seperti mat rempit menghisap dadah pelacuran dan sebagainya', 'bagi membanteras permasalahan ini banyak pihak perlu tampil untuk menyelamatkan remaja yang telah terkorban jiwa dan akhlak mereka akibat terpengaruh dengan rentak dunia yang semakin mencabar', 'tegas beliau erti pengorbanan masih belum diungkap sepenuhnya kerana persepsi masyarakat yang mengaitkannya dengan pemikiran yang sempit', 'pengorbanan yang jelas dapat diungkap apabila anak-anak berkorban menjaga ibu bapa yang sakit suami menjaga isteri yang sakit isteri menjaga suami yang sakit atau ada yang mengorbankan kehidupan mereka demi memberi nafas baru kepada golongan kurang bernasib baik', 'mengenai umat islam luar negara yang ditindas seperti mana yang berlaku di negara-negara barat roslan berkata pengorbanan yang boleh dilakukan untuk membantu mereka ialah sentiasa berdoa kepada allah s.w.t', 'memohon kesejahteraan mereka selain menghulurkan bantuan dari segi tenaga dan kewangan', 'dalam situasi begini juga umat islam perlu memiliki sifat hiba sedih dan marah apabila melihat saudara seislam ditindas dan hak mereka diketepikan', 'semangat berkorban perlu dijadikan satu budaya agar ia sebati dalam kehidupan seluruh umat manusia', 'situasi ini akan menjana keutuhan masyarakat secara keseluruhannya sebagaimana sabda rasulullah s.a.w', 'yang bermaksud: sesiapa yang tidak mempedulikan orang islam yang lain maka dia bukan dari kalangan orang islam', 'dalam erti kata lain budaya berkorban yang diterapkan dalam masyarakat mampu menghindarkan sifat dendam dengki khianat dan perbalahan sebaliknya membina umat islam yang ampuh dan berkualiti', 'dalam islam pengorbanan ialah melakukan apa yang mampu kita lakukan termasuk korbankan masa wang ringgit dan tenaga untuk membantu orang lain yang dalam kesusahan', 'contohnya dalam korban binatang ada usaha rakyat malaysia yang melakukannya di kemboja vietnam dan thailand jelas roslan', 'menurut beliau seseorang yang tidak pernah berkorban untuk orang lain sebenarnya tidak menghargai kehidupan yang dilaluinya di dunia', 'pepatah ada menyebut buat baik berpada-pada buat jahat jangan sekali', 'apabila seseorang membantu orang lain yang dalam kesusahan bantuan itu akan diingat dan dikenang hingga ke akhir hayat', 'secara tidak langsung ia membawa kepada keakraban dalam kalangan umat islam', 'mohd. daniel abdul rahman dua dari kiri dan rakan-rakan bersama ketua pegawai eksekutif celcom datuk seri shazalli ramly tiga dari kanan pada seminar persatuan pemasaran di uitm shah alam baru-baru ini', 'setiap impian atau cita-cita yang ingin dicapai harus dimulai dengan perancangan memandangkan minatnya dalam bidang perniagaan mohd. daniel abdul rahman mengagumi tan sri syed mokhtar al-bukhari', 'daniel menjadikan tokoh korporat itu sebagai idola yang tidak kedekut berkongsi kekayaan beliau dengan masyarakat dan membantu selain meningkatkan martabat agama islam dan organisasi bumiputera', 'contohnya dengan tertubuhnya yayasan al-bukhari', 'sifat ketokohan itu menjadi pegangan dan prinsip pelajar tahun akhir universiti teknologi mara uitm shah alam dalam kursus sarjana muda kepujian pemasaran ini', 'pada tahun hadapan daniel bakal menjalani latihan praktikal di naza kia sdn. bhd', 'selain mengejar impiannya itu beliau juga masih belajar untuk mendapatkan keputusan yang baik dalam akademik', 'sebenarnya apabila bergelar pelajar atau mahasiswa anggapan dan harapan setiap mahasiswa di malaysia untuk membawa satu perubahan pada diri keluarga agama bangsa dan negara tercinta', 'mahasiswa atau pelajar perlu bijak dalam menjalani kehidupan di universiti yang jauh daripada perhatian keluarga', 'ini supaya mereka tidak terpengaruh dan melibatkan diri dengan kegiatan yang tidak berfaedah', 'seharusnya peluang berada di institusi pengajian tinggi awam ipta digunakan untuk memanfaatkan masa hadapan', 'mahasiswa harus berfikir bagaimana mengelakkan diri daripada digelar penganggur atau graduan yang tidak mempunyai kemahiran komunikasi yang baik kurang penampilan dan keyakinan diri serta penguasaan bahasa inggeris selain bahasa melayu harus dititikberatkan', 'tiada gunanya kalau kita tamat pengajian dengan cemerlang tetapi lemah dalam komunikasi apatah lagi mempunyai kurang kemahiran kepimpinan diri', 'mungkin ini merupakan jawapan kepada masalah pengangguran yang agak serius katanya kepada utusan malaysia baru-baru ini', 'ditanya mengenai perkembangan generasi hari ini daniel berkata mereka harus sedar dan serius dalam menentukan masa depan agama bangsa dan negara', 'jangan jadikan alasan masa muda hanya sekali untuk berseronok dan terjebak dalam kegiatan yang tidak berfaedah sehingga melampau batas', 'ini akhirnya menggelapkan masa depan mereka sendiri', 'anak-anak muda masa ini harus sedar merekalah generasi yang akan mewarisi kepimpinan masa hadapan', 'pelbagai masalah terutamanya masalah sosial seperti perlumbaan haram pergaulan bebas najis dadah dan seumpamanya sedang serius melanda generasi muda melayu sekarang', 'tindakan menyerahkan bulat-bulat kepada badan-badan kerajaan dan pertubuhan-pertubuhan bukan kerajaan semata-mata untuk mengatasi masalah ini adalah satu kesilapan', 'harus diingat bahawa asas-asas atau pegangan yang kukuh terhadap nilai agama islam sebenarnya boleh mencegah perkara tersebut jelas anak muda ini lagi', 'sementara itu tidak kurang juga kalangan anak-anak muda yang cemerlang dalam bidang masing-masing yang boleh dibanggakan', 'kejayaan najmil faiz mohamed aris pelajar malaysia yang mencatat sejarah membentangkan hasil kajiannya mengenai teknologi nano di parlimen britain dan pelbagai adalah contoh anak muda yang tidak menghampakan bangsanya', 'menurut daniel mahasiswa dan belia cemerlang boleh dikategorikan dalam berbagai-bagai bidang sama ada pendidikan politik kerjaya sukan dan sebagainya', 'belia yang cemerlang pada asasnya adalah belia yang berpegang teguh dan mengamalkan nilai-nilai murni islam', 'belia sewajarnya mengambil kisah dan tidak memandang enteng setiap yang berlaku', 'suarakan segala apa yang dipersetujui ataupun sebaliknya', 'jadilah belia yang boleh memberi penyelesaian terhadap masalah bangsanya', 'dan mengejar cita-cita setinggi mana yang dikehendaki tetapi jangan lupa untuk pandang ke bawah sekiranya bantuan kita diperlukan oleh masyarakat katanya', 'bekas yang dipertua majlis perwakilan pelajar uitm perlis tahun 2003 menambah di kampus beliau aktif pada peringkat pelajar dan masyarakat', 'selain berkesempatan bermesyuarat dan bertemu dengan pemimpin masyarakat serta tokoh-tokoh korporat adalah pengalaman yang amat bermakna', 'daniel turut pernah memegang jawatan ahli majlis mesyuarat perundingan pelajar pulau pinang 2004 presiden kebajikan pemasaran uitm shah alam 2005 2006 biro keusahawanan dan alumni majlis perwakilan pelajar uitm 2005 2006', 'anak kelahiran pulau pinang ini turut berasa terpanggil untuk memberi pandangan berkaitan isu melayu pulau itu yang hangat diperkatakan baru-baru ini', 'masyarakat melayu pulau pinang harus sedar kedudukan mereka sama ada dari segi ekonomi ataupun sosial', 'perubahan harus dimulai oleh setiap jiwa orang melayu', 'dengan kata lain penguasaan agama dan ilmu itu penting kerana hal yang sedemikian akan memartabatkan bangsa dan mengelakkan daripada bangsa kita dihina tegasnya', 'pada masa ini melayu pulau pinang amat memerlukan pemimpin yang benar-benar ikhlas memperjuangkan nasib bangsanya dan bukannya perjuangan yang bertunjangkan pangkat harta mahupun wang ringgit', 'kita bertuah kerana mempunyai perdana menteri datuk seri abdullah ahmad badawi yang merupakan anak jati melayu pulau pinang dan beliau amat serius dalam menyelesaikan isu ini', 'tetapi kita harus sedar perdana menteri bertanggungjawab kepada 26 juta rakyat malaysia', 'justeru pemimpin di semua negeri harus mempunyai agenda yang lebih khusus dan serius dalam mengangkat martabat bangsa melayu kata daniel mengakhiri perbualan', 'syeikh wan senik karisiqi moyang syeikh daud al-fathani ', 'menyambut tahun baru 2007 artikel yang dipaparkan ini adalah merupakan keluaran pertama tentang ulama nusantara dalam bahagian agama utusan malaysia', 'atau merupakan artikel yang ke-147 jika dihitung mulai siaran tahun 2004 sepanjang tahun 2005 sehingga disember 2006', 'sekali gus pula kita menyambut pemasyhuran sultan mizan zainal abidin al-marhum sultan mahmud al-muktafi billah shah sebagai yang dipertuan agong malaysia yang ke-13 pada 13 disember 2006', 'baginda berasal dari kerajaan terengganu', 'sepanjang saya memperkenalkan ulama-ulama dunia melayu dalam tahun-tahun yang tersebut ada beberapa orang ulama terengganu juga telah diperkenalkan termasuklah seorang sultan terengganu yang alim dan warak', 'baginda ialah sultan zainal abidin iii', 'hingga kini tiada siapa dapat menafikan bahawa yang mencorakkan islam di terengganu pertama ialah dari keturunan saiyid dan yang kedua ialah ulama-ulama yang berasal dari patani', 'dalam keluaran ini bagi saya adalah merupakan sambutan tahun baru 2007 sekali gus menyambut adanya jati diri keperkasaan dan kemahawangsaan melayu islam dibuktikan daulat raja-raja melayu dilambangkan dengan pemasyhuran yang dipertuan agong pada tarikh tersebut di atas', 'artikel ini mengkhususkan perkara salasilah ulama terengganu yang sangat erat dengan ulama patani', 'semua ulama yang tersebut ada hubungan yang sangat erat selain kaitan sanad ilmu sekali gus di antara mereka ada yang erat hubungan nasab', 'syeikh wan senik al-karisiqi iaitu moyang syeikh daud bin abdullah al-fathani yang bererti juga syeikh wan senik adalah termasuk moyang atau datuk nenek kepada beberapa ulama terengganu yang terdekat di antara mereka seperti syeikh abdul qadir tok bukit bayas syeikh abdullah bin muhammad amin tok duyung dan lain-lain', 'jauh sebelum penghijrahan syeikh daud bin abdullah al-fathani dan rombongan ke pulau duyung kecil terengganu jalinan kekeluargaan patani dan terengganu berjalan sudah sejak lama sekurang-kurangnya sejak sultan zainal abidin sultan terengganu lagi', 'hingga sekarang hubungan tersebut tidak pernah terputus', 'walaupun ada beberapa pertikaian pendapat di antara satu versi salasilah dengan salasilah versi yang lainnya namun tidak bererti memutuskan hubungan kekeluargaan', 'bahkan dengan adanya pertikaian pendapat yang termaktub dalam salasilah adalah mendorong kita supaya melakukan penyelidikan yang lebih kemas jika ada tenaga dan berkemampuan berfikir tetap berusaha untuk mentahqiqkannya', 'dalam artikel yang lalu disebutkan bahawa wan husein as-sanawi mempunyai ramai adik-beradik', 'antaranya ialah syeikh wan senik al-karisiqi', 'nama lengkap ialah al-allamah syeikh wan senik al-karisiqi al-fathani bin ali sultan qanbulqunbul bin manshur al-laqihi saiyid ahmad atau saiyid ahmad samman al-aidrus bin saiyid hakim saiyid kuning bin saiyid husein sultan pak tani salasilah ini diringkaskan dari artikel wan husein as-sanawi al-fathani 18 disember 2006', 'huraian salasilah bahawa syeikh wan senik kahwin dengan zainab asy-syandani binti abdur rahman al-fathani bin ibrahim al-hadhrami memperoleh anak bernama wan husein al-karisiqi', 'anak syeikh wan senik al-karisiqi yang lain ialah syeikh wan idris kemungkinan dari isteri beliau yang lain', 'anak syeikh wan idris bernama syeikh wan abdullah', 'syeikh wan abdullah ini adalah ayah pada syeikh daud bin abdullah al-fathani ulama dunia melayu yang banyak mengarang kitab', 'syeikh daud bin abdullah al-fathani mempunyai beberapa orang adik-beradik iaitu syeikh wan abdul qadir syeikh wan idris syeikh wan abdur rasyid dan hajah siti khadijah', 'syeikh daud bin abdullah al-fathani ibunya bernama wan fathimah', 'ibu wan fathimah ialah wan salamah binti tok bandar wan su', 'isteri tok bandar wan su ialah wan nafisah', 'wan yusuf adalah adik-beradik dengan wan ismail tok kaya pendek atau tok kaya pandak', 'ayah kedua-duanya ialah nik ali atau faqih ali', 'jika kita perhatikan dengan teliti bahawa salasilah syeikh wan senik sampai kepada saiyid husein sultan pak tani adalah semuanya dari pihak lelaki sedang salasilah yang satu lagi dicelahi dengan perempuan bernama fathimah', 'naik ke atas melalui dua orang perempuan iaitu ibu dan nenek wan fathimah hingga sampai kepada nik ali atau faqih ali', 'kesimpulan bahawa kedua-dua salasilah di atas adalah tidak bertentangan atau pertikaian pendapat antara satu dengan yang lainnya kerana salasilah yang satu ialah membicarakan salasilah lurus lelaki semuanya sedang salasilah yang satu lagi ialah membicarakan beberapa orang dari pihak sebelah ibu', 'syeikh wan abdullah tok syeikh duyung bin syeikh wan muhammad amin bin wan abdur rahman al-fathani', 'wan abdur rahman al-fathani kahwin dengan wan salamah kahwin sepupu', 'ibu wan abdur rahman bernama wan tih adalah adik beradik dengan ayah wan salamah namanya wan derauk wan abdur rauf bin wan damit', 'ibu wan abdur rauf dan wan tih ialah wan ti binti wan abu bakar bin wan ismail tok kaya pendek atau tok kaya pandak', 'salasilah yang tersebut di atas sangat erat dengan syeikh wan abdullah tok syeikh duyung yang pada zamannya menjadi syeikh ulama terengganu', 'salasilah beliau selengkapnya ialah syeikh wan abdullah bin syeikh wan muhammad amin', 'syeikh wan muhammad amin kahwin dengan wan aminah ibu tok syeikh duyung adalah masih dalam lingkungan keluarga yang dekat', 'syeikh wan muhammad amin ayahnya ialah wan abdur rahman', 'ibu wan abdur rahman bernama wan tih ibunya bernama wan ti binti wan abu bakar bin wan ismail tok kaya pendek atau tok kaya pandak', 'salasilah ini bertemu pada jalur yang sama pada catatan salasilah pihak ibu syeikh wan abdullah tok syeikh duyung yang tersebut di atas ialah wan aminah binti wan derahmat bin wan derahman bin wan abu bakar bin wan ismail tok kaya pendek atau tok kaya pandak', 'syeikh wan abdullah tok syeikh duyung masih ada jalur kekeluargaan yang dekat dengan syeikh nik mat kecik atau syeikh muhammad shaghir yang pada kitab-kitab karangannya dinyatakan namanya syeikh muhammad bin ismail daudiyi al-fathani', 'beliau bukan dilahirkan di patani tetapi di pulau duyung kecil terengganu ketika terjadi penghijrahan besar-besaran keluarga ini dari patani ke terengganu akibat pencerobohan atau serangan siam terhadap daulah kerajaan patani', 'silsilah lengkap beliau ialah syeikh wan muhammad bin wan ismail bin wan ahmad ibunya bernama wan aisyah', 'wan aisyah adalah adik-beradik dengan wan salamah nenek tok syeikh duyung', 'ayah kedua-duanya bernama wan derauk wan abdur rauf bin wan damit', 'ibu wan derauk wan abdur rauf bernama wan ti binti wan abu bakar bin wan ismail tok kaya pendek atau tok kaya pandak', 'pertalian syeikh nik mat kecik al-fathani syeikh muhammad shaghir al-fathani dengan syeikh wan senik al-karisiqi al-fathani pula bahawa ibu syeikh nik mat kecik al-fathani bernama wan zainab binti syeikh wan idris al-fathani', 'adik-beradik dengan wan zainab ialah wan fathimah iaitulah ibu pada syeikh abdul qadir bin abdur rahman bin utsman al-fathani', 'syeikh wan idris al-fathani yang tersebut ialah datuk kepada syeikh nik mat kecik al-fathani dan syeikh abdul qadir bin abdur rahman al-fathani', 'beliau adalah adik-beradik dengan syeikh daud bin abdullah al-fathani', 'ini bererti syeikh nik mat kecik al-fathani dan syeikh abdul qadir bin abdur rahman al-fathani adalah cucu saudara syeikh daud bin abdullah al-fathani', 'mengenai salasilah lengkapnya hingga sampai kepada syeikh wan senik al-karisiqi al-fathani tidak perlu dibicarakan lagi kerana cukup jelas naik ke atas melalui jalur syeikh daud bin abdullah al-fathani', 'adik-beradik syeikh daud bin abdullah al-fathani yang bernama syeikh abdul qadir bin abdullah al-fathani menurunkan ulama-ulama besar ialah syeikh wan muhammad shalih al-fathani anak syeikh wan ibrahim al-fathani cucu dan syeikh wan syamsuddin al-fathani cicit', 'dua orang adik beradik syeikh daud bin abdullah al-fathani menyebarkan islam di aceh ialah syeikh wan abdur rasyid bin abdullah al-fathani dan syeikhah hajah siti khadijah binti abdullah al-fathani', 'kedua-duanya meninggalkan keturunan di aceh', 'ada orang meriwayatkan bahawa teungku muhd', 'daud beureueh ulama dan pejuang aceh yang terkenal adalah keturunan salah seorang dari kedua adik-beradik itu', 'masih belum jelas tetapi yang pasti beliau diberi nama daud mengambil berkat nama moyang saudaranya syeikh daud bin abdullah al-fathani', 'janggut merah dan janggut putih', 'terlalu ramai ulama yang penting dalam lingkungan keluarga ini tidak mungkin diriwayatkan seluruhnya dalam ruangan yang sangat terbatas ini tetapi perlu juga saya sentuh dengan agak ringkas bahawa ada yang digelar dengan syeikh janggut merah dan syeikh janggut putih', 'syeikh janggut merah dan syeikh janggut putih mempunyai tujuh adik-beradik tetapi saya riwayatkan di sini dua orang saja', 'yang dimaksudkan dengan syeikh janggut merah ialah syeikh wan ismail bin ahmad al-fathani dan syeikh janggut putih ialah syeikh wan yusuf bin ahmad al-fathani', 'syeikh wan ismail janggut merah ialah ayah syeikh nik mat kecik', 'adik-beradik syeikh nik mat kecik ada lima orang iaitu wan hitam atau wan siti wan aisyah hajah wan maryam dan syeikh wan isa meninggal dunia di pulau bunguran natuna kepulauan riau', 'wan aisyah kahwin dengan haji wan idris anaknya wan daud', 'wan daud kahwin dengan sepupunya wan fathimah binti syeikh nik mat kecik', 'anak keduanya ialah haji nik abdur rahman al-makki terengganu dan haji nik ishaq tingkat salah satu versi salasilah penyusunan artikel ini susunan beliau juga dirujuk', 'hajah wan maryam binti syeikh janggut merah kahwin dengan wan abdullah bin syeikh yusuf janggut putih', 'di antara anaknya yang menjadi ulama ialah hajah wan siti saudah dan haji wan ismail', 'hajah wan siti saudah kahwin dengan syeikh wan ahmad al-fathani memperoleh anak hajah wan zainab ibu saya wan mohd. shaghir abdullah penulis artikel ini', 'hajah wan maryam dan anaknya haji wan ismail al-fathani meninggal dunia di skudai johor', 'hajah wan siti saudah pula meninggal dunia di pulau penyengat riau', 'bukan yang pertama siri 1 ', 'orang mungkin pernah mengatakan dia gila', 'barangkali tidak sampai ke peringkat gila', 'tetapi mungkin orang mengatakan dia tidak betul sasau senteng atau sewel', 'dia tidak kisah', 'dia rasa tindakannya wajar', 'dia lakukan semua itu selepas melakukan istikharah selepas bertanya yang maha esa dan mohon petunjuk daripadanya', 'memang itulah yang dia lakukan', 'dan dia beroleh petunjuk', 'mungkin petunjuk yang diperoleh tidak dalam bentuk yang jelas', 'tetapi selepas tiga malam berturut-turut melakukan solat istikharah yang dimulai dengan solat sunat taubat mohon dibersihkan hati solat tasbih dan disusuli solat istikharah dia terasa jiwanya tenang', 'dia amat pasti hatinya cenderung pada rancangan yang ada dalam kepalanya', 'dia pasti dia melakukannya selepas beroleh petunjuk allah', 'dia masih ingat pesanan seorang pensyarah kesayangannya dahulu solat istikharah bukan ketika kita dalam dilema sahaja', 'tetapi juga ketika kita hendak melakukan sesuatu', 'kita pohon petunjuk allah minta allah permudahkan', 'itulah sebenarnya', 'kita lakukan sesuatu dengan restu allah maka insya-allah segala perancangan akan dapat dijalankan dengan berkat', 'dan dia yakin dia telah beroleh jalan yang dimahukannya', 'sungguh-sungguh nak buat', 'insya-allah', 'apa pula insya-allah insya-allah', 'itu macam tak yakin dengan diri sendiri', 'dia mendengus dalam hati', 'tidak puas hati campur terkilan juga', 'itu satu lagi tanggapan salah', 'mengapa kata insya-allah selalu disalahertikan dengan tidak yakin dan lebih berat kepada tidak jadi', 'menjadi seolah-olah satu alasan untuk melepaskan diri daripada sesuatu komitmen', 'salah cara tok alang berfikir tu', 'kata insya-allah tu bermaksud dengan izin allah berat pada ya', 'saya sungguh-sungguh nak buat', 'dengan izin allah melalui kesungguhan dan azam yang saya ada ni akan jadi semua ini dia membalas lembut dalam tenang', 'melirik sekilas pada emak yang tekun mendengar perbincangan mereka di bawah wakaf berbumbung robek di halaman kediaman mereka', 'alang karim terdiam', 'orang tua separuh usia itu termalu sedikit', 'tetapi kemudian dia tergelak kecil', 'sempat menjeling pada emak yang sedang menahan senyuman', 'sesekali dia terasa diakal-akalkan oleh budak perempuan seorang itu', 'tanggungjawab', 'hmm betullah kata kamu tu', 'aku bukannya apa ramai sangat orang gunakan kata insya-allah sebab nak lepaskan diri daripada tanggungjawab', 'itu orang bukan saya tersenyum nakal sikit dia', 'baik berbalik pada perbincangan kita tadi', 'aku tak keberatan kalau kamu sungguh-sungguh', 'tapi elok juga kamu ambil bahagian', 'boleh jadi contoh pada orang muda lain alang karim sedikit serius', 'untuk peringkat awal memadai kalau saya boleh jadi contoh pada diri sendiri tok alang', 'tapi saya betul-betul harapkan bimbingan dari tok alang', 'tok alang sebagai orang lebih tua ketua kampung pula tu tentu lebih tahu apa yang terbaik', 'alang karim terjeda', 'terasa ada amanah terbeban di pundaknya mendengar kata-kata bernada pengharapan itu', 'dia renung anak muda di depannya itu', 'semacam mahu mencari kepastian bahawa anak muda itu memang benar-benar mahu memikul amanah', 'yasmin zulaikha kalau kamu percaya pada diri kamu sendiri maka tok alang pun akan percaya pada kamu', 'itu keyakinan sekali gus kepercayaan tepu padat yang diberikan tok ketua alang karim padanya', 'dia hanya mahu melepaskan dirinya daripada belenggu pengangguran', 'dia bergraduat dari universiti malaya dengan ijazah sarjana muda syariah lebih setahun lalu', 'beberapa permohonan kerja di agensi kerajaan dan berkanun seperti menyepi terus', 'dia enggan berkira dan terlalu memilih', 'sekali pun kerjaya yang tidak relevan dengan ijazah dia tetap memohon', 'semuanya masih bisu', 'di kuala lumpur dia cuba memburu kerjaya tetapi barangkali dia ditakdirkan termasuk dalam jumlah 80,000 graduan yang menganggur seperti yang dilaporkan media', 'dia cuba menepis tanggapan media yang mengatakan para graduan ini terlalu naik lemak terlalu dimanjakan dan terlalu memilih kerja', 'dia tidak memilih', 'kerja kerani merangkap pembantu pejabat merangkap tea lady pun pernah dia cuba minta', 'tetapi barangkali kerana dia memiliki segulung ijazah maka syarikat yang menawarkan kekosongan jawatan tea lady itu gerun hendak menerimanya', 'hakikatnya dia sengaja meninggalkan ijazahnya tetapi keputusan sijil pelajaran malaysia spm bertahun-tahun lalu yang dikepilkan dalam surat permohonan menjadikan si penemu duga cuak', 'mustahil spm cemerlang tetapi sijil terbiar begitu saja', 'pegawai sumber manusia yang jadi penemu duga mengasaknya dengan sengaja dia tahu dengan soalan-soalan provokasi dan dia sememangnya malas hendak berputar belit dan bersilat kata lagi', 'memang saya ada ijazah', 'buat masa sekarang saya mencari kerja', 'ini bukan yang pertama', 'dah banyak kerja saya minta tapi belum sangkut', 'tapi saya tak kisah kalau dapat kerja di sini', 'kalau saya diterima saya akan bertugas dengan rajin dan melakukan tugas dengan baik dan amanah pada kerja saya katanya tidak berselindung', 'penemuduga merenungnya dalam-dalam', 'kemudian tersenyum', 'senyuman sinis dia tafsirkan', 'barangkali penemu duga itu sudah muak dan letih mendengar jawapan skima yang lebih kurang sama sahaja bunyinya daripada mulut setiap calon yang ditemu duga', 'awak ada ijazah', 'kerja bancuh teh pun tak apa pegawai itu tersenyum-senyum perli', 'bancuh teh pun kerja juga', 'dapat gaji yang halal', 'walaupun saya ada ijazah tapi saya pandai bancuh teh kopi milo nescafe', 'semua anggota keluarga saya puji minuman saya sedap selamba dia membalas membuatkan si penemuduga ternganga terdiam', 'bijak awak menjawab', 'tak apa nanti kami hubungi si penemuduga mula tunjuk muka bosan padanya', 'dia pun sudah bosan jelak mendengar jawapan begitu', 'dia tahu dia bijak dan barangkali kerana bijak maka dia tidak beroleh kerjaya yang dipohon', 'dia tidak berniat menyindir tetapi sekadar muak dengan pandangan skeptikal orang terhadap graduan muda sepertinya', 'graduan yang selalu dianggap memilih kerja mengada-ada dan terlalu bergantung harap pada kerja kerajaan', 'emak merungut-rungut apabila mendapat tahu dia cuba memohon jawatan-jawatan yang tidak setimpal dengan ijazah miliknya', 'bukan rungutan yang pertama', 'sudah kerap benar', 'tak berbaloi', 'belajar tinggi-tinggi di universiti nak jadi pembantu pejabat tukang bancuh teh', 'kerja juga namanya tu mak dia membalas selamba', 'carilah yang senonoh sedikit tingkah emak tidak puas hati', 'senonohlah tu', 'kalau merompak mencuri membunuh orang menjual diri itu baru tak senono h dia enggan mengalah', 'hujah', 'tersenyum-senyum dia melihat emak mendengus kerana kalah tidak boleh menjawab hujahnya', 'abang sulung abang tunggalnya abang yassin masuk campur pula', 'ikut kerja dengan aku', 'jadi kerani aku', 'senang sikit', 'kak miah bukannya boleh tumpu 100 peratus pada kerja', 'dengan budak-budak dia tak menang tangan abang yassin yang digelar tauke lembu memberi cadangan', 'terdiam dia', 'serentak terbayang lembu-lembu milik abangnya yang selalu mengeruh di kandang', 'jadi penggembala lembu', 'mencontohi liyya dan saffura puteri syuaib dari madyan yang pernah dia baca dalam sira h ', 'dia tersenyum geli hati', 'nanti min fikir dia ambil jalan mudah terlebih dahulu', 'terbayang pula sikap abang yassin yang selalu panas baran', 'bolehkah dia bekerja dengan abangnya itu', 'tetapi belum sempat dia berfikir tok ketua alang karim datang membawa cadangan', 'katanya bekas ahli dewan undangan negeri adun kawasan mereka dahulu datuk kasa sedang mengusahakan suatu projek yang bakal memberikan pulangan pada warga desa', 'tok ketua sebenarnya menawarkan pada emak supaya menyertai program berkenaan', 'emak keberatan menerima dengan alasan tidak kuat dan kurang sihat', 'biar min yang terima', 'emak berikan izinkan saja', 'jadi mak izinkanlah ya', 'dia mengucap syukur dalam hati', 'dia tidak akan bergelar penganggur lagi', 'untuk maklumat lanjut hubungi talian 03-26937784 pada waktu pejabat atau datang sendiri ke unit pengajian dewasa masjid negara kuala lumpur', 'derma pembinaan surau', 'rumah kebajikan anak yatim dan miskin al-munirah klang merayu orang ramai untuk bersedekah dan menginfakkan sumbangan untuk projek pembinaan surau perpustakaan dewan dan pejabat rumah kebajikan berkenaan', 'johan setia 41200 klang selangor', 'pm ajak rakyat tingkatkan kejayaan negara ', 'kuala lumpur 31 dis. datuk seri abdullah ahmad badawi mengajak rakyat terutamanya generasi baru supaya meningkatkan lagi kejayaan negara pada tahun 2007 yang akan dirai serentak dengan ulang tahun ke-50 kemerdekaan negara', 'pada masa yang sama perdana menteri turut meminta masyarakat berbilang kaum supaya mengukuhkan perpaduan bagi membina kekuatan bersama dalam usaha memajukan negara', 'abdullah berkata antara lainnya rakyat boleh menyumbang dengan menokok tambah kejayaan dan kemajuan yang dicapai oleh negara sebelum ini', 'kita perlu berusaha untuk menokok tambah usaha-usaha kita ini dengan lebih gigih lagi dengan menggunakan segala kesempatan dan kemudahan yang jauh lebih baik daripada apa yang wujud sebelumnya terutama semasa kita mula-mula mencapai kemerdekaan katanya dalam perutusan sempena sambutan tahun baru 2007 yang disiarkan menerusi rtm malam ini', 'abdullah berkata kemampuan bangsa malaysia hari ini jauh lebih baik berbanding generasi terdahulu kerana generasi muda kini mempunyai ilmu pengetahuan yang lebih luas', 'di antara mereka ialah golongan profesional pakar serta penyelidik dalam pelbagai bidang yang hari ini sedang menyumbang kepada pembangunan negara', 'sebenarnya golongan yang mempunyai ilmu pengetahuan terutama dalam bidang sains dan teknologi dan juga yang mempunyai ilmu yang berkaitan pelbagai profesion jauh lebih ramai dari masa dahulu', 'ini bermakna kemampuan kita pada hari ini jauh lebih besar lagi katanya', 'beliau bagaimanapun mengingatkan bahawa di samping berusaha untuk meningkatkan pembangunan negara dengan ilmu yang dimiliki rakyat juga perlu memahami faktor yang memberi kekuatan kepada negara untuk terus menikmati kemajuan dan keamanan walaupun selepas 50 tahun merdeka', 'kita perlu ingat bahawa perpaduan antara kaum semangat muhibah sikap tolak ansur sifat bermuafakat itu amatlah penting', 'kita perlu memahami dan bersyukur kepada mereka yang telah pun berusaha bersungguh-sungguh untuk memajukan negara kita katanya', 'lebih penting generasi baru perlu memahami dan mempelajari kaedah yang digunakan oleh pemimpin masa lalu dan berusaha memperbaiki pendekatan itu dengan mengambil kira situasi dan cabaran semasa sebelum diaplikasikan katanya', 'abdullah berkata para pemimpin terdahulu sentiasa berganding bahu dengan pemimpin masyarakat dan pemimpin barisan nasional bn yang mewakili parti politik utama di negara ini sentiasa mengutamakan rakyat bangsa dan negara dalam setiap tindakan mereka', 'muafakat dan kerjasama seperti inilah yang terjalin dalam apa yang dikenali sebagai perkongsian kuasa yang telah menjadikan negara kita satu negara yang dihormati dan dikagumi oleh banyak orang katanya', 'selain itu abdullah berkata dalam mencapai kemajuan yang diharapkan rakyat juga perlu faham tentang saingan dari negara luar serta cabaran globalisasi dan liberalisasi yang menuntut mereka berusaha keras bagi meningkatkan keupayaan dan kemampuan untuk bersaing', 'keupayaan dan kemampuan kita itu mestilah datang daripada kekuatan minda fizikal dan rohani', 'kita perlu menguasai ilmu pengetahuan dalam pelbagai bidang yang boleh memberi manfaat kepada diri kita katanya', 'beliau berkata ini termasuk ilmu pengetahuan dalam bidang sains dan teknologi dan juga ilmu baru yang hari ini menjadi pemangkin pertumbuhan ekonomi seperti ict bioteknologi nanoteknologi', 'mengenai rancangan malaysia kesembilan rmk-9 abdullah berkata walaupun kerajaan telahpun menetapkan kerangka kerja program dan projek namun ia tidak bermakna rakyat tidak boleh menokok tambah dengan projek mereka yang diyakini mampu memberi kejayaan besar', 'abdullah turut mengingatkan rakyat agar sentiasa bersyukur dengan nikmat kurniaan allah', 'bagi orang islam kita memahami jika kita bersyukur atas nikmat yang diberikan oleh allah s.w.t maka allah akan menambahkan lagi nikmatnya kepada kita', 'yang pentingnya kita perlu berusaha', 'semua rakyat malaysia perlu berusaha untuk masa depan yang gemilang katanya sambil mengucapkan selamat menyambut tahun baru', 'warga atm nikmati kenaikan elaun mulai hari ini ', 'pekan 31 dis. satu lagi berita baik', 'kerajaan hari ini meluluskan kenaikan bayaran insentif sabahsarawak biss dan bayaran insentif semenanjung bis kepada warga angkatan tentera malaysia atm berkuat kuasa esok', 'timbalan perdana menteri datuk seri najib tun razak yang mengumumkannya berkata bayaran insentif itu diberikan kepada warga atm yang bertugas di wilayah-wilayah sabahlabuan sarawak atau semenanjung di mana wilayah tersebut merupakan wilayah asal anggota tentera terbabit', 'kadar baru biss melibatkan kenaikan rm93 hingga rm370 sebulan sementara kadar baru bis memperlihatkan kenaikan kadar rm123 hingga rm430 sebulan', 'kadar lama biss dan bis telah berkuat kuasa mulai 1 november 1996 manakala kadar baru yang dipersetujui yang dahulunya merupakan kadar-kadar berlainan mengikut wilayah telah pun diseragamkan ke atas satu kadar tetap sahaja berkuat kuasa 1 januari ini katanya', 'beliau yang juga menteri pertahanan berkata demikian kepada pemberita selepas menghadiri majlis korban dengan kerjasama syarikat telekomunikasi digi yang disiarkan secara langsung menerusi tv9 di kediamannya di sini', 'menurutnya sebanyak 28,584 pegawai dan anggota atm akan menikmati kenaikan kadar baru biss dan bis', 'jelas beliau daripada jumlah itu 14,126 orang terdiri daripada pegawai dan anggota yang bertugas di sabah dan sarawak manakala 14,458 orang lagi adalah mereka yang berkhidmat di semenanjung', 'najib memberitahu dari segi implikasi kewangan kenaikan kadar biss dan bis akan melibatkan pertambahan perbelanjaan sebanyak rm43.4 juta setahun', 'tambahnya daripada jumlah tersebut sebanyak rm19.8 juta setahun adalah merupakan pertambahan kepada biss dan rm23.5 juta setahun untuk bis', 'persetujuan menaikkan kadar bayaran biss dan bis menunjukkan bahawa kerajaan amat prihatin terhadap kebajikan anggota atm dan keluarga mereka', 'pada masa sama ia merupakan penghargaan kerajaan atas sumbangan dan khidmat bakti dicurahkan oleh anggota tentera katanya', 'menurutnya kerajaan juga menaruh keyakinan bahawa anggota atm sentiasa dapat mempertingkatkan komitmen dan kesungguhan mereka dalam menjaga kedaulatan negara', 'semalam najib turut mengumumkan berita baik iaitu penyelarasan dan penurunan cukai jalan bagi semua jenis kenderaan bermotor berkuat kuasa esok', 'tahun 2007 dinanti penuh debaran', 'kuala lumpur 31 dis. menjelang tahun baru tengah malam ini seluruh rakyat malaysia berharap untuk menikmati kehidupan yang harmoni dan berazam untuk terus meningkatkan usaha walaupun bakal berdepan dengan cabaran sepanjang tahun 2007', 'menteri kerja raya datuk seri s. samy vellu ketika mengumumkan kenaikan itu baru-baru ini berkata sebelum keputusan itu diambil satu kajian telah diadakan sejak januari 2005 dan kementerian mendapati kenaikan tol bagi kelima-lima lebuh raya tersebut mesti dilaksanakan bagi mengelakkan kerajaan terpaksa membayar pampasan yang tinggi kepada syarikat konsesi terbabit', 'walaupun ramai yang mengeluh dengan kenaikan itu tetapi mereka sedar kenaikan tol itu adalah perlu kerana mereka mendapat kemudahan infrastruktur kelas pertama', 'bagi pihak kerajaan pula kenaikan itu akan membolehkan wang subsidi ke atas kadar tol yang ditanggung oleh kerajaan selama ini dapat dikurangkan dan penjimatan itu dapat digunakan untuk faedah seluruh rakyat', 'pengguna telefon bimbit prabayar turut diwajibkan mendaftar talian telefon', 'mengikut peraturan itu pengguna terbabit yang gagal mendaftar nombor telefon bimbit prabayar perkhidmatan mereka secara automatik tamat pada pukul 12 tengah malam pada 30 disember 2006', 'ketua bahagian komunikasi korporat suruhanjaya komunikasi dan multimedia skmm adelina iskandar berkata pengguna yang telah diberhentikan perkhidmatan tersebut kini perlu membeli nombor yang baru', 'tambahnya setelah membeli nombor baru pengguna berkenaan perlu juga mendaftarkan nombor prabayar mereka itu', 'ketika ditanya mengenai jumlah pengguna yang telah diberhentikan perkhidmatan adelina berkata pihaknya tidak dapat mengeluarkan maklumat itu kerana perkara tersebut perlu dikemukakan kepada kabinet terlebih dahulu', 'ketika ini terdapat kira-kira 18 juta pengguna telefon prabayar di negara ini dan jumlah mereka yang telah mendaftar adalah sebanyak 14.6 juta pengguna', 'berhubung isu buku teks semua pelajar yang tidak layak menikmati skim pinjaman buku teks spbt masih perlu membeli buku teks untuk kegunaan mereka semasa sesi persekolahan 2007 kerana pemberian secara automatik hanya akan dilaksanakan pada 2008', 'timbalan menteri pelajaran datuk noh omar baru-baru ini berkata syarat-syarat kelayakan untuk mendapatkan pinjaman buku teks masih sama iaitu terhad kepada pelajar yang ibu bapa mereka berpendapatan rm2,000 ke bawah sebulan', 'kerajaan mengumumkan langkah untuk menurunkan cukai jalan bagi semua jenis kenderaan berkuat kuasa 1 januari 2007 hari ini', 'pengurangan cukai membabitkan lapan kategori kenderaan termasuk kereta persendirian milik individu kereta milik syarikat dan kenderaan selain kereta milik individu atau syarikat', 'cukai jalan untuk motosikal teksi kereta sewa bas dan kenderaan perdagangan barangan turut diturunkan atau diselaraskan', 'mengikut struktur baru cukai jalan itu kereta proton wira 1,468cc di semenanjung yang sebelum ini dikenakan cukai jalan sebanyak rm106.80 akan diturunkan kepada rm90', 'langkah kumpulan wang simpanan pekerja kwsp untuk melaksanakan penstrukturan semula akaun pencarum- pencarumnya mulai selasa ini 2 januari 2007 membolehkan pencarum mendapat jumlah simpanan persaraan yang lebih besar selain langkah itu membantu memperkemaskan pengeluaran perumahan pendidikan dan kesihatan', 'penstrukturan itu akan menyaksikan akaun ahli-ahli kwsp digabung menjadi dua berbanding tiga akaun masa ini', 'bagi penduduk sarawak dan sabah langkah syarikat penerbangan tambang murah negara airasia bhd. memperkenalkan penerbangan harian kesembilannya dari kuching ke kuala lumpur dan kuala lumpur ke kota kinabalu mulai khamis ini 4 januari 2007 bukan sahaja disambut baik oleh penduduk tetapi juga akan dapat meningkatkan kemasukan pelancong ke negara ini', 'keputusan itu dibuat berikutan permintaan yang kukuh terhadap sektor laluan utama itu', 'malaysian airline system bhd. mas pula akan melaksanakan struktur tambang antarabangsa yang lebih fleksibel pada tahun ini 2007 dengan kadar harga boleh berubah-ubah di dalam tempoh seminggu', 'kerajaan memberi penekanan terhadap tahap keselamatan di pintu masuk sempadan malaysia apabila semua teksi thailand termasuk motosikal yang dijadikan teksi tidak lagi dibenarkan memasuki negara ini untuk mengambil penumpang dan undang-undang itu akan mula dikuat kuasa isnin ini 1 januari 2007', 'walaupun berdepan dengan pelbagai cabaran namun tahun 2007 bukan sahaja dinantikan dengan penuh debaran tetapi dengan azam yang kuat untuk terus mencipta kegemilangan dan kecemerlangan', 'korban banjir johor meningkat 13 orang ', 'johor bahru 31 dis. jumlah korban akibat bencana banjir yang melanda negeri johor meningkat kepada 13 orang dengan penemuan mayat seorang remaja berusia 18 tahun di kilometer 68 jalan muar-labis di muar pada pukul 2.20 petang ini', 'menurut jurucakap bilik gerakan banjir ibu pejabat polis kontinjen negeri johor mangsa terbabit ialah mohd. farizan mokhtar 18 yang dilaporkan hilang pukul 9 malam tadi selepas dihanyutkan arus banjir di kampung durian condong muar', 'mayat mangsa ditemui oleh pasukan penyelamat pada pukul 2.20 petang setelah gerakan mencari dijalankan oleh polis dan bomba sejak malam tadi katanya ketika dihubungi di sini hari ini', 'jelas jurucakap itu mayat mangsa telah dibawa ke hospital tangkak di muar untuk bedah siasat', 'dalam pada itu menurut jurucakap tersebut cuaca cerah di beberapa daerah menyaksikan keadaan banjir semakin pulih dengan jumlah mangsa banjir menurun kepada 50,448 orang', 'katanya keadaan tersebut memperlihatkan daerah kluang pulih sepenuhnya berikutan semua pusat pemindahan sementara di daerah tersebut telah ditutup', 'jurucakap itu memberitahu sehingga kini sebanyak 151 pusat pemindahan sementara masih beroperasi manakala 171 pusat pemindahan telah ditutup hari ini', 'menurutnya daerah yang mencatatkan jumlah mangsa banjir tertinggi ialah batu pahat dengan 29,792 mangsa diikuti muar yang mencatat jumlah mangsa 18,928 orang', 'jumlah mangsa yang dicatatkan di daerah kota tinggi ialah 795 orang segamat 667 johor bahru 60 dan mersing 206 katanya', 'sementara itu jelasnya beberapa jalan utama di muar segamat dan batu pahat terus ditutup berikutan dinaiki air banjir dan tidak boleh dilalui kenderaan', 'budak perempuan korban terbaru ', 'muar 31 dis. seorang kanak-kanak perempuan berusia satu tahun 10 bulan menjadi mangsa terbaru korban akibat banjir apabila dia ditemui mati di kampung solok tangkak dekat sini semalam', 'mangsa nor aliza azwani abdul razak dipercayai mati setelah terjatuh ke dalam parit di hadapan rumahnya', 'sewaktu kejadian mangsa ditinggalkan oleh ibu bapanya bersama enam abang dan kakaknya serta seorang ibu saudara berusia 17 tahun', 'anak ketujuh pasangan abdul razak mokhtar 29 dan nor kamariah jamil 27 itu ditemui mati dalam parit sedalam 0.2 meter itu oleh abang keduanya yang berusia 10 tahun kira-kira pukul 6 petang', 'abdul razak yang bekerja sendiri berkata ketika kejadian dia dan isteri keluar menziarah saudara di bukit gambir dekat sini', 'anak saya sebelum ini tidak pernah ditinggalkan setiap kali saya dan isteri keluar rumah', 'saya juga tidak menyangka kali pertama dia ditinggalkan peristiwa itu berakhir dengan kehilangannya buat selama-lama katanya sayu di sini hari ini', 'menurutnya sebelum dia dan isteri keluar rumah kira-kira pukul 2 petang mereka bercadang tidak membawanya', 'sementara itu nor kamariah berkata anaknya itu dipercayai keluar rumah sewaktu abang dan kakaknya leka menonton televisyen', 'katanya nor aliza azwani dipercayai terjatuh ke dalam parit di tepi jalan berdekatan rumahnya sehingga mengakibatkan dia meninggal dunia kerana lemas', 'sementara itu ketua polis daerah muar asisten komisioner mohd. nizar mohd ali ketika dihubungi berkata polis mengklasifikasikan kejadian itu sebagai mati mengejut', 'amaran angin kencang ombak 4.5m ', 'kuala lumpur 31 dis. ombak setinggi 4.5 meter dan laut bergelora di perairan pantai timur semenanjung malaysia sabah dan sarawak dijangka berlarutan hingga lewat esok', 'menurut kenyataan jabatan meteorologi tengah hari ini angin kencang hingga selaju 50-60 km sejam dianggap berbahaya kepada semua kegiatan pelayaran termasuk menangkap ikan dan perkhidmatan feri', 'jabatan itu meramalkan ribut petir yang merebak di bahagian tengah laut china selatan dijangka berlarutan hingga khamis depan', 'bagaimanapun ribut petir di perairan luar pantai sabah sarawak dan johor timur dijangka berakhir lewat esok', 'tiga dicari bantu siasatan kes curi alat komputer ', 'bukit mertajam 31 dis. polis mencari tiga lelaki termasuk seorang anggota polis berpangkat lans koperal bagi membantu siasatan ke atas kes kecurian peralatan komputer bernilai rm2 juta di sebuah gudang transit di juru dekat sini ahad lepas', 'ketua polis daerah seberang perai tengah spt asisten komisioner mohamad anil shah abdullah berkata mereka ialah r. marimuthu 39 rosli hamid 39 dan wong hong kiat 40 yang berasal dari butterworth dan bahagian pulau', 'marimuthu ialah bekas pengawal keselamatan hong kiat ialah peniaga manakala rosli ialah anggota polis yang digantung tugas kerana disyaki terlibat dalam satu kes jenayah katanya', 'beliau berkata demikian pada sidang akhbar di ibu pejabat polis daerah ipd spt di bandar baru perda di sini hari ini', 'semalam ketua jabatan siasatan jenayah negeri senior asisten komisioner ii abdul samah mat berkata sebanyak 10 suspek termasuk dua wanita yang merupakan pekerja gudang pengawal keselamatan dan orang luar ditahan bagi membantu siasatan kes kecurian tersebut', 'abdul samah berkata 10 orang berusia di antara 20 hingga 40 tahun itu ditahan sejak rabu lepas di sekitar seberang perai utara dan seberang perai tengah kerana disyaki terlibat dalam kes kecurian itu', 'mohamad anil memberitahu rosli yang kali terakhir bertugas di ibu pejabat kontinjen polis ipk negeri digantung tugas setelah disyaki terlibat dalam kes menipu yang disiasat mengikut seksyen 420 kanun keseksaan', 'menurutnya rosli kini dilepas tanpa dibebas oleh mahkamah sementara menunggu keputusan mahkamah', 'beliau berkata alamat terakhir rosli ialah di blok 1k-4-4 lebuh raya than teik air itam pulau pinang alamat marimuthu ialah di jalan berlian 2 bagan ajam manakala alamat hong kiat ialah di lorong mamba 1 bagan ajam butterworth', 'hasil siasatan terhadap 10 orang suspek yang ditahan sebelum ini mendapati tiga lelaki ini boleh membantu polis dalam menyelesaikan kes kecurian ini jelasnya', 'justeru orang ramai atau mana-mana pihak yang mempunyai maklumat mengenai tiga lelaki berkenaan diminta menghubungi pegawai penyiasat kanan asisten supritendan s.subramaniam di talian 04-5382 222 atau 019-6351 119', 'sementara itu mohamad anil berkata polis mendapat perintah tahan reman ke atas 10 suspek tersebut bermula 26 disember lepas hingga 3 januari ini', 'dua disyaki anggota geng lo han ditembak mati ', 'miri 31 dis. polis sarawak menembak mati dua penjenayah dipercayai anggota geng lo han di sini malam tadi', 'dua penjenayah itu ialah ngu huat leong 22 dan kho chee kiat 22 dari sibu', 'mereka ditembak mati di sebuah rumah mewah di lot 4337 desa senadin kira-kira pukul 8 malam', 'menurut jurucakap polis chee kiat dan huat leong amat dikehendaki polis sibu kerana dipercayai terbabit dalam pelbagai siri jenayah rompakan bersenjata dan bunuh sekitar wilayah tengah sarawak', 'kata polis kedua-dua mereka turut dikenal pasti sebagai penjenayah berbahaya serta dipercayai memiliki senjata api', 'sementara itu pesuruhjaya polis sarawak datuk talib jamal ketika dihubungi pagi ini memberitahu polis belum bersedia memberi kenyataan mengenai kes tersebut', 'kita sedang menumpukan gerakan menjejaki ketua kumpulan itu yang dikenali sebagai ho lan katanya', 'beliau berkata kenyataan media hanya akan dibuat jika ia tidak menjejaskan siasatan dan gerakan polis', 'polis perlukan sedikit masa untuk melengkapkan siasatan dan mengesan anggota geng berkenaan yang kini masih bebas katanya', 'difahamkan sebelum ini polis telah menubuhkan pasukan khas dianggotai polis sibu dan kuching bagi menjejaki kumpulan penjenayah berbahaya itu', 'penubuhan pasukan khas itu akhirnya berjaya menemukan petunjuk untuk mengesan pergerakan kumpulan terbabit di kawasan utara negeri ini', 'semasa serbuan malam tadi polis turut menemui beberapa senjata berbahaya selain sebuah kereta jenis nissan yang digunakan oleh kumpulan itu', 'dalam pada itu mayat kedua-dua penjenayah terbabit telah dihantar ke rumah mayat hospital miri kira-kira pukul 12 malam selepas polis selesai menjalankan siasatan di kediaman berkenaan', 'polis trafik cedera dirempuh mat rempit ', 'kuala lumpur 31 dis. seorang anggota polis trafik cedera setelah dirempuh seorang mat rempit dalam satu operasi mencegah lumba haram sekitar pusat bandar malam tadi', 'dalam operasi pukul 12 tengah malam hingga 4 pagi itu tiga remaja berusia lingkungan 15 dan 16 tahun termasuk seorang yang disyaki merempuh anggota terbabit ditahan', 'timbalan ketua trafik kuala lumpur deputi supritendan shafien mamat berkata seorang daripada mereka cuba melarikan diri tetapi akhirnya berjaya ditahan', 'kita sedang siasat sama ada motosikal yang ditunggang remaja terlibat adalah motosikal curi katanya kepada utusan malaysia di sini hari ini', 'dalam operasi itu dua motosikal dirampas dan kira-kira 300 saman dikeluarkan terhadap penunggang dan pemilik motosikal atas pelbagai kesalahan', 'seramai 25 anggota dan empat pegawai dari polis trafik cawangan jalan bandar terlibat dalam operasi itu', 'wartawan nyaris dibelasah selepas tegur mat rempit ', 'baling 31 dis. seorang wartawan utusan malaysia nyaris dibelasah oleh sekumpulan mat rempit yang tidak berpuas hati selepas ditegur oleh wartawan itu di taman mesra kupang di sini awal pagi ini', 'wartawan tersebut dikatakan menegur perbuatan mat rempit berkenaan kerana berkelakuan biadap dan membuat bising serta menunjukkan aksi bahaya di sekitar kawasan berhampiran taman tersebut', 'dalam kejadian kira-kira pukul 12.45 pagi itu wartawan terbabit cuba menakut-nakutkan kumpulan mat rempit berkenaan dengan tujuan menghalau dan menghentikan perbuatan mereka', 'bagaimanapun katanya salah seorang mat rempit berkenaan tiba-tiba meluru ke arah wartawan tersebut dan hampir membelasahnya dipercayai ekoran tidak berpuas hati setelah ditegur', 'melihatkan tindakan mat rempit yang berusia lingkungan 20-an itu semakin berani dan seolah-olah hilang kawalan saya mengambil keputusan untuk beredar dari situ katanya di sini hari ini', 'menurut wartawan itu dia telah membuat laporan polis berhubung kejadian tersebut di balai polis kupang tengahari ini', 'sementara itu timbalan ketua polis baling deputi supritendan khamis hamzah ketika dihubungi mengesahkan menerima laporan berkenaan', 'katanya polis akan menjalankan siasatan lanjut berhubung kejadian tersebut', 'malaysia mampu muncul pengeksport ubi kayu dunia ', 'pasir puteh 31 dis. malaysia mampu muncul sebagai negara pengeksport ubi kayu dunia selepas thailand apabila projek penanaman jangka pendek menggunakan cassava tapioca dari spesies rayon 60 dilaksanakan di seluruh kelantan pada pertengahan tahun depan', 'presiden dan ketua eksekutif pubel bhd. pubel mohd zahari awang berkata dalam tempoh terdekat sebuah kilang memproses ubi kayu bernilai rm10.3juta akan dibangunkan di tawang bachok dengan sasaran keluaran hasil pemerosesan sebanyak 100 tan metrik sehari', 'pubel adalah syarikat tempatan yang memiliki rangkaian pemasaran antarabangsa termasuk di itali dan brazil bagi pasaran bahan ubi kepada industri berat di amerika latin dan eropah manakala bagi pasaran asia berpangkalan di indonesia', 'mohd zahari berkata kilang di tapak seluas 1.38 hektar itu akan dilengkapi dengan pusat pembenihan baka makmal penyelidikan dan kuarters kakitangan', 'beliau berkata permintaan ubi kayu dunia sebanyak 48.5 juta tan metrik setahun bagi industri berat tekstil dan papan lapis akan menjana ekonomi petani setempat sekiranya penanaman ubi kayu berjaya dilaksanakan secara produktif', 'syarikat ini menyasarkan lebih 20 juta tan metrik setahun bagi mengimbangi bekalan ubi kayu thailand yang menguasai pasaran dunia sekarang kata beliau di sini baru-baru ini', 'selain kelantan projek yang sama juga diadakan di johor perak dan selangor melibatkan melibatkan kawasan tanah terbiar seluar 2,528 hektar', 'mohd zahari berkata cara penanaman tidak terurus sebelum ini menyebabkan komoditi berkenaan gagal memberikan hasil lumayan walaupun permintaan dunia adalah tinggi dan malaysia mempunyai iklim yang sesuai untuk tanaman itu', 'beliau berkata pubel dan uni-bio base international akan menjadi penggerak kepada sebilangan besar penanam tembakau di pasir puteh dan bachok untuk mengusahakan ladang kontrak ubi kayu sebagai projek perintis sebelum diperluaskan di kota bharu pasir mas kuala krai tanah merah gua musang jeli dan tumpat', 'dalam tempoh terdekat katanya negara china turut memerlukan bekalan ubi kayu untuk industri makanan ternakan haiwan', 'hasil kajian dan penemuan universiti putra malaysia upm menunjukkan sianida atau toksid semulajadi yang ada boleh digunakan sebagai linamarin yang mampu mematikan sel kanser', 'ubi kayu turut berpotensi dalam penghasilan bio-diesel yang tinggi berbanding kos pemprosesan dan ia mampu dilaksanakan kata beliau lagi', 'bursa saham dunia kembali ceria akhir tahun ', 'new york 31 dis. tahun ini bursa-bursa saham dunia menyaksikan kembalinya keceriaan dalam pasaran melalui catatan rekod kenaikan keuntungan yang besar dan suasana peningkatan harga yang tidak dilihat berlaku sebelumnya sejak lonjakan saham-saham syarikat dot-com', 'pada tahun lalu pelabur terlepas pandang terhadap kenaikan harga minyak ketidaktentuan geopolitik dan ketidakseimbangan ekonomi yang menyebabkan petunjuk-petunjuk utama berada pada paras yang terakhir dilihat ketika sebelum memasuki abad ini', 'di pasaran new york indeks saham mewah dow jones berada di atas paras 12,500 mata buat pertama kali dalam sejarahnya di minggu terakhir tahun ini', 'di london paris dan frankfurt indeks petunjuk mereka mencapai paras tertinggi sebelum berlakunya kejatuhan harga saham syarikat-syarikat dot-com', 'di asia pencapaian yang memberangsangkan juga dicapai dengan indeks hang seng di bursa hong kong melepasi paras 20,000 mata buat pertama kali khamis lalu dan mencatat keuntungan sebanyak 34.2 peratus bagi tahun ini', 'indeks utama di shanghai untung 130.47 peratus manakala di mumbai ia meningkat 47 peratus', 'bursa jepun bagaimanapun menunjukkan prestasi yang mengecewakan dengan mencatatkan kenaikan hanya 1.9 peratus bagi indeks topix meskipun indeks nikkei untung 6.9 peratus', 'keceriaan pada tahun 2006 disumbang oleh sejumlah faktor terutamanya prestasi ekonomi dunia yang kukuh tahun ini mencatatkan peningkatan untuk tahun keempat berturut-turut', 'indeks saham amerika syarikat as menunjukkan kekukuhan yang mengejutkan', 'indeks saham mewah dow jones akhirnya berjaya menghapuskan kerugiannya dan memecah rekod paras tertinggi yang dicatatkan sebelum kejatuhan saham syarikat-syarikat dot-com yang bermula pada tahun 2000', 'pelaburan dan perkembangan di china dan india serta kekukuhan berterusan ekonomi as diramalkan akan membolehkan keluaran dalam negara kasar sebanyak 4.9 peratus dicapai tahun ini demikian menurut tabung kewangan antarabangsa', 'peningkatan dalam ekonomi sejagat membolehkan syarikat-syarikat besar yang disenaraikan di bursa-bursa saham utama dunia mencatat untung yang tinggi dan juga menjanjikan pertumbuhan yang seterusnya pada tahun depan', 'permintaan tinggi terhadap minyak yang menyebabkan lonjakan harga bahan itu ke paras rekod tertinggi dalam sejarahnya sebanyak as$78 rm273 setong pada bulan julai lalu menggalakkan kenaikan harga saham syarikat-syarikat minyak utama', 'selain pertumbuhan yang menggalakkan dan paras kecairan yang tinggi tahun 2006 juga mencatatkan rekod bagi penggabungan dan pengambilan alih terutamanya disebabkan oleh meningkatnya kegiatan oleh dana-dana pelaburan', 'menurut data thompson financial nilai pengambilan alih korporat meningkat 30 peratus pada tahun 2006 berbanding tahun 2005 untuk mencatat rekod baru yang berjumlah as$3.6 trilion rm12.60 trilion sepanjang tempoh 12 bulan yang lalu', 'namun begitu kebimbangan masih menyelubungi ekonomi dunia terutamanya berkaitan perdagangan as dan defisit akaun semasa selain peningkatan yang melampau harga pasaran hartanah di banyak negara maju dan paras hutang pengguna yang tinggi', 'urusniaga saham tahun baru lembab ', 'kuala lumpur 31 dis. bursa malaysia dijangka mengalami dagangan lengang dalam beberapa hari pertama tahun baru disebabkan minggu yang dipendekkan oleh cuti umum manakala harga-harga berkemungkinan menjadi lebih lengang setelah aktiviti-aktiviti memperelok saham hujung tahun oleh dana-dana tempatan kata para peniaga', 'pasaran mungkin tidak menentu dengan hanya tiga hari dagangan memandangkan kebanyakan pengurus dana masih berhati-hati dalam suasana cuti hujung tahun dan tahun baru', 'indeks komposit mungkin menjunam di bawah paras 1,080 mata kata seorang penganalisis daripada sebuah firma pembrokeran saham tempatan', 'bagaimanapun beliau berkata asas-asas pasaran adalah kukuh dirangsang oleh harga-harga minyak dunia yang tidak berganjak dan kemantapan nilai ringgit', 'kata beliau lagi ik mungkin jatuh ke paras 1,150 sebelum melepasi 1,300 pada tahun 2007 berikutan asas-asas ekonomi yang kukuh', 'perhatikan kaunter-kaunter pembinaan dan perladangan kerana kaunter-kaunter ini akan mendapat faedah daripada pelaksanaan projek-projek rancangan malaysia kesembilan rmk-9 dan juga harga minyak sawit yang lebih tinggi dalam pasaran global kata beliau', 'hari khamis lalu harga-harga niaga hadapan minyak sawit melonjak ke paras tertingginya sejak bulan januari 1999 apabila hujan lebat menjejaskan dua pengeluar minyak sawit terbesar dunia indonesia dan malaysia mengekang pengeluaran selanjutnya', 'adalah dilaporkan bahawa minyak sawit bagi penghantaran bulan mac di bursa derivatif malaysia semalam naik rm37 atau 1.9 peratus untuk ditutup pada rm2,032 setan penutupan tertinggi sejak 22 jan 1999', 'pada asas minggu ke minggu indeks komposit merangkumi 100 saham berkualiti ditutup 16.52 mata lebih tinggi kepada 1,096.24 dari 1,079.72 hari jumaat lepas indeks papan kedua naik 1.86 mata kepada 92.03 dari 90.17 dan indeks perusahaan naik 39.14 mata kepada 2,225.47 dari 2,186.33', 'indeks mesdaq adalah 4.47 mata lebih tinggi kepada 119.92 berbanding 115.45', 'setakat jumaat siri-siri indeks financial times stock exchange-bursa malaysia ftse-bm memperlihatkan fbmemas ditutup pada 7,136.40', 'fbmflg pada 6,717.74 fbmscap 7,465.6 fbm30 7,049.72 fbm70 7,282.01 fbm100 7,109.97 dan fa40 pada 7,484.73', 'dalam minggu ini dagangan dikuasai oleh beberapa pembelian saham semasa harga murah dan pembelian susulan di kalangan saham-saham mewah saham harga rendah dan saham bermodal sederhana kecil yang disokong oleh berita berkembangan korporat yang positif', 'mereka termasuk kaunter-kaunter seperti tenaga nasional misc dan public bank yang menyebabkan pedagang-pedagang yang ghairah menolak naik nilai dagangan untuk mencecah rm1.172 bilion hari jumaat', 'minat yang teguh daripada broker-broker asing terhadap saham-saham perladangan perbankan dan kaunter-kaunter berkaitan simen turut membantu meransang pembelian dalam kaunter-kaunter seperti ioi corp kuala lumpur kepong klk dan ppb oil palm', 'perkembangan korporat seperti cadangan naza group untuk memperolehi kepentingan di dalam proton holdings bhd., dan desas-desus malaysian resources corp bhd. menawarkan untuk membeli kepentingan kawalan dalam talam corp bhd. meningkatkan minat para pelabur', 'mrcb juga meningkat lebih tinggi kerana laporan yang ia bergabung dengan capitaland m investments pte. ltd. dan quill construction sdn bhd untuk membangunkan bersama projek rm650 juta di kl sentral', 'menjelang hujung minggu proton menambah lima sen kepada rm6.60 mrcb naik satu sen kepada rm1.04 dan talam kekal pada 22 sen', 'di tempat-tempat lain airasia bhd. turut meningkat kerana jangkaan keputusan terbaik bagi tiga bulan hingga bulan disember disebabkan pengukuhan ringgit dan harga-harga bahan bakar yang lebih rendah', 'ia meningkat dua sen kepada rm1.51', 'kaunter papan kedua baru disenaraikan resintech bhd. pengeluar paip plastik dan tangki air gentian kaca disenaraikan pada hari rabu lepas', 'saham itu yang dibuka pada premium 19 sen melebihi harga tawarannya 70 sen dengan 12,021 lot diniagakan mengakhiri minggu ini pada 84 sen turun satu sen', 'jumlah dagangan bagi minggu ini menurun kepada 2.957 bilion saham bernilai rm3.407 bilion berbanding 4.075 bilion saham bernilai rm6.357 bilion minggu sebelumnya', 'bagi papan utama jumlah dagangan turun kepada 1.790 bilion saham bernilai rm2.758 bilion dari 2.534 bilion saham bernilai rm5.523 bilion manakala jumlah dagangan papan kedua turun kepada 265.081 juta saham bernilai rm173.433 juta from 333.157 juta saham bernilai rm218.933 juta', 'jumlah dagangan pasaran mesdaq jatuh kepada 553.881 juta saham bernilai rm292.982 juta dari 784.419 juta saham bernilai rm347.523 juta manakala jumlah dagangan waran-waran panggilan turun kepada 263.522 juta saham bernilai rm182.734 juta berbanding dengan 422.811 juta saham bernilai rm207.580 juta', 'urusniaga langsung mengecil kepada 209.113 juta saham bernilai rm226.397 juta dari 365.466 juta saham bernilai rm650.574 juta minggu sebelumnya', 'kualiti pendidikan kita setanding negara maju ', 'pada pertengahan bulan disember kementerian pengajian tinggi telah menganjurkan satu lawatan kerja ke united kingdom yang disertai oleh pemimpin pelajar dari semua institusi pengajian tinggi awam ipta di malaysia selama seminggu', 'daripada pemerhatian serta maklumat yang diperoleh pada beberapa sesi dialog yang telah diadakan saya berpendapat malaysia sebenarnya tidak jauh di belakang terutama dalam aspek pendidikan', 'united kingdom adalah gabungan empat buah negara iaitu england wales scotlang dan ireland utara', 'england adalah seluas 130,395 kilometer persegi dengan bilangan penduduknya mencapai 51 juta orang', 'england sering dipandang tinggi oleh penduduk malaysia terutama dari aspek pengajian tinggi dengan kehadiran sejumlah universiti bertaraf dunia seperti universiti oxford dan cambridge', 'beza antara universiti di england dan di malaysia adalah universiti di england kebanyakannya tidak berbentuk kampus yang berpagar', 'bangunan universiti dibina di tengah-tengah bandar di antara bangunan-bangunan lain', 'mereka berpendapat dengan konsep sebegini interaksi antara universiti dengan kawasan setempat lebih jelas', 'selain itu mahasiswa di sana dikatakan lebih bebas untuk bersuara sama ada di ruangan pidato atau menulis dalam akhbar mereka sendiri', 'ini menyebabkan terdapat banyak akhbar di england sehinggakan ada akhbar yang diedarkan secara percuma', 'pengedaran akhbar percuma ini secara tidak langsung menggalakkan budaya membaca di kalangan penduduk di sana', 'adakah perbezaan ini menyebabkan kualiti pendidikan malaysia ketinggalan berbanding uk', 'saya kurang bersetuju', 'majoriti universiti di malaysia berbentuk kampus berpagar kerana ia bukan sekadar menjadi tempat menimba ilmu tetapi persediaan menghadapi alam pekerjaan', 'penekanan aspek disiplin dapat dilaksanakan dengan lebih mudah di samping penerapan nilai perpaduan kaum dapat diselitkan bersama']\n"
          ],
          "name": "stdout"
        }
      ]
    },
    {
      "cell_type": "code",
      "metadata": {
        "colab": {
          "base_uri": "https://localhost:8080/"
        },
        "id": "oqyt88E92b2P",
        "outputId": "5034dce2-db36-4b6e-d60f-c17db062ffb9"
      },
      "source": [
        "with open(filepath + 'unnorm.txt', 'r',encoding='cp1252') as f:\n",
        "\n",
        "    testoutput = f.read().split('\\n')\n",
        "\n",
        "print(testoutput)"
      ],
      "execution_count": null,
      "outputs": [
        {
          "output_type": "stream",
          "text": [
            "['\"Berkoban adalah satu bentuk ujian daripada Allah s.w.t. ', 'kerana dalam menjalani kehidupan di dunia ini, kita harus melakukan pengorbanan. ', 'Hidup tanpa pengorbanan adalah kehidupan yang gagal.', 'Dalam menjalani hidup yang baik, kita mesti berkorban masa dan tenaga misalnya berusaha mencari rezeki yang halal bagi mengelakkan kemiskinan. ', 'a merupakan tuntutan hidup,\" kata pensyarah Jabatan Dakwah dan Pembangunan Insan, Akademi Pengajian Islam, Universiti Malaya, Roslan Mohamed mengenai konsep berkorban dalam Islam.', 'Korban berasal daripada perkataan Arab iaitu udhiyah.', 'a menjurus kepada peristiwa pengorbanan satu keluarga iaitu Nabi Ibrahim dan isterinya, Hajar yang sanggup mengorbankan sesuatu yang amat mereka sayangi iaitu anaknya, Nabi Ismail demi kasih dan cinta kepada Allah s.w.t.', '\"Ini adalah nilai pengorbanan yang cukup tinggi di sisi Allah s.w.t. ', 'kerana ia bukan sahaja menguji kesabaran Nabi Ibrahim tetapi menduga sejauh mana ketakwaan Nabi Ibrahim. ', 'Maka Allah s.w.t. menggantikan tempat Nabi Ismail dengan seekor biri-biri.', '\"Sebagai orang Islam yang beriman, elakkan perasaan rugi dan sia-sia atas pengorbanan yang dilakukan kerana sesungguhnya Allah s.w.t. ', 'akan menggantikannya dengan sesuatu yang lebih baik,\" katanya yang merujuk kepada surah as-Saffat, ayat 100 hingga 111.', 'Dalam Islam, Allah s.w.t. menggalakkan umatnya memiliki sifat berkorban demi membantu orang yang kurang bernasib baik. ', 'Memetik kata-kata Saidina Ali bin Abi Talib: \"Bahawa apabila kita dapat korbankan sesuatu yang paling berharga untuk orang lain, kelebihan yang akan kita peroleh nanti lebih daripada yang dikorbankan.', '\"Oleh itu, dalam melakukan sesuatu pengorbanan, jangan menganggapnya sebagai sia-sia tetapi sebagai satu cara untuk mendapat peluang yang lebih baik. ', 'Allah s.w.t. menjanjikan ganjaran pahala kepada mereka yang sanggup melakukan pengorbanan dan beramal kebajikan kepada mereka yang memerlukan bantuan,\" ujar Roslan.', 'Mengenai konsep mengorbankan binatang pada hari-hari tasyrik, secara idealnya adalah lambang kepada sebuah pengorbanan yang menuntut makna tersirat di sebalik yang tersurat. ', 'Konsep ibadah korban lebih luas dan mampu melahirkan insan yang berwawasan serta memiliki anjakan paradigma.', '\"Jika dikaitkan ibadah korban dengan realiti semasa hari ini, kita boleh dianggap sebagai gagal sekiranya tidak dapat berkorban untuk orang lain walaupun mampu untuk mengorbankan seekor lembu atau unta.', '\"Dalam konteks ini, kita harus memperbetulkan persepsi dalam masyarakat. ', 'Ramai yang mampu mengorbankan binatang tetapi dalam erti kata sebenar tidak dapat menjiwai pengertian korban,\" kata Roslan mengaitkan ibadah korban dengan pengertian pengorbanan.', 'Untuk menyemai semangat pengorbanan yang semakin hilang penghayatannya, beliau berkata, ibu bapa boleh menterjemahkannya dalam bentuk amalan harian dengan menunjukkan teladan yang baik kepada anak-anak. ', 'Secara tidak langsung, tindakan ini akan melahirkan anak-anak yang mudah membantu orang lain yang kurang bernasib baik.', '\"Kita perlu lahirkan keluarga yang ada nilai-nilai pengorbanan kerana pada hari ini, masyarakat Islam khususnya melalui transformasi dunia yang penuh cabaran.', '\"Sudah sampai satu tahap, umat Islam jangan hanya sekadar membaca sejarah dan kisah mengenai Nabi Ibrahim sebaliknya melihat erti pengorbanan dalam konteks yang lebih luas,\" katanya.', 'Senario menarik yang turut berkait dalam isu pengorbanan ialah penglibatan ramai remaja Islam dengan gejala sosial seperti mat rempit, menghisap dadah, pelacuran dan sebagainya. ', 'Bagi membanteras permasalahan ini, banyak pihak perlu tampil untuk menyelamatkan remaja yang telah terkorban jiwa dan akhlak mereka akibat terpengaruh dengan rentak dunia yang semakin mencabar.', 'Tegas beliau, erti pengorbanan masih belum diungkap sepenuhnya kerana persepsi masyarakat yang mengaitkannya dengan pemikiran yang sempit. ', 'Pengorbanan yang jelas dapat diungkap apabila anak-anak berkorban menjaga ibu bapa yang sakit, suami menjaga isteri yang sakit, isteri menjaga suami yang sakit atau ada yang mengorbankan kehidupan mereka demi memberi nafas baru kepada golongan kurang bernasib baik.', 'Mengenai umat Islam luar negara yang ditindas seperti mana yang berlaku di negara-negara barat, Roslan berkata, pengorbanan yang boleh dilakukan untuk membantu mereka ialah sentiasa berdoa kepada Allah s.w.t. ', 'memohon kesejahteraan mereka selain menghulurkan bantuan dari segi tenaga dan kewangan.', 'Dalam situasi begini juga, umat Islam perlu memiliki sifat hiba, sedih dan marah apabila melihat saudara seIslam ditindas dan hak mereka diketepikan.', 'Semangat berkorban perlu dijadikan satu budaya agar ia sebati dalam kehidupan seluruh umat manusia. ', 'Situasi ini akan menjana keutuhan masyarakat secara keseluruhannya sebagaimana sabda Rasulullah s.a.w. ', 'yang bermaksud: Sesiapa yang tidak mempedulikan orang Islam yang lain, maka dia bukan dari kalangan orang Islam.', 'Dalam erti kata lain, budaya berkorban yang diterapkan dalam masyarakat mampu menghindarkan sifat dendam, dengki, khianat dan perbalahan sebaliknya membina umat Islam yang ampuh dan berkualiti.', '\"Dalam Islam, pengorbanan ialah melakukan apa yang mampu kita lakukan termasuk korbankan masa, wang ringgit dan tenaga untuk membantu orang lain yang dalam kesusahan. ', 'Contohnya, dalam korban binatang, ada usaha rakyat Malaysia yang melakukannya di Kemboja, Vietnam dan Thailand,\" jelas Roslan.', 'Menurut beliau, seseorang yang tidak pernah berkorban untuk orang lain sebenarnya tidak menghargai kehidupan yang dilaluinya di dunia. ', 'Pepatah ada menyebut, buat baik berpada-pada, buat jahat jangan sekali. ', 'Apabila seseorang membantu orang lain yang dalam kesusahan, bantuan itu akan diingat dan dikenang hingga ke akhir hayat. ', 'Secara tidak langsung ia membawa kepada keakraban dalam kalangan umat Islam.', 'Mohd. Daniel Abdul Rahman (dua dari kiri) dan rakan-rakan bersama Ketua Pegawai Eksekutif Celcom, Datuk Seri Shazalli Ramly (tiga dari kanan) pada Seminar Persatuan Pemasaran di UiTM Shah Alam, baru-baru ini.', 'Setiap impian atau cita-cita yang ingin dicapai harus dimulai dengan perancangan, memandangkan minatnya dalam bidang perniagaan, Mohd. Daniel Abdul Rahman mengagumi Tan Sri Syed Mokhtar Al-Bukhari.', 'Daniel menjadikan tokoh korporat itu sebagai idola yang tidak kedekut berkongsi kekayaan beliau dengan masyarakat dan membantu selain meningkatkan martabat agama Islam dan organisasi bumiputera. ', 'Contohnya dengan tertubuhnya Yayasan Al-Bukhari.', 'Sifat ketokohan itu menjadi pegangan dan prinsip pelajar tahun akhir Universiti Teknologi Mara (UiTM) Shah Alam dalam kursus sarjana muda (kepujian) Pemasaran ini. ', 'Pada tahun hadapan Daniel bakal menjalani latihan praktikal di Naza Kia Sdn. Bhd.', 'Selain mengejar impiannya itu, beliau juga masih belajar untuk mendapatkan keputusan yang baik dalam akademik. ', 'Sebenarnya apabila bergelar pelajar atau mahasiswa anggapan dan harapan setiap mahasiswa di Malaysia untuk membawa satu perubahan pada diri, keluarga, agama, bangsa dan negara tercinta.', 'Mahasiswa atau pelajar perlu bijak dalam menjalani kehidupan di universiti yang jauh daripada perhatian keluarga. ', 'Ini supaya mereka tidak terpengaruh dan melibatkan diri dengan kegiatan yang tidak berfaedah.', '\"Seharusnya peluang berada di Institusi Pengajian Tinggi Awam (IPTA) digunakan untuk memanfaatkan masa hadapan. ', 'Mahasiswa harus berfikir bagaimana mengelakkan diri daripada digelar penganggur atau graduan yang tidak mempunyai kemahiran komunikasi yang baik, kurang penampilan dan keyakinan diri serta penguasaan bahasa Inggeris selain bahasa Melayu harus dititikberatkan.', '\"Tiada gunanya kalau kita tamat pengajian dengan cemerlang tetapi lemah dalam komunikasi, apatah lagi mempunyai kurang kemahiran kepimpinan diri. ', 'Mungkin ini merupakan jawapan kepada masalah pengangguran yang agak serius,\" katanya kepada Utusan Malaysia, baru-baru ini.', 'Ditanya mengenai perkembangan generasi hari ini, Daniel berkata, mereka harus sedar dan serius dalam menentukan masa depan agama, bangsa dan negara.', 'Jangan jadikan alasan masa muda hanya sekali untuk berseronok dan terjebak dalam kegiatan yang tidak berfaedah sehingga melampau batas. ', 'Ini akhirnya menggelapkan masa depan mereka sendiri. ', 'Anak-anak muda masa ini harus sedar merekalah generasi yang akan mewarisi kepimpinan masa hadapan.', 'Pelbagai masalah terutamanya masalah sosial seperti, perlumbaan haram, pergaulan bebas, najis dadah dan seumpamanya sedang serius melanda generasi muda Melayu sekarang.', '\"Tindakan menyerahkan bulat-bulat kepada badan-badan kerajaan dan pertubuhan-pertubuhan bukan kerajaan semata-mata untuk mengatasi masalah ini adalah satu kesilapan.', '\"Harus diingat bahawa asas-asas atau pegangan yang kukuh terhadap nilai agama Islam sebenarnya boleh mencegah perkara tersebut,\" jelas anak muda ini lagi.', 'Sementara itu, tidak kurang juga kalangan anak-anak muda yang cemerlang dalam bidang masing-masing yang boleh dibanggakan. ', 'Kejayaan Najmil Faiz Mohamed Aris, pelajar Malaysia yang mencatat sejarah membentangkan hasil kajiannya mengenai Teknologi Nano di Parlimen Britain dan pelbagai adalah contoh anak muda yang tidak menghampakan bangsanya.', 'Menurut Daniel, mahasiswa dan belia cemerlang boleh dikategorikan dalam berbagai-bagai bidang sama ada pendidikan, politik, kerjaya, sukan dan sebagainya.', 'Belia yang cemerlang pada asasnya adalah belia yang berpegang teguh dan mengamalkan nilai-nilai murni Islam. ', 'Belia sewajarnya mengambil kisah dan tidak memandang enteng setiap yang berlaku.', '\"Suarakan segala apa yang dipersetujui ataupun sebaliknya. ', 'Jadilah belia yang boleh memberi penyelesaian terhadap masalah bangsanya. ', 'Dan mengejar cita-cita setinggi mana yang dikehendaki tetapi jangan lupa untuk pandang ke bawah sekiranya bantuan kita diperlukan oleh masyarakat,\" katanya', 'Bekas Yang Dipertua Majlis Perwakilan Pelajar UiTM Perlis tahun 2003 menambah, di kampus beliau aktif pada peringkat pelajar dan masyarakat.', 'Selain berkesempatan bermesyuarat dan bertemu dengan pemimpin masyarakat serta tokoh-tokoh korporat adalah pengalaman yang amat bermakna.', 'Daniel turut pernah memegang jawatan Ahli Majlis Mesyuarat Perundingan Pelajar Pulau Pinang (2004), Presiden Kebajikan Pemasaran, UiTM Shah Alam (2005-2006), Biro Keusahawanan dan Alumni Majlis Perwakilan Pelajar UiTM (2005-2006).', 'Anak kelahiran Pulau Pinang ini turut berasa terpanggil untuk memberi pandangan berkaitan isu melayu pulau itu yang hangat diperkatakan baru-baru ini.', '\"Masyarakat Melayu Pulau Pinang harus sedar kedudukan mereka sama ada dari segi ekonomi ataupun sosial. ', 'Perubahan harus dimulai oleh setiap jiwa orang Melayu.', '\"Dengan kata lain, penguasaan agama dan ilmu itu penting kerana hal yang sedemikian akan memartabatkan bangsa dan mengelakkan daripada bangsa kita dihina,\" tegasnya.', 'Pada masa ini, Melayu Pulau Pinang amat memerlukan pemimpin yang benar-benar ikhlas memperjuangkan nasib bangsanya dan bukannya perjuangan yang bertunjangkan pangkat, harta, mahupun wang ringgit.', '\"Kita bertuah kerana mempunyai Perdana Menteri, Datuk Seri Abdullah Ahmad Badawi yang merupakan anak jati melayu Pulau Pinang dan beliau amat serius dalam menyelesaikan isu ini.', '\"Tetapi, kita harus sedar Perdana Menteri bertanggungjawab kepada 26 juta rakyat Malaysia. ', 'Justeru, pemimpin di semua negeri harus mempunyai agenda yang lebih khusus dan serius dalam mengangkat martabat bangsa Melayu,\" kata Daniel mengakhiri perbualan.', 'Syeikh Wan Senik Karisiqi moyang Syeikh Daud Al-Fathani ', 'MENYAMBUT tahun baru 2007, artikel yang dipaparkan ini adalah merupakan keluaran pertama tentang Ulama Nusantara dalam Bahagian Agama, Utusan Malaysia.', 'Atau merupakan artikel yang ke-147 jika dihitung mulai siaran tahun 2004, sepanjang tahun 2005 sehingga Disember 2006. ', 'Sekali gus pula kita menyambut pemasyhuran Sultan Mizan Zainal Abidin Al-Marhum Sultan Mahmud Al-Muktafi Billah Shah sebagai Yang Dipertuan Agong Malaysia Yang Ke-13, pada 13 Disember 2006. ', 'Baginda berasal dari kerajaan Terengganu.', 'Sepanjang saya memperkenalkan ulama-ulama dunia Melayu dalam tahun-tahun yang tersebut, ada beberapa orang ulama Terengganu juga telah diperkenalkan, termasuklah seorang Sultan Terengganu yang alim dan warak. ', 'Baginda ialah Sultan Zainal Abidin III.', 'Hingga kini tiada siapa dapat menafikan bahawa yang mencorakkan Islam di Terengganu, pertama ialah dari keturunan Saiyid dan yang kedua ialah ulama-ulama yang berasal dari Patani.', 'Dalam keluaran ini, bagi saya adalah merupakan sambutan tahun baru 2007, sekali gus menyambut adanya jati diri keperkasaan dan kemahawangsaan Melayu Islam dibuktikan daulat Raja-Raja Melayu, dilambangkan dengan Pemasyhuran Yang Dipertuan Agong pada tarikh tersebut di atas.', 'Artikel ini mengkhususkan perkara salasilah ulama Terengganu yang sangat erat dengan ulama Patani.', 'Semua ulama yang tersebut ada hubungan yang sangat erat selain kaitan sanad ilmu sekali gus di antara mereka ada yang erat hubungan nasab.', 'Syeikh Wan Senik al-Karisiqi, iaitu moyang Syeikh Daud bin Abdullah al-Fathani, yang bererti juga Syeikh Wan Senik adalah termasuk moyang atau datuk nenek kepada beberapa ulama Terengganu yang terdekat di antara mereka seperti Syeikh Abdul Qadir (Tok Bukit Bayas), Syeikh Abdullah bin Muhammad Amin (Tok Duyung) dan lain-lain.', 'Jauh sebelum penghijrahan Syeikh Daud bin Abdullah al-Fathani dan rombongan ke Pulau Duyung Kecil Terengganu jalinan kekeluargaan Patani dan Terengganu berjalan sudah sejak lama, sekurang-kurangnya sejak Sultan Zainal Abidin, Sultan Terengganu lagi.', 'Hingga sekarang hubungan tersebut tidak pernah terputus.', 'Walaupun ada beberapa pertikaian pendapat di antara satu versi salasilah dengan salasilah versi yang lainnya, namun tidak bererti memutuskan hubungan kekeluargaan. ', 'Bahkan dengan adanya pertikaian pendapat yang termaktub dalam salasilah adalah mendorong kita supaya melakukan penyelidikan yang lebih kemas, jika ada tenaga dan berkemampuan berfikir tetap berusaha untuk mentahqiqkannya.', 'Dalam artikel yang lalu disebutkan bahawa Wan Husein as-Sanawi mempunyai ramai adik-beradik. ', 'Antaranya ialah Syeikh Wan Senik al-Karisiqi. ', 'Nama lengkap ialah Al-Allamah Syeikh Wan Senik al-Karisiqi al-Fathani bin Ali (Sultan Qanbul/Qunbul) bin Manshur al-Laqihi (Saiyid Ahmad atau Saiyid Ahmad Samman al-Aidrus) bin Saiyid Hakim (Saiyid Kuning) bin Saiyid Husein (Sultan Pak Tani), salasilah ini diringkaskan dari artikel, Wan Husein As-Sanawi Al-Fathani, 18 Disember 2006.', 'Huraian salasilah bahawa Syeikh Wan Senik kahwin dengan Zainab asy-Syandani binti Abdur Rahman al-Fathani bin Ibrahim al-Hadhrami memperoleh anak bernama Wan Husein al-Karisiqi.', 'Anak Syeikh Wan Senik al-Karisiqi yang lain ialah Syeikh Wan Idris, kemungkinan dari isteri beliau yang lain. ', 'Anak Syeikh Wan Idris bernama Syeikh Wan Abdullah. ', 'Syeikh Wan Abdullah ini adalah ayah pada Syeikh Daud bin Abdullah al-Fathani, ulama dunia Melayu yang banyak mengarang kitab. ', 'Syeikh Daud bin Abdullah al-Fathani mempunyai beberapa orang adik-beradik, iaitu Syeikh Wan Abdul Qadir, Syeikh Wan Idris, Syeikh Wan Abdur Rasyid dan Hajah Siti Khadijah.', 'Syeikh Daud bin Abdullah al-Fathani ibunya bernama Wan Fathimah. ', 'Ibu Wan Fathimah ialah Wan Salamah binti Tok Bandar Wan Su. ', 'Isteri Tok Bandar Wan Su ialah Wan Nafisah. ', 'Wan Yusuf adalah adik-beradik dengan Wan Ismail (Tok Kaya Pendek atau Tok Kaya Pandak).', 'Ayah kedua-duanya ialah Nik Ali atau Faqih Ali. ', 'Jika kita perhatikan dengan teliti bahawa salasilah Syeikh Wan Senik sampai kepada Saiyid Husein (Sultan Pak Tani) adalah semuanya dari pihak lelaki sedang salasilah yang satu lagi dicelahi dengan perempuan, bernama Fathimah. ', 'Naik ke atas melalui dua orang perempuan, iaitu ibu dan nenek Wan Fathimah hingga sampai kepada Nik Ali atau Faqih Ali.', 'Kesimpulan bahawa kedua-dua salasilah di atas adalah tidak bertentangan atau pertikaian pendapat antara satu dengan yang lainnya, kerana salasilah yang satu ialah membicarakan salasilah lurus lelaki semuanya sedang salasilah yang satu lagi ialah membicarakan beberapa orang dari pihak sebelah ibu.', 'Syeikh Wan Abdullah (Tok Syeikh Duyung) bin Syeikh Wan Muhammad Amin bin Wan Abdur Rahman al-Fathani. ', 'Wan Abdur Rahman al-Fathani kahwin dengan Wan Salamah (kahwin sepupu). ', 'Ibu Wan Abdur Rahman bernama Wan Tih adalah adik beradik dengan ayah Wan Salamah namanya Wan Derauk (Wan Abdur Rauf) bin Wan Damit. ', 'Ibu Wan Abdur Rauf dan Wan Tih ialah Wan Ti binti Wan Abu Bakar bin Wan Ismail (Tok Kaya Pendek atau Tok Kaya Pandak).', 'Salasilah yang tersebut di atas sangat erat dengan Syeikh Wan Abdullah (Tok Syeikh Duyung) yang pada zamannya menjadi Syeikh Ulama Terengganu. ', 'Salasilah beliau selengkapnya ialah Syeikh Wan Abdullah bin Syeikh Wan Muhammad Amin. ', 'Syeikh Wan Muhammad Amin kahwin dengan Wan Aminah (ibu Tok Syeikh Duyung) adalah masih dalam lingkungan keluarga yang dekat.', 'Syeikh Wan Muhammad Amin ayahnya ialah Wan Abdur Rahman. ', 'Ibu Wan Abdur Rahman bernama Wan Tih, ibunya bernama Wan Ti binti Wan Abu Bakar bin Wan Ismail (Tok Kaya Pendek atau Tok Kaya Pandak).', 'Salasilah ini bertemu pada jalur yang sama pada catatan salasilah pihak ibu Syeikh Wan Abdullah (Tok Syeikh Duyung) yang tersebut di atas ialah Wan Aminah binti Wan Derahmat bin Wan Derahman bin Wan Abu Bakar bin Wan Ismail (Tok Kaya Pendek atau Tok Kaya Pandak).', 'Syeikh Wan Abdullah (Tok Syeikh Duyung) masih ada jalur kekeluargaan yang dekat dengan Syeikh Nik Mat Kecik atau Syeikh Muhammad Shaghir, yang pada kitab-kitab karangannya dinyatakan namanya Syeikh Muhammad bin Ismail Daudiyi al-Fathani.', 'Beliau bukan dilahirkan di Patani tetapi di Pulau Duyung Kecil, Terengganu, ketika terjadi penghijrahan besar-besaran keluarga ini dari Patani ke Terengganu akibat pencerobohan atau serangan Siam terhadap Daulah Kerajaan Patani. ', 'Silsilah lengkap beliau ialah Syeikh Wan Muhammad bin Wan Ismail bin Wan Ahmad ibunya bernama Wan Aisyah.', 'Wan Aisyah adalah adik-beradik dengan Wan Salamah (nenek Tok Syeikh Duyung). ', 'Ayah kedua-duanya bernama Wan Derauk (Wan Abdur Rauf) bin Wan Damit. ', 'Ibu Wan Derauk (Wan Abdur Rauf) bernama Wan Ti binti Wan Abu Bakar bin Wan Ismail (Tok Kaya Pendek atau Tok Kaya Pandak).', 'Pertalian Syeikh Nik Mat Kecik al-Fathani / Syeikh Muhammad Shaghir al-Fathani dengan Syeikh Wan Senik al-Karisiqi al-Fathani pula, bahawa ibu Syeikh Nik Mat Kecik al-Fathani bernama Wan Zainab binti Syeikh Wan Idris al-Fathani. ', 'Adik-beradik dengan Wan Zainab ialah Wan Fathimah, iaitulah ibu pada Syeikh Abdul Qadir bin Abdur Rahman bin Utsman al-Fathani. ', 'Syeikh Wan Idris al-Fathani yang tersebut ialah datuk kepada Syeikh Nik Mat Kecik al-Fathani dan Syeikh Abdul Qadir bin Abdur Rahman al-Fathani. ', 'Beliau adalah adik-beradik dengan Syeikh Daud bin Abdullah al-Fathani.', 'Ini bererti Syeikh Nik Mat Kecik al-Fathani dan Syeikh Abdul Qadir bin Abdur Rahman al-Fathani adalah cucu saudara Syeikh Daud bin Abdullah al-Fathani.', 'Mengenai salasilah lengkapnya hingga sampai kepada Syeikh Wan Senik al-Karisiqi al-Fathani tidak perlu dibicarakan lagi kerana cukup jelas naik ke atas melalui jalur Syeikh Daud bin Abdullah al-Fathani.', 'Adik-beradik Syeikh Daud bin Abdullah al-Fathani yang bernama Syeikh Abdul Qadir bin Abdullah al-Fathani menurunkan ulama-ulama besar ialah Syeikh Wan Muhammad Shalih al-Fathani (anak), Syeikh Wan Ibrahim al-Fathani (cucu), dan Syeikh Wan Syamsuddin al-Fathani (cicit).', 'Dua orang adik beradik Syeikh Daud bin Abdullah al-Fathani menyebarkan Islam di Aceh ialah Syeikh Wan Abdur Rasyid bin Abdullah al-Fathani dan Syeikhah Hajah Siti Khadijah binti Abdullah al-Fathani.', 'Kedua-duanya meninggalkan keturunan di Aceh. ', 'Ada orang meriwayatkan bahawa Teungku Muhd. ', 'Daud Beureueh ulama dan pejuang Aceh yang terkenal adalah keturunan salah seorang dari kedua adik-beradik itu.', 'Masih belum jelas, tetapi yang pasti beliau diberi nama â€˜Daudâ€™ mengambil berkat nama moyang saudaranya Syeikh Daud bin Abdullah al-Fathani.', 'Janggut merah dan janggut putih', 'Terlalu ramai ulama yang penting dalam lingkungan keluarga ini, tidak mungkin diriwayatkan seluruhnya dalam ruangan yang sangat terbatas ini, tetapi perlu juga saya sentuh dengan agak ringkas bahawa ada yang digelar dengan â€˜Syeikh Janggut Merahâ€™ dan â€˜Syeikh Janggut Putihâ€™.', 'â€˜Syeikh Janggut Merahâ€™ dan â€˜Syeikh Janggut Putihâ€™ mempunyai tujuh adik-beradik tetapi saya riwayatkan di sini dua orang saja.', 'Yang dimaksudkan dengan â€˜Syeikh Janggut Merahâ€™ ialah Syeikh Wan Ismail bin Ahmad al-Fathani dan â€˜Syeikh Janggut Putihâ€™ ialah Syeikh Wan Yusuf bin Ahmad al-Fathani.', 'Syeikh Wan Ismail Janggut Merah ialah ayah Syeikh Nik Mat Kecik. ', 'Adik-beradik Syeikh Nik Mat Kecik ada lima orang iaitu Wan Hitam atau Wan Siti, Wan Aisyah, Hajah Wan Maryam dan Syeikh Wan Isa, meninggal dunia di Pulau Bunguran (Natuna), Kepulauan Riau.', 'Wan Aisyah kahwin dengan Haji Wan Idris, anaknya Wan Daud. ', 'Wan Daud kahwin dengan sepupunya Wan Fathimah binti Syeikh Nik Mat Kecik.', 'Anak keduanya ialah Haji Nik Abdur Rahman al-Makki (Terengganu) dan Haji Nik Ishaq Tingkat, salah satu versi salasilah penyusunan artikel ini susunan beliau juga dirujuk.', 'Hajah Wan Maryam binti Syeikh Janggut Merah kahwin dengan Wan Abdullah bin Syeikh Yusuf Janggut Putih.', 'Di antara anaknya yang menjadi ulama ialah Hajah Wan Siti Saudah dan Haji Wan Ismail. ', 'Hajah Wan Siti Saudah kahwin dengan Syeikh Wan Ahmad al-Fathani, memperoleh anak Hajah Wan Zainab (ibu saya, Wan Mohd. Shaghir Abdullah, penulis artikel ini).', 'Hajah Wan Maryam dan anaknya Haji Wan Ismail al-Fathani meninggal dunia di Skudai, Johor. ', 'Hajah Wan Siti Saudah pula meninggal dunia di Pulau Penyengat Riau.', 'Bukan Yang Pertama (Siri 1) ', 'Orang mungkin pernah mengatakan dia gila. ', 'Barangkali tidak sampai ke peringkat gila. ', 'Tetapi mungkin orang mengatakan dia tidak betul, sasau, senteng atau sewel. ', 'Dia tidak kisah.', 'Dia rasa tindakannya wajar. ', 'Dia lakukan semua itu selepas melakukan istikharah, selepas bertanya Yang Maha Esa dan mohon petunjuk daripadanya. ', 'Memang itulah yang dia lakukan. ', 'Dan dia beroleh petunjuk.', 'Mungkin petunjuk yang diperoleh tidak dalam bentuk yang jelas. ', 'Tetapi selepas tiga malam berturut-turut melakukan solat istikharah, yang dimulai dengan solat sunat taubat mohon dibersihkan hati, solat tasbih, dan disusuli solat istikharah, dia terasa jiwanya tenang. ', 'Dia amat pasti, hatinya cenderung pada rancangan yang ada dalam kepalanya.', 'Dia pasti, dia melakukannya selepas beroleh petunjuk Allah. ', 'Dia masih ingat pesanan seorang pensyarah kesayangannya dahulu, solat istikharah bukan ketika kita dalam dilema sahaja. ', 'Tetapi juga ketika kita hendak melakukan sesuatu. ', 'Kita pohon petunjuk Allah, minta Allah permudahkan. ', 'Itulah sebenarnya. ', 'Kita lakukan sesuatu dengan restu Allah, maka insya-Allah segala perancangan akan dapat dijalankan dengan berkat.', 'Dan dia yakin, dia telah beroleh jalan yang dimahukannya!', '\"Sungguh-sungguh nak buat?\"', '\"Insya-Allah.\"', '\"Apa pula insya-Allah, insya-Allah? ', 'Itu macam tak yakin dengan diri sendiri!\"', 'Dia mendengus dalam hati. ', 'Tidak puas hati, campur terkilan juga.', 'Itu satu lagi tanggapan salah. ', 'Mengapa kata insya-Allah selalu disalahertikan dengan tidak yakin dan lebih berat kepada tidak jadi? ', 'Menjadi seolah-olah satu alasan untuk melepaskan diri daripada sesuatu komitmen.', '\"Salah cara Tok Alang berfikir tu. ', 'Kata insya-Allah tu bermaksud dengan izin Allah, berat pada ya! ', 'Saya sungguh-sungguh nak buat. ', 'Dengan izin Allah, melalui kesungguhan dan azam yang saya ada ni, akan jadi semua ini!\" Dia membalas lembut dalam tenang. ', 'Melirik sekilas pada emak yang tekun mendengar perbincangan mereka di bawah wakaf berbumbung robek di halaman kediaman mereka.', 'Alang Karim terdiam. ', 'Orang tua separuh usia itu termalu sedikit. ', 'Tetapi kemudian dia tergelak kecil. ', 'Sempat menjeling pada emak yang sedang menahan senyuman. ', 'Sesekali dia terasa diakal-akalkan oleh budak perempuan seorang itu!', 'Tanggungjawab', 'Hmm, betullah kata kamu tu! ', '\"Aku bukannya apa, ramai sangat orang gunakan kata insya-Allah sebab nak lepaskan diri daripada tanggungjawab...\"', '\"Itu orang, bukan saya...\" Tersenyum nakal sikit dia.', 'Baik, berbalik pada perbincangan kita tadi. ', 'Aku tak keberatan kalau kamu sungguh-sungguh. ', 'Tapi elok juga kamu ambil bahagian. ', 'Boleh jadi contoh pada orang muda lain,\" Alang Karim sedikit serius.', 'Untuk peringkat awal, memadai kalau saya boleh jadi contoh pada diri sendiri, Tok Alang! ', 'Tapi saya betul-betul harapkan bimbingan dari Tok Alang. ', 'Tok Alang sebagai orang lebih tua, ketua kampung pula tu, tentu lebih tahu apa yang terbaik.', 'Alang Karim terjeda. ', 'Terasa ada amanah terbeban di pundaknya mendengar kata-kata bernada pengharapan itu. ', 'Dia renung anak muda di depannya itu. ', 'Semacam mahu mencari kepastian bahawa anak muda itu memang benar-benar mahu memikul amanah.', '\"Yasmin Zulaikha, kalau kamu percaya pada diri kamu sendiri, maka Tok Alang pun akan percaya pada kamu!\"', 'Itu keyakinan sekali gus kepercayaan tepu padat yang diberikan Tok Ketua Alang Karim padanya!', 'Dia hanya mahu melepaskan dirinya daripada belenggu pengangguran. ', 'Dia bergraduat dari Universiti Malaya dengan ijazah sarjana muda syariah lebih setahun lalu.', 'Beberapa permohonan kerja di agensi kerajaan dan berkanun seperti menyepi terus. ', 'Dia enggan berkira dan terlalu memilih. ', 'Sekali pun kerjaya yang tidak relevan dengan ijazah, dia tetap memohon. ', 'Semuanya masih bisu.', 'Di Kuala Lumpur, dia cuba memburu kerjaya tetapi barangkali dia ditakdirkan termasuk dalam jumlah 80,000 graduan yang menganggur seperti yang dilaporkan media. ', 'Dia cuba menepis tanggapan media yang mengatakan para graduan ini terlalu naik lemak, terlalu dimanjakan dan terlalu memilih kerja.', 'Dia tidak memilih. ', 'Kerja kerani merangkap pembantu pejabat, merangkap tea lady pun pernah dia cuba minta. ', 'Tetapi barangkali kerana dia memiliki segulung ijazah, maka syarikat yang menawarkan kekosongan jawatan tea lady itu â€˜gerunâ€™ hendak menerimanya.', 'Hakikatnya dia sengaja meninggalkan ijazahnya tetapi keputusan Sijil Pelajaran Malaysia (SPM) bertahun-tahun lalu yang dikepilkan dalam surat permohonan, menjadikan si penemu duga cuak. ', 'Mustahil SPM cemerlang tetapi sijil terbiar begitu saja. ', 'Pegawai sumber manusia yang jadi penemu duga mengasaknya (dengan sengaja, dia tahu) dengan soalan-soalan provokasi dan dia sememangnya malas hendak berputar belit dan bersilat kata lagi.', '\"Memang saya ada ijazah.\"', 'Buat masa sekarang, saya mencari kerja. ', 'Ini bukan yang pertama. ', 'Dah banyak kerja saya minta tapi belum sangkut. ', 'Tapi saya tak kisah kalau dapat kerja di sini. ', 'Kalau saya diterima, saya akan bertugas dengan rajin dan melakukan tugas dengan baik dan amanah pada kerja saya,\" katanya tidak berselindung.', 'Penemuduga merenungnya dalam-dalam. ', 'Kemudian tersenyum. ', 'Senyuman sinis, dia tafsirkan. ', 'Barangkali penemu duga itu sudah muak dan letih mendengar â€˜jawapan skimaâ€™ yang lebih kurang sama sahaja bunyinya daripada mulut setiap calon yang ditemu duga.', '\"Awak ada ijazah.\"', 'Kerja bancuh teh pun tak apa?\" Pegawai itu tersenyum-senyum perli.', '\"Bancuh teh pun kerja juga.\"', 'Dapat gaji yang halal. ', 'Walaupun saya ada ijazah tapi saya pandai bancuh teh, kopi, Milo, Nescafe. ', 'Semua anggota keluarga saya puji, minuman saya sedap!\" Selamba dia membalas, membuatkan si penemuduga ternganga terdiam.', '\"Bijak awak menjawab.\"', 'Tak apa, nanti kami hubungi...\" Si penemuduga mula tunjuk muka bosan padanya.', 'Dia pun sudah bosan jelak mendengar jawapan begitu. ', 'Dia tahu dia bijak dan barangkali kerana bijak, maka dia tidak beroleh kerjaya yang dipohon! ', 'Dia tidak berniat menyindir tetapi sekadar muak dengan pandangan skeptikal orang terhadap graduan muda sepertinya. ', 'Graduan yang selalu dianggap memilih kerja, mengada-ada dan terlalu bergantung harap pada kerja kerajaan.', 'Emak merungut-rungut apabila mendapat tahu dia cuba memohon jawatan-jawatan yang tidak setimpal dengan ijazah miliknya. ', 'Bukan rungutan yang pertama. ', 'Sudah kerap benar.', '\"Tak berbaloi. ', 'Belajar tinggi-tinggi di universiti, nak jadi pembantu pejabat, tukang bancuh teh.\"', '\"Kerja juga namanya tu, mak...\" dia membalas selamba.', '\"Carilah yang senonoh sedikit!\" tingkah emak tidak puas hati.', '\"Senonohlah tu. ', 'Kalau merompak, mencuri, membunuh orang, menjual diri - itu baru tak senonoh!\" Dia enggan mengalah.', 'Hujah', 'Tersenyum-senyum dia melihat emak mendengus kerana kalah tidak boleh menjawab hujahnya.', 'Abang sulung, abang tunggalnya, Abang Yassin masuk campur pula.', '\"Ikut kerja dengan aku. ', 'Jadi kerani aku. ', 'Senang sikit. ', 'Kak Miah bukannya boleh tumpu 100 peratus pada kerja. ', 'Dengan budak-budak, dia tak menang tangan,\" Abang Yassin, yang digelar Tauke Lembu memberi cadangan.', 'Terdiam dia. ', 'Serentak terbayang lembu-lembu milik abangnya yang selalu mengeruh di kandang. ', 'Jadi penggembala lembu? ', 'Mencontohi Liyya dan Saffura, puteri Syuaib dari Madyan yang pernah dia baca dalam sirah? ', 'Dia tersenyum geli hati.', '\"Nanti Min fikir,\" dia ambil jalan mudah terlebih dahulu.', 'Terbayang pula sikap Abang Yassin yang selalu panas baran.', 'Bolehkah dia bekerja dengan abangnya itu?', 'Tetapi belum sempat dia berfikir, Tok Ketua Alang Karim datang membawa cadangan. ', 'Katanya, bekas Ahli Dewan Undangan Negeri (ADUN) kawasan mereka dahulu, Datuk Kasa sedang mengusahakan suatu projek yang bakal memberikan pulangan pada warga desa. ', 'Tok Ketua sebenarnya menawarkan pada emak supaya menyertai program berkenaan. ', 'Emak keberatan menerima dengan alasan tidak kuat dan kurang sihat.', 'Biar Min yang terima. ', 'Emak berikan izinkan saja. ', 'Jadi mak izinkanlah ya. ', 'Dia mengucap syukur dalam hati.', 'Dia tidak akan bergelar penganggur lagi.', 'Untuk maklumat lanjut hubungi talian 03-26937784 pada waktu pejabat atau datang sendiri ke Unit Pengajian Dewasa, Masjid Negara Kuala Lumpur.', 'Derma pembinaan surau', 'RUMAH Kebajikan Anak Yatim dan Miskin Al-Munirah Klang merayu orang ramai untuk bersedekah dan menginfakkan sumbangan untuk projek pembinaan surau, perpustakaan, dewan dan pejabat rumah kebajikan berkenaan. ', 'Johan Setia, 41200 Klang, Selangor.', 'PM ajak rakyat tingkatkan kejayaan negara ', 'KUALA LUMPUR 31 Dis. â€“ Datuk Seri Abdullah Ahmad Badawi mengajak rakyat, terutamanya generasi baru, supaya meningkatkan lagi kejayaan negara pada tahun 2007 yang akan dirai serentak dengan ulang tahun ke-50 kemerdekaan negara.', 'Pada masa yang sama Perdana Menteri turut meminta masyarakat berbilang kaum supaya mengukuhkan perpaduan bagi membina kekuatan bersama dalam usaha memajukan negara.', 'Abdullah berkata, antara lainnya rakyat boleh menyumbang dengan menokok tambah kejayaan dan kemajuan yang dicapai oleh negara sebelum ini.', '\"Kita perlu berusaha untuk menokok tambah usaha-usaha kita ini dengan lebih gigih lagi, dengan menggunakan segala kesempatan dan kemudahan yang jauh lebih baik daripada apa yang wujud sebelumnya, terutama semasa kita mula-mula mencapai kemerdekaan,\" katanya dalam perutusan sempena sambutan tahun baru 2007 yang disiarkan menerusi RTM malam ini.', 'Abdullah berkata kemampuan bangsa Malaysia hari ini jauh lebih baik berbanding generasi terdahulu kerana generasi muda kini mempunyai ilmu pengetahuan yang lebih luas.', 'Di antara mereka ialah golongan profesional, pakar serta penyelidik dalam pelbagai bidang, yang hari ini sedang menyumbang kepada pembangunan negara.', '\"Sebenarnya golongan yang mempunyai ilmu pengetahuan terutama dalam bidang sains dan teknologi dan juga yang mempunyai ilmu yang berkaitan pelbagai profesion, jauh lebih ramai dari masa dahulu. ', 'Ini bermakna kemampuan kita pada hari ini jauh lebih besar lagi,\" katanya.', 'Beliau bagaimanapun mengingatkan bahawa di samping berusaha untuk meningkatkan pembangunan negara dengan ilmu yang dimiliki, rakyat juga perlu memahami faktor yang memberi kekuatan kepada negara untuk terus menikmati kemajuan dan keamanan walaupun selepas 50 tahun merdeka.', '\"Kita perlu ingat bahawa perpaduan antara kaum, semangat muhibah, sikap tolak ansur, sifat bermuafakat itu amatlah penting. ', 'Kita perlu memahami dan bersyukur kepada mereka yang telah pun berusaha bersungguh-sungguh untuk memajukan negara kita,\" katanya.', 'Lebih penting, generasi baru perlu memahami dan mempelajari kaedah yang digunakan oleh pemimpin masa lalu dan berusaha memperbaiki pendekatan itu dengan mengambil kira situasi dan cabaran semasa sebelum diaplikasikan, katanya.', 'Abdullah berkata para pemimpin terdahulu sentiasa berganding bahu dengan pemimpin masyarakat dan pemimpin Barisan Nasional (BN) yang mewakili parti politik utama di negara ini sentiasa mengutamakan rakyat, bangsa dan negara dalam setiap tindakan mereka.', '\"Muafakat dan kerjasama seperti inilah yang terjalin dalam apa yang dikenali sebagai perkongsian kuasa yang telah menjadikan negara kita satu negara yang dihormati dan dikagumi oleh banyak orang,\" katanya.', 'Selain itu Abdullah berkata dalam mencapai kemajuan yang diharapkan, rakyat juga perlu faham tentang saingan dari negara luar serta cabaran globalisasi dan liberalisasi yang menuntut mereka berusaha keras bagi meningkatkan keupayaan dan kemampuan untuk bersaing.', '\"Keupayaan dan kemampuan kita itu mestilah datang daripada kekuatan minda, fizikal dan rohani. ', 'Kita perlu menguasai ilmu pengetahuan dalam pelbagai bidang yang boleh memberi manfaat kepada diri kita,\" katanya.', 'Beliau berkata, ini termasuk ilmu pengetahuan dalam bidang sains dan teknologi dan juga ilmu baru yang hari ini menjadi pemangkin pertumbuhan ekonomi seperti ICT, bioteknologi, nanoteknologi.', 'Mengenai Rancangan Malaysia Kesembilan (RMK-9), Abdullah berkata, walaupun kerajaan telahpun menetapkan kerangka kerja, program dan projek, namun ia tidak bermakna rakyat tidak boleh menokok tambah dengan projek mereka yang diyakini mampu memberi kejayaan besar.', 'Abdullah turut mengingatkan rakyat agar sentiasa bersyukur dengan nikmat kurniaan Allah.', '\"Bagi orang Islam kita memahami jika kita bersyukur atas nikmat yang diberikan oleh Allah s.w.t maka Allah akan menambahkan lagi nikmatNya kepada kita.', '\"Yang pentingnya kita perlu berusaha... ', 'Semua rakyat Malaysia perlu berusaha untuk masa depan yang gemilang,\" katanya sambil mengucapkan Selamat Menyambut Tahun Baru.', 'Warga ATM nikmati kenaikan elaun mulai hari ini ', 'PEKAN 31 Dis. â€“ Satu lagi berita baik. ', 'Kerajaan hari ini meluluskan kenaikan Bayaran Insentif Sabah/Sarawak (BISS) dan Bayaran Insentif Semenanjung (BIS) kepada warga Angkatan Tentera Malaysia (ATM) berkuat kuasa esok.', 'Timbalan Perdana Menteri, Datuk Seri Najib Tun Razak yang mengumumkannya berkata, bayaran insentif itu diberikan kepada warga ATM yang bertugas di wilayah-wilayah Sabah/Labuan, Sarawak atau Semenanjung di mana wilayah tersebut merupakan wilayah asal anggota tentera terbabit.', 'Kadar baru BISS melibatkan kenaikan RM93 hingga RM370 sebulan sementara kadar baru BIS memperlihatkan kenaikan kadar RM123 hingga RM430 sebulan.', '\"Kadar lama BISS dan BIS telah berkuat kuasa mulai 1 November 1996 manakala kadar baru yang dipersetujui yang dahulunya merupakan kadar-kadar berlainan mengikut wilayah telah pun diseragamkan ke atas satu kadar tetap sahaja berkuat kuasa 1 Januari ini,\" katanya.', 'Beliau yang juga Menteri Pertahanan berkata demikian kepada pemberita selepas menghadiri majlis korban dengan kerjasama syarikat telekomunikasi DiGi yang disiarkan secara langsung menerusi TV9 di kediamannya, di sini.', 'Menurutnya, sebanyak 28,584 pegawai dan anggota ATM akan menikmati kenaikan kadar baru BISS dan BIS.', 'Jelas beliau, daripada jumlah itu, 14,126 orang terdiri daripada pegawai dan anggota yang bertugas di Sabah dan Sarawak manakala 14,458 orang lagi adalah mereka yang berkhidmat di Semenanjung.', 'Najib memberitahu, dari segi implikasi kewangan, kenaikan kadar BISS dan BIS akan melibatkan pertambahan perbelanjaan sebanyak RM43.4 juta setahun.', 'Tambahnya, daripada jumlah tersebut, sebanyak RM19.8 juta setahun adalah merupakan pertambahan kepada BISS dan RM23.5 juta setahun untuk BIS.', '\"Persetujuan menaikkan kadar bayaran BISS dan BIS menunjukkan bahawa kerajaan amat prihatin terhadap kebajikan anggota ATM dan keluarga mereka.', '\"Pada masa sama, ia merupakan penghargaan kerajaan atas sumbangan dan khidmat bakti dicurahkan oleh anggota tentera,\" katanya.', 'Menurutnya, kerajaan juga menaruh keyakinan bahawa anggota ATM sentiasa dapat mempertingkatkan komitmen dan kesungguhan mereka dalam menjaga kedaulatan negara.', 'Semalam, Najib turut mengumumkan berita baik iaitu penyelarasan dan penurunan cukai jalan bagi semua jenis kenderaan bermotor berkuat kuasa esok.', 'Tahun 2007 dinanti penuh debaran.', 'KUALA LUMPUR 31 Dis. â€“ Menjelang tahun baru tengah malam ini, seluruh rakyat Malaysia berharap untuk menikmati kehidupan yang harmoni dan berazam untuk terus meningkatkan usaha, walaupun bakal berdepan dengan cabaran sepanjang tahun 2007.', 'Menteri Kerja Raya, Datuk Seri S. Samy Vellu ketika mengumumkan kenaikan itu baru-baru ini berkata, sebelum keputusan itu diambil, satu kajian telah diadakan sejak Januari 2005 dan kementerian mendapati kenaikan tol bagi kelima-lima lebuh raya tersebut mesti dilaksanakan bagi mengelakkan kerajaan terpaksa membayar pampasan yang tinggi kepada syarikat konsesi terbabit.', 'Walaupun ramai yang mengeluh dengan kenaikan itu tetapi mereka sedar kenaikan tol itu adalah perlu kerana mereka mendapat kemudahan infrastruktur kelas pertama.', 'Bagi pihak kerajaan pula, kenaikan itu akan membolehkan wang subsidi ke atas kadar tol yang ditanggung oleh kerajaan selama ini dapat dikurangkan dan penjimatan itu dapat digunakan untuk faedah seluruh rakyat.', 'Pengguna telefon bimbit prabayar turut diwajibkan mendaftar talian telefon.', 'Mengikut peraturan itu, pengguna terbabit yang gagal mendaftar nombor telefon bimbit prabayar perkhidmatan mereka secara automatik tamat pada pukul 12 tengah malam pada 30 Disember 2006.', 'Ketua Bahagian Komunikasi Korporat Suruhanjaya Komunikasi dan Multimedia (SKMM), Adelina Iskandar berkata, pengguna yang telah diberhentikan perkhidmatan tersebut, kini perlu membeli nombor yang baru.', 'Tambahnya, setelah membeli nombor baru, pengguna berkenaan perlu juga mendaftarkan nombor prabayar mereka itu.', 'Ketika ditanya mengenai jumlah pengguna yang telah diberhentikan perkhidmatan, Adelina berkata, pihaknya tidak dapat mengeluarkan maklumat itu kerana perkara tersebut perlu dikemukakan kepada Kabinet terlebih dahulu.', 'Ketika ini terdapat kira-kira 18 juta pengguna telefon prabayar di negara ini dan jumlah mereka yang telah mendaftar adalah sebanyak 14.6 juta pengguna.', 'Berhubung isu buku teks, semua pelajar yang tidak layak menikmati Skim Pinjaman Buku Teks (SPBT) masih perlu membeli buku teks untuk kegunaan mereka semasa sesi persekolahan 2007 kerana pemberian secara automatik hanya akan dilaksanakan pada 2008.', 'Timbalan Menteri Pelajaran, Datuk Noh Omar baru-baru ini berkata, syarat-syarat kelayakan untuk mendapatkan pinjaman buku teks masih sama iaitu terhad kepada pelajar yang ibu bapa mereka berpendapatan RM2,000 ke bawah sebulan.', 'Kerajaan mengumumkan langkah untuk menurunkan cukai jalan bagi semua jenis kenderaan berkuat kuasa 1 Januari 2007 (hari ini).', 'Pengurangan cukai membabitkan lapan kategori kenderaan termasuk kereta persendirian milik individu, kereta milik syarikat dan kenderaan selain kereta milik individu atau syarikat.', 'Cukai jalan untuk motosikal, teksi, kereta sewa, bas dan kenderaan perdagangan barangan turut diturunkan atau diselaraskan.', 'Mengikut struktur baru cukai jalan itu, kereta Proton Wira 1,468cc di Semenanjung yang sebelum ini dikenakan cukai jalan sebanyak RM106.80 akan diturunkan kepada RM90.', 'Langkah Kumpulan Wang Simpanan Pekerja (KWSP) untuk melaksanakan penstrukturan semula akaun pencarum- pencarumnya mulai Selasa ini (2 Januari 2007) membolehkan pencarum mendapat jumlah simpanan persaraan yang lebih besar, selain langkah itu membantu memperkemaskan pengeluaran perumahan, pendidikan dan kesihatan.', 'Penstrukturan itu akan menyaksikan akaun ahli-ahli KWSP digabung menjadi dua berbanding tiga akaun masa ini.', 'Bagi penduduk Sarawak dan Sabah, langkah syarikat penerbangan tambang murah negara, AirAsia Bhd., memperkenalkan penerbangan harian kesembilannya dari Kuching ke Kuala Lumpur dan Kuala Lumpur ke Kota Kinabalu mulai Khamis ini (4 Januari 2007) bukan sahaja disambut baik oleh penduduk tetapi juga akan dapat meningkatkan kemasukan pelancong ke negara ini.', 'Keputusan itu dibuat berikutan permintaan yang kukuh terhadap sektor laluan utama itu.', 'Malaysian Airline System Bhd. (MAS) pula akan melaksanakan struktur tambang antarabangsa yang lebih fleksibel pada tahun ini (2007) dengan kadar harga boleh berubah-ubah di dalam tempoh seminggu.', 'Kerajaan memberi penekanan terhadap tahap keselamatan di pintu masuk sempadan Malaysia, apabila semua teksi Thailand termasuk motosikal yang dijadikan teksi tidak lagi dibenarkan memasuki negara ini untuk mengambil penumpang dan undang-undang itu akan mula dikuat kuasa Isnin ini (1 Januari 2007).', 'Walaupun berdepan dengan pelbagai cabaran, namun tahun 2007 bukan sahaja dinantikan dengan penuh debaran tetapi dengan azam yang kuat untuk terus mencipta kegemilangan dan kecemerlangan.', 'Korban banjir Johor meningkat 13 orang ', 'JOHOR BAHRU 31 Dis. â€“ Jumlah korban akibat bencana banjir yang melanda negeri Johor meningkat kepada 13 orang dengan penemuan mayat seorang remaja berusia 18 tahun di Kilometer 68 Jalan Muar-Labis di Muar pada pukul 2.20 petang ini.', 'Menurut jurucakap bilik gerakan banjir Ibu Pejabat Polis Kontinjen Negeri Johor, mangsa terbabit ialah Mohd. Farizan Mokhtar, 18, yang dilaporkan hilang pukul 9 malam tadi selepas dihanyutkan arus banjir di Kampung Durian Condong, Muar.', '\"Mayat mangsa ditemui oleh pasukan penyelamat pada pukul 2.20 petang setelah gerakan mencari dijalankan oleh polis dan bomba sejak malam tadi,\" katanya ketika dihubungi di sini hari ini.', 'Jelas jurucakap itu, mayat mangsa telah dibawa ke Hospital Tangkak di Muar untuk bedah siasat.', 'Dalam pada itu, menurut jurucakap tersebut, cuaca cerah di beberapa daerah menyaksikan keadaan banjir semakin pulih dengan jumlah mangsa banjir menurun kepada 50,448 orang.', 'Katanya, keadaan tersebut memperlihatkan daerah Kluang pulih sepenuhnya berikutan semua pusat pemindahan sementara di daerah tersebut telah ditutup.', 'Jurucakap itu memberitahu, sehingga kini, sebanyak 151 pusat pemindahan sementara masih beroperasi manakala 171 pusat pemindahan telah ditutup hari ini.', 'Menurutnya, daerah yang mencatatkan jumlah mangsa banjir tertinggi ialah Batu Pahat dengan 29,792 mangsa, diikuti Muar yang mencatat jumlah mangsa 18,928 orang.', '\"Jumlah mangsa yang dicatatkan di daerah Kota Tinggi ialah 795 orang, Segamat (667), Johor Bahru (60) dan Mersing (206),\" katanya.', 'Sementara itu, jelasnya, beberapa jalan utama di Muar, Segamat dan Batu Pahat terus ditutup berikutan dinaiki air banjir dan tidak boleh dilalui kenderaan.', 'Budak perempuan korban terbaru ', 'MUAR 31 Dis. â€“ Seorang kanak-kanak perempuan berusia satu tahun 10 bulan menjadi mangsa terbaru korban akibat banjir apabila dia ditemui mati di Kampung Solok, Tangkak dekat sini semalam.', 'Mangsa, Nor Aliza Azwani Abdul Razak dipercayai mati setelah terjatuh ke dalam parit di hadapan rumahnya.', 'Sewaktu kejadian, mangsa ditinggalkan oleh ibu bapanya bersama enam abang dan kakaknya serta seorang ibu saudara berusia 17 tahun.', 'Anak ketujuh pasangan Abdul Razak Mokhtar, 29, dan Nor Kamariah Jamil, 27, itu ditemui mati dalam parit sedalam 0.2 meter itu oleh abang keduanya yang berusia 10 tahun kira-kira pukul 6 petang.', 'Abdul Razak yang bekerja sendiri berkata, ketika kejadian, dia dan isteri keluar menziarah saudara di Bukit Gambir dekat sini.', 'Anak saya sebelum ini tidak pernah ditinggalkan setiap kali saya dan isteri keluar rumah. ', '\"Saya juga tidak menyangka kali pertama dia ditinggalkan, peristiwa itu berakhir dengan kehilangannya buat selama-lama,\" katanya sayu di sini hari ini.', 'Menurutnya, sebelum dia dan isteri keluar rumah kira-kira pukul 2 petang, mereka bercadang tidak membawanya.', 'Sementara itu, Nor Kamariah berkata, anaknya itu dipercayai keluar rumah sewaktu abang dan kakaknya leka menonton televisyen.', 'Katanya, Nor Aliza Azwani dipercayai terjatuh ke dalam parit di tepi jalan berdekatan rumahnya sehingga mengakibatkan dia meninggal dunia kerana lemas.', 'Sementara itu Ketua Polis Daerah Muar, Asisten Komisioner Mohd. Nizar Mohd Ali ketika dihubungi berkata, polis mengklasifikasikan kejadian itu sebagai mati mengejut.', 'Amaran angin kencang, ombak 4.5m ', 'KUALA LUMPUR 31 Dis. â€“ Ombak setinggi 4.5 meter dan laut bergelora di perairan pantai Timur Semenanjung Malaysia, Sabah dan Sarawak dijangka berlarutan hingga lewat esok.', 'Menurut kenyataan Jabatan Meteorologi tengah hari ini, angin kencang hingga selaju 50-60 km sejam dianggap berbahaya kepada semua kegiatan pelayaran termasuk menangkap ikan dan perkhidmatan feri.', 'Jabatan itu meramalkan ribut petir yang merebak di bahagian tengah Laut China Selatan dijangka berlarutan hingga Khamis depan.', 'Bagaimanapun, ribut petir di perairan luar pantai Sabah, Sarawak dan Johor Timur dijangka berakhir lewat esok.', 'Tiga dicari bantu siasatan kes curi alat komputer ', 'BUKIT MERTAJAM 31 Dis. â€“ Polis mencari tiga lelaki termasuk seorang anggota polis berpangkat lans koperal bagi membantu siasatan ke atas kes kecurian peralatan komputer bernilai RM2 juta di sebuah gudang transit di Juru dekat sini, Ahad lepas.', 'Ketua Polis Daerah Seberang Perai Tengah (SPT), Asisten Komisioner Mohamad Anil Shah Abdullah berkata, mereka ialah R. Marimuthu, 39, Rosli Hamid, 39, dan Wong Hong Kiat, 40, yang berasal dari Butterworth dan bahagian pulau.', '\"Marimuthu ialah bekas pengawal keselamatan, Hong Kiat ialah peniaga manakala Rosli ialah anggota polis yang digantung tugas kerana disyaki terlibat dalam satu kes jenayah,\" katanya.', 'Beliau berkata demikian pada sidang akhbar di Ibu Pejabat Polis Daerah (IPD) SPT di Bandar Baru Perda di sini hari ini.', 'Semalam, Ketua Jabatan Siasatan Jenayah negeri, Senior Asisten Komisioner II Abdul Samah Mat berkata, sebanyak 10 suspek termasuk dua wanita yang merupakan pekerja gudang, pengawal keselamatan dan orang luar ditahan bagi membantu siasatan kes kecurian tersebut.', 'Abdul Samah berkata, 10 orang berusia di antara 20 hingga 40 tahun itu ditahan sejak Rabu lepas di sekitar Seberang Perai Utara dan Seberang Perai Tengah kerana disyaki terlibat dalam kes kecurian itu.', 'Mohamad Anil memberitahu, Rosli yang kali terakhir bertugas di Ibu Pejabat Kontinjen Polis (IPK) negeri digantung tugas setelah disyaki terlibat dalam kes menipu yang disiasat mengikut Seksyen 420 Kanun Keseksaan.', 'Menurutnya, Rosli kini dilepas tanpa dibebas oleh mahkamah sementara menunggu keputusan mahkamah.', 'Beliau berkata, alamat terakhir Rosli ialah di Blok 1K-4-4, Lebuh Raya Than Teik, Air Itam, Pulau Pinang; alamat Marimuthu ialah di Jalan Berlian 2, Bagan Ajam manakala alamat Hong Kiat ialah di Lorong Mamba 1, Bagan Ajam Butterworth.', '\"Hasil siasatan terhadap 10 orang suspek yang ditahan sebelum ini mendapati tiga lelaki ini boleh membantu polis dalam menyelesaikan kes kecurian ini,\" jelasnya.', 'Justeru, orang ramai atau mana-mana pihak yang mempunyai maklumat mengenai tiga lelaki berkenaan diminta menghubungi Pegawai Penyiasat Kanan, Asisten Supritendan S.Subramaniam di talian 04-5382 222 atau 019-6351 119.', 'Sementara itu, Mohamad Anil berkata, polis mendapat perintah tahan reman ke atas 10 suspek tersebut bermula 26 Disember lepas hingga 3 Januari ini.', 'Dua disyaki anggota Geng Lo Han ditembak mati ', 'MIRI 31 Dis. â€“ Polis Sarawak menembak mati dua penjenayah dipercayai anggota Geng Lo Han di sini, malam tadi. ', 'Dua penjenayah itu ialah Ngu Huat Leong, 22, dan Kho Chee Kiat, 22, dari Sibu.', 'Mereka ditembak mati di sebuah rumah mewah di Lot 4337, Desa Senadin kira-kira pukul 8 malam.', 'Menurut jurucakap polis, Chee Kiat dan Huat Leong amat dikehendaki polis Sibu kerana dipercayai terbabit dalam pelbagai siri jenayah rompakan bersenjata dan bunuh sekitar wilayah tengah Sarawak.', 'Kata polis, kedua-dua mereka turut dikenal pasti sebagai penjenayah berbahaya serta dipercayai memiliki senjata api.', 'Sementara itu, Pesuruhjaya Polis Sarawak, Datuk Talib Jamal ketika dihubungi pagi ini memberitahu, polis belum bersedia memberi kenyataan mengenai kes tersebut.', '\"Kita sedang menumpukan gerakan menjejaki ketua kumpulan itu yang dikenali sebagai Ho Lan,\" katanya.', 'Beliau berkata, kenyataan media hanya akan dibuat jika ia tidak menjejaskan siasatan dan gerakan polis.', '\"Polis perlukan sedikit masa untuk melengkapkan siasatan dan mengesan anggota geng berkenaan yang kini masih bebas,\" katanya.', 'Difahamkan, sebelum ini polis telah menubuhkan pasukan khas dianggotai polis Sibu dan Kuching bagi menjejaki kumpulan penjenayah berbahaya itu.', 'Penubuhan pasukan khas itu akhirnya berjaya menemukan petunjuk untuk mengesan pergerakan kumpulan terbabit di kawasan utara negeri ini.', 'Semasa serbuan malam tadi, polis turut menemui beberapa senjata berbahaya selain sebuah kereta jenis Nissan yang digunakan oleh kumpulan itu.', 'Dalam pada itu, mayat kedua-dua penjenayah terbabit telah dihantar ke rumah mayat Hospital Miri, kira-kira pukul 12 malam, selepas polis selesai menjalankan siasatan di kediaman berkenaan.', 'Polis trafik cedera dirempuh mat rempit ', 'KUALA LUMPUR 31 Dis. â€“ Seorang anggota polis trafik cedera setelah dirempuh seorang mat rempit dalam satu operasi mencegah lumba haram sekitar pusat bandar, malam tadi.', 'Dalam operasi pukul 12 tengah malam hingga 4 pagi itu, tiga remaja berusia lingkungan 15 dan 16 tahun termasuk seorang yang disyaki merempuh anggota terbabit, ditahan.', 'Timbalan Ketua Trafik Kuala Lumpur, Deputi Supritendan Shafien Mamat berkata, seorang daripada mereka cuba melarikan diri tetapi akhirnya berjaya ditahan.', '\"Kita sedang siasat sama ada motosikal yang ditunggang remaja terlibat adalah motosikal curi,â€™â€™ katanya kepada Utusan Malaysia di sini hari ini.', 'Dalam operasi itu, dua motosikal dirampas dan kira-kira 300 saman dikeluarkan terhadap penunggang dan pemilik motosikal atas pelbagai kesalahan.', 'Seramai 25 anggota dan empat pegawai dari Polis Trafik cawangan Jalan Bandar terlibat dalam operasi itu.', 'Wartawan nyaris dibelasah selepas tegur mat rempit ', 'BALING 31 Dis. â€“ Seorang wartawan Utusan Malaysia nyaris dibelasah oleh sekumpulan mat rempit yang tidak berpuas hati selepas ditegur oleh wartawan itu, di Taman Mesra Kupang di sini awal pagi ini.', 'Wartawan tersebut dikatakan menegur perbuatan mat rempit berkenaan kerana berkelakuan biadap dan membuat bising serta menunjukkan aksi bahaya di sekitar kawasan berhampiran taman tersebut.', 'Dalam kejadian kira-kira pukul 12.45 pagi itu, wartawan terbabit cuba menakut-nakutkan kumpulan mat rempit berkenaan dengan tujuan menghalau dan menghentikan perbuatan mereka.', 'Bagaimanapun, katanya, salah seorang mat rempit berkenaan tiba-tiba meluru ke arah wartawan tersebut dan hampir membelasahnya dipercayai ekoran tidak berpuas hati setelah ditegur.', '\"Melihatkan tindakan mat rempit yang berusia lingkungan 20-an itu semakin berani dan seolah-olah hilang kawalan, saya mengambil keputusan untuk beredar dari situ,\" katanya di sini hari ini.', 'Menurut wartawan itu, dia telah membuat laporan polis berhubung kejadian tersebut di Balai Polis Kupang tengahari ini.', 'Sementara itu, Timbalan Ketua Polis Baling, Deputi Supritendan Khamis Hamzah ketika dihubungi mengesahkan menerima laporan berkenaan.', 'Katanya, polis akan menjalankan siasatan lanjut berhubung kejadian tersebut.', 'Malaysia mampu muncul pengeksport ubi kayu dunia ', 'PASIR PUTEH 31 Dis. â€“ Malaysia mampu muncul sebagai negara pengeksport ubi kayu dunia selepas Thailand apabila projek penanaman jangka pendek menggunakan Cassava Tapioca dari spesies Rayon 60, dilaksanakan di seluruh Kelantan pada pertengahan tahun depan.', 'Presiden dan Ketua Eksekutif Pubel Bhd. (Pubel), Mohd Zahari Awang berkata, dalam tempoh terdekat sebuah kilang memproses ubi kayu bernilai RM10.3juta akan dibangunkan di Tawang, Bachok dengan sasaran keluaran hasil pemerosesan sebanyak 100 tan metrik sehari.', 'Pubel adalah syarikat tempatan yang memiliki rangkaian pemasaran antarabangsa termasuk di Itali dan Brazil bagi pasaran bahan ubi kepada industri berat di Amerika Latin dan Eropah manakala bagi pasaran Asia berpangkalan di Indonesia.', 'Mohd Zahari berkata, kilang di tapak seluas 1.38 hektar itu akan dilengkapi dengan pusat pembenihan baka, makmal penyelidikan dan kuarters kakitangan.', 'Beliau berkata, permintaan ubi kayu dunia sebanyak 48.5 juta tan metrik setahun bagi industri berat, tekstil dan papan lapis akan menjana ekonomi petani setempat sekiranya penanaman ubi kayu berjaya dilaksanakan secara produktif.', '\"Syarikat ini menyasarkan lebih 20 juta tan metrik setahun bagi mengimbangi bekalan ubi kayu Thailand yang menguasai pasaran dunia sekarang,\" kata beliau di sini baru-baru ini.', 'Selain Kelantan, projek yang sama juga diadakan di Johor, Perak dan Selangor, melibatkan melibatkan kawasan tanah terbiar seluar 2,528 hektar.', 'Mohd Zahari berkata, cara penanaman tidak terurus sebelum ini menyebabkan komoditi berkenaan gagal memberikan hasil lumayan, walaupun permintaan dunia adalah tinggi dan Malaysia mempunyai iklim yang sesuai untuk tanaman itu.', 'Beliau berkata, Pubel dan Uni-Bio Base International akan menjadi penggerak kepada sebilangan besar penanam tembakau di Pasir Puteh dan Bachok untuk mengusahakan ladang kontrak ubi kayu sebagai projek perintis sebelum diperluaskan di Kota Bharu, Pasir Mas, Kuala Krai, Tanah Merah, Gua Musang, Jeli dan Tumpat.', 'Dalam tempoh terdekat, katanya, negara China turut memerlukan bekalan ubi kayu untuk industri makanan ternakan haiwan.', '\"Hasil kajian dan penemuan Universiti Putra Malaysia (UPM) menunjukkan â€˜sianidaâ€™ atau toksid semulajadi yang ada boleh digunakan sebagai linamarin yang mampu mematikan sel kanser.', '\"Ubi kayu turut berpotensi dalam penghasilan bio-diesel yang tinggi berbanding kos pemprosesan dan ia mampu dilaksanakan,\" kata beliau lagi.', 'Bursa saham dunia kembali â€˜ceriaâ€™ akhir tahun ', 'NEW YORK 31 Dis. â€“ Tahun ini, bursa-bursa saham dunia menyaksikan kembalinya keceriaan dalam pasaran melalui catatan rekod kenaikan, keuntungan yang besar dan suasana peningkatan harga yang tidak dilihat berlaku sebelumnya sejak lonjakan saham-saham syarikat dot-com.', 'Pada tahun lalu, pelabur terlepas pandang terhadap kenaikan harga minyak, ketidaktentuan geopolitik dan ketidakseimbangan ekonomi yang menyebabkan petunjuk-petunjuk utama berada pada paras yang terakhir dilihat ketika sebelum memasuki abad ini.', 'Di pasaran New York, Indeks saham mewah Dow Jones berada di atas paras 12,500 mata buat pertama kali dalam sejarahnya di minggu terakhir tahun ini. ', 'Di London, Paris dan Frankfurt, indeks petunjuk mereka mencapai paras tertinggi sebelum berlakunya kejatuhan harga saham syarikat-syarikat dot-com.', 'Di Asia, pencapaian yang memberangsangkan juga dicapai dengan Indeks Hang Seng di Bursa Hong Kong melepasi paras 20,000 mata buat pertama kali Khamis lalu dan mencatat keuntungan sebanyak 34.2 peratus bagi tahun ini.', 'Indeks utama di Shanghai untung 130.47 peratus, manakala di Mumbai, ia meningkat 47 peratus. ', 'Bursa Jepun, bagaimanapun menunjukkan prestasi yang mengecewakan dengan mencatatkan kenaikan hanya 1.9 peratus bagi Indeks Topix, meskipun Indeks Nikkei untung 6.9 peratus.', 'Keceriaan pada tahun 2006 disumbang oleh sejumlah faktor, terutamanya prestasi ekonomi dunia yang kukuh tahun ini, mencatatkan peningkatan untuk tahun keempat berturut-turut.', 'Indeks saham Amerika Syarikat (AS) menunjukkan kekukuhan yang mengejutkan.', 'Indeks saham mewah Dow Jones akhirnya berjaya menghapuskan kerugiannya dan memecah rekod paras tertinggi yang dicatatkan sebelum kejatuhan saham syarikat-syarikat dot-com yang bermula pada tahun 2000.', 'Pelaburan dan perkembangan di China dan India serta kekukuhan berterusan ekonomi AS diramalkan akan membolehkan Keluaran Dalam Negara Kasar sebanyak 4.9 peratus dicapai tahun ini, demikian menurut Tabung Kewangan Antarabangsa.', 'Peningkatan dalam ekonomi sejagat membolehkan syarikat-syarikat besar yang disenaraikan di bursa-bursa saham utama dunia mencatat untung yang tinggi dan juga menjanjikan pertumbuhan yang seterusnya pada tahun depan.', 'Permintaan tinggi terhadap minyak yang menyebabkan lonjakan harga bahan itu ke paras rekod tertinggi dalam sejarahnya sebanyak AS$78 (RM273) setong pada bulan Julai lalu, menggalakkan kenaikan harga saham syarikat-syarikat minyak utama.', 'Selain pertumbuhan yang menggalakkan dan paras kecairan yang tinggi, tahun 2006 juga mencatatkan rekod bagi penggabungan dan pengambilan alih terutamanya disebabkan oleh meningkatnya kegiatan oleh dana-dana pelaburan.', 'Menurut data Thompson Financial, nilai pengambilan alih korporat meningkat 30 peratus pada tahun 2006 berbanding tahun 2005 untuk mencatat rekod baru yang berjumlah AS$3.6 trilion (RM12.60 trilion) sepanjang tempoh 12 bulan yang lalu.', 'Namun begitu, kebimbangan masih menyelubungi ekonomi dunia terutamanya berkaitan perdagangan AS dan defisit akaun semasa selain peningkatan yang melampau harga pasaran hartanah di banyak negara maju dan paras hutang pengguna yang tinggi.', 'Urusniaga saham tahun baru lembab ', 'KUALA LUMPUR 31 Dis. â€“ Bursa Malaysia dijangka mengalami dagangan lengang dalam beberapa hari pertama tahun baru disebabkan minggu yang dipendekkan oleh cuti umum, manakala harga-harga berkemungkinan menjadi lebih lengang setelah aktiviti-aktiviti memperelok saham hujung tahun oleh dana-dana tempatan, kata para peniaga.', 'Pasaran mungkin tidak menentu dengan hanya tiga hari dagangan memandangkan kebanyakan pengurus dana masih berhati-hati dalam suasana cuti hujung tahun dan tahun baru.', '\"Indeks Komposit mungkin menjunam di bawah paras 1,080 mata,\" kata seorang penganalisis daripada sebuah firma pembrokeran saham tempatan.', 'Bagaimanapun, beliau berkata, asas-asas pasaran adalah kukuh dirangsang oleh harga-harga minyak dunia yang tidak berganjak dan kemantapan nilai ringgit.', 'Kata beliau lagi, IK mungkin jatuh ke paras 1,150 sebelum melepasi 1,300 pada tahun 2007 berikutan asas-asas ekonomi yang kukuh.', '\"Perhatikan kaunter-kaunter pembinaan dan perladangan kerana kaunter-kaunter ini akan mendapat faedah daripada pelaksanaan projek-projek Rancangan Malaysia Kesembilan (RMK-9) dan juga harga minyak sawit yang lebih tinggi dalam pasaran global,\" kata beliau.', 'Hari Khamis lalu, harga-harga niaga hadapan minyak sawit melonjak ke paras tertingginya sejak bulan Januari 1999 apabila hujan lebat menjejaskan dua pengeluar minyak sawit terbesar dunia, Indonesia dan Malaysia, mengekang pengeluaran selanjutnya.', 'Adalah dilaporkan bahawa minyak sawit bagi penghantaran bulan Mac di Bursa Derivatif Malaysia semalam naik RM37, atau 1.9 peratus, untuk ditutup pada RM2,032 setan, penutupan tertinggi sejak 22 Jan, 1999.', 'Pada asas minggu ke minggu, Indeks Komposit merangkumi 100 saham berkualiti ditutup 16.52 mata lebih tinggi kepada 1,096.24 dari 1,079.72 hari Jumaat lepas, Indeks Papan Kedua naik 1.86 mata kepada 92.03 dari 90.17 dan Indeks Perusahaan naik 39.14 mata kepada 2,225.47 dari 2,186.33.', 'Indeks MESDAQ adalah 4.47 mata lebih tinggi kepada 119.92 berbanding 115.45.', 'Setakat Jumaat, siri-siri Indeks Financial Times Stock Exchange-Bursa Malaysia (FTSE-BM), memperlihatkan FBMEmas ditutup pada 7,136.40. ', 'FBMFlg pada 6,717.74, FBMScap 7,465.6, FBM30 7,049.72, FBM70 7,282.01, FBM100 7,109.97 dan FA40 pada 7,484.73.', 'Dalam minggu ini, dagangan dikuasai oleh beberapa pembelian saham semasa harga murah dan pembelian susulan di kalangan saham-saham mewah, saham harga rendah dan saham bermodal sederhana kecil, yang disokong oleh berita berkembangan korporat yang positif.', 'Mereka termasuk kaunter-kaunter seperti Tenaga Nasional, MISC dan Public Bank yang menyebabkan pedagang-pedagang yang ghairah menolak naik nilai dagangan untuk mencecah RM1.172 bilion hari Jumaat.', 'Minat yang teguh daripada broker-broker asing terhadap saham-saham perladangan, perbankan dan kaunter-kaunter berkaitan simen turut membantu meransang pembelian dalam kaunter-kaunter seperti IOI Corp, Kuala Lumpur Kepong (KLK) dan PPB Oil Palm.', 'Perkembangan korporat seperti cadangan Naza Group untuk memperolehi kepentingan di dalam Proton Holdings Bhd., dan desas-desus Malaysian Resources Corp Bhd. menawarkan untuk membeli kepentingan kawalan dalam Talam Corp Bhd. meningkatkan minat para pelabur.', 'MRCB juga meningkat lebih tinggi kerana laporan yang ia bergabung dengan CapitaLand (M) Investments Pte. Ltd. dan Quill Construction Sdn Bhd untuk membangunkan bersama projek RM650 juta di KL Sentral.', 'Menjelang hujung minggu, Proton menambah lima sen kepada RM6.60, MRCB naik satu sen kepada RM1.04 dan Talam kekal pada 22 sen.', 'Di tempat-tempat lain, AirAsia Bhd. turut meningkat kerana jangkaan keputusan terbaik bagi tiga bulan hingga bulan Disember disebabkan pengukuhan ringgit dan harga-harga bahan bakar yang lebih rendah. ', 'Ia meningkat dua sen kepada RM1.51.', 'Kaunter Papan Kedua baru disenaraikan, Resintech Bhd., pengeluar paip plastik dan tangki air gentian kaca, disenaraikan pada hari Rabu lepas.', 'Saham itu, yang dibuka pada premium 19 sen melebihi harga tawarannya 70 sen dengan 12,021 lot diniagakan, mengakhiri minggu ini pada 84 sen, turun satu sen.', 'Jumlah dagangan bagi minggu ini menurun kepada 2.957 bilion saham bernilai RM3.407 bilion berbanding 4.075 bilion saham bernilai RM6.357 bilion minggu sebelumnya.', 'Bagi Papan Utama, jumlah dagangan turun kepada 1.790 bilion saham bernilai RM2.758 bilion dari 2.534 bilion saham bernilai RM5.523 bilion manakala jumlah dagangan Papan Kedua turun kepada 265.081 juta saham bernilai RM173.433 juta from 333.157 juta saham bernilai RM218.933 juta.', 'Jumlah dagangan pasaran MESDAQ jatuh kepada 553.881 juta saham bernilai RM292.982 juta dari 784.419 juta saham bernilai RM347.523 juta manakala jumlah dagangan waran-waran panggilan turun kepada 263.522 juta saham bernilai RM182.734 juta berbanding dengan 422.811 juta saham bernilai RM207.580 juta.', 'Urusniaga langsung mengecil kepada 209.113 juta saham bernilai RM226.397 juta dari 365.466 juta saham bernilai RM650.574 juta minggu sebelumnya.', 'Kualiti pendidikan kita setanding negara maju ', 'PADA pertengahan bulan Disember, Kementerian Pengajian Tinggi telah menganjurkan satu lawatan kerja ke United Kingdom yang disertai oleh pemimpin pelajar dari semua institusi pengajian tinggi awam (IPTA) di Malaysia selama seminggu.', 'Daripada pemerhatian serta maklumat yang diperoleh pada beberapa sesi dialog yang telah diadakan, saya berpendapat Malaysia sebenarnya tidak jauh di belakang terutama dalam aspek pendidikan.', 'United Kingdom adalah gabungan empat buah negara iaitu England, Wales, Scotlang dan Ireland Utara. ', 'England adalah seluas 130,395 kilometer persegi dengan bilangan penduduknya mencapai 51 juta orang. ', 'England sering dipandang tinggi oleh penduduk Malaysia terutama dari aspek pengajian tinggi dengan kehadiran sejumlah universiti bertaraf dunia seperti Universiti Oxford dan Cambridge.', 'Beza antara universiti di England dan di Malaysia adalah universiti di England kebanyakannya tidak berbentuk kampus yang berpagar. ', 'Bangunan universiti dibina di tengah-tengah bandar di antara bangunan-bangunan lain.', 'Mereka berpendapat dengan konsep sebegini, interaksi antara universiti dengan kawasan setempat lebih jelas.', 'Selain itu, mahasiswa di sana dikatakan lebih bebas untuk bersuara, sama ada di ruangan pidato atau menulis dalam akhbar mereka sendiri. ', 'Ini menyebabkan terdapat banyak akhbar di England sehinggakan ada akhbar yang diedarkan secara percuma. ', 'Pengedaran akhbar percuma ini secara tidak langsung menggalakkan budaya membaca di kalangan penduduk di sana.', 'Adakah perbezaan ini menyebabkan kualiti pendidikan Malaysia ketinggalan berbanding UK? ', 'Saya kurang bersetuju. ', 'Majoriti universiti di Malaysia berbentuk kampus berpagar kerana ia bukan sekadar menjadi tempat menimba ilmu tetapi persediaan menghadapi alam pekerjaan.', 'Penekanan aspek disiplin dapat dilaksanakan dengan lebih mudah di samping penerapan nilai perpaduan kaum dapat diselitkan bersama.', '']\n"
          ],
          "name": "stdout"
        }
      ]
    },
    {
      "cell_type": "code",
      "metadata": {
        "id": "HyoVHrnXrGvZ"
      },
      "source": [
        "input_sentences = []\n",
        "output_sentences = []\n",
        "output_sentences_inputs = []"
      ],
      "execution_count": null,
      "outputs": []
    },
    {
      "cell_type": "code",
      "metadata": {
        "id": "yfpwC6VRrJcA"
      },
      "source": [
        "with open(filepath + '2008.txt', 'r',encoding='cp1252') as f:\n",
        "\n",
        "    lines = f.read().split('\\n')"
      ],
      "execution_count": null,
      "outputs": []
    },
    {
      "cell_type": "code",
      "metadata": {
        "id": "jXB08flWrRh6"
      },
      "source": [
        "input_texts = []\n",
        "target_texts = []\n",
        "input_sentences1 =[]\n",
        "target_sentences = []"
      ],
      "execution_count": null,
      "outputs": []
    },
    {
      "cell_type": "code",
      "metadata": {
        "id": "IWPyQChIrV6_"
      },
      "source": [
        "#prepare corpus\n",
        "#remove punctuation\n",
        "#added \\t and \\n\n",
        "for line in lines:\n",
        "     input_text = line.lower()\n",
        "     input_text = re.sub(r\"[^a-zA-Z0-9]+\", \" \", input_text)\n",
        "     input_text =re.sub(r'[ ]{2,}',r' ',input_text)\n",
        "     #target_text =line.strip()\n",
        "     target_text = '\\t '+line +' \\n'  \n",
        "     input_sentences1.append(input_text)\n",
        "     target_sentences.append(target_text)"
      ],
      "execution_count": null,
      "outputs": []
    },
    {
      "cell_type": "code",
      "metadata": {
        "id": "XdIthXLIrYc6"
      },
      "source": [
        "for i in range(len(input_sentences1)):\n",
        "  if(len(lines[i])<=200):\n",
        "    target_sentences[i]=re.sub(r'([!\"#$%&\\'‘“”’()*+,-./:;<=>…?@[\\]^_`{|}~\\n\\t])',r' \\1 ' ,target_sentences[i])\n",
        "    target_sentences[i]=re.sub(r'[ ]{2,}',r' ',target_sentences[i])\n",
        "    input_sentences.append(input_sentences1[i])\n",
        "    output = target_sentences[i]\n",
        "\n",
        "    output_sentence = output \n",
        "    output_sentence_input = output\n",
        "\n",
        "    output_sentences.append(output_sentence)\n",
        "    output_sentences_inputs.append(output_sentence_input)"
      ],
      "execution_count": null,
      "outputs": []
    },
    {
      "cell_type": "code",
      "metadata": {
        "colab": {
          "base_uri": "https://localhost:8080/"
        },
        "id": "fCZ0QSrW3yrI",
        "outputId": "ac3722fc-70b3-4832-c48d-39e0595ff521"
      },
      "source": [
        "print(\"num samples input:\", len(input_sentences))\n",
        "print(\"num samples output:\", len(output_sentences))\n",
        "print(\"num samples output input:\", len(output_sentences_inputs))"
      ],
      "execution_count": null,
      "outputs": [
        {
          "output_type": "stream",
          "text": [
            "num samples input: 460949\n",
            "num samples output: 460949\n",
            "num samples output input: 460949\n"
          ],
          "name": "stdout"
        }
      ]
    },
    {
      "cell_type": "code",
      "metadata": {
        "colab": {
          "base_uri": "https://localhost:8080/"
        },
        "id": "YiyqxLt-4fA_",
        "outputId": "b18cc985-50c6-4f49-ecc4-78f4d8bfcf44"
      },
      "source": [
        "input_tokenizer = Tokenizer(lower=False,num_words=MAX_NUM_WORDS,oov_token='<oov>')\n",
        "input_tokenizer.fit_on_texts(input_sentences)\n",
        "input_integer_seq = input_tokenizer.texts_to_sequences(input_sentences)\n",
        "\n",
        "word2idx_inputs = input_tokenizer.word_index\n",
        "print('Total unique words in the input: %s' % len(word2idx_inputs))\n",
        "\n",
        "max_input_len = max(len(sen) for sen in input_integer_seq)\n",
        "print(\"Length of longest sentence in input: %g\" % max_input_len)"
      ],
      "execution_count": null,
      "outputs": [
        {
          "output_type": "stream",
          "text": [
            "Total unique words in the input: 83249\n",
            "Length of longest sentence in input: 44\n"
          ],
          "name": "stdout"
        }
      ]
    },
    {
      "cell_type": "code",
      "metadata": {
        "colab": {
          "base_uri": "https://localhost:8080/"
        },
        "id": "mbxqM6Fb4z2x",
        "outputId": "6bdf4491-bb6a-41d0-eef4-1e9b2aed2b58"
      },
      "source": [
        "output_tokenizer = Tokenizer(lower=False,num_words=MAX_NUM_WORDS, filters='',oov_token='<oov>')\n",
        "output_tokenizer.fit_on_texts(output_sentences + output_sentences_inputs)\n",
        "output_integer_seq = output_tokenizer.texts_to_sequences(output_sentences)\n",
        "output_input_integer_seq = output_tokenizer.texts_to_sequences(output_sentences_inputs)\n",
        "\n",
        "word2idx_outputs = output_tokenizer.word_index\n",
        "print('Total unique words in the output: %s' % len(word2idx_outputs))\n",
        "\n",
        "num_words_output = len(word2idx_outputs) + 1\n",
        "max_out_len = max(len(sen) for sen in output_integer_seq)\n",
        "print(\"Length of longest sentence in the output: %g\" % max_out_len)"
      ],
      "execution_count": null,
      "outputs": [
        {
          "output_type": "stream",
          "text": [
            "Total unique words in the output: 104515\n",
            "Length of longest sentence in the output: 64\n"
          ],
          "name": "stdout"
        }
      ]
    },
    {
      "cell_type": "code",
      "metadata": {
        "id": "yHOnC4Vd6G4o"
      },
      "source": [
        "# enc_token = save tokenized input characters\n",
        "enc_token = tokenize(input_sentences)\n",
        "reverse_enc_dict = {i: c for c, i in enc_token.word_index.items()}\n",
        "\n",
        "# dec_token = save tokenized target characters\n",
        "dec_token = tokenize(output_sentences)\n",
        "reverse_dec_dict = {i: c for c, i in dec_token.word_index.items()}\n",
        "\n",
        "a = {'max_encoder_seq_length': max_input_len,\n",
        "     'max_decoder_seq_length': max_out_len,\n",
        "     'enc_vocab_size': MAX_NUM_WORDS+1,\n",
        "     'dec_vocab_size': MAX_NUM_WORDS+1,\n",
        "     'reverse_enc_dict': reverse_enc_dict,\n",
        "     'reverse_dec_dict': reverse_dec_dict,\n",
        "     'enc_token': enc_token,\n",
        "     'dec_token': dec_token}\n",
        "\n",
        "with open(filepath + 'params_word_1.pkl', 'wb') as handle:\n",
        "   pickle.dump(a, handle, protocol=pickle.HIGHEST_PROTOCOL)"
      ],
      "execution_count": null,
      "outputs": []
    },
    {
      "cell_type": "code",
      "metadata": {
        "id": "x7vZm41i8O4f"
      },
      "source": [
        "def get_text_encodings_generate(texts):\n",
        "    result = []\n",
        "    for x in texts[0].split(' '):\n",
        "      try:\n",
        "        if enc_token.word_index[x] > MAX_NUM_WORDS:\n",
        "          result.append(enc_token.word_index['<oov>'])\n",
        "        else:  \n",
        "          result.append(enc_token.word_index[x])\n",
        "      except:\n",
        "        continue\n",
        "    pad_seq = pad_sequences([result], maxlen=max_input_len,\n",
        "                            padding='post')\n",
        "    pad_seq = to_categorical(pad_seq, num_classes=MAX_NUM_WORDS+1)\n",
        "    return pad_seq"
      ],
      "execution_count": null,
      "outputs": []
    },
    {
      "cell_type": "code",
      "metadata": {
        "id": "ZdAhkzk58Q9P"
      },
      "source": [
        "def get_text_decodings_generate(texts):\n",
        "    result = []\n",
        "    for x in texts[0].split(' '):\n",
        "      try:\n",
        "        if dec_token.word_index[x] > MAX_NUM_WORDS:\n",
        "          result.append(dec_token.word_index['<oov>'])\n",
        "        else:  \n",
        "          result.append(dec_token.word_index[x])\n",
        "      except:\n",
        "        continue\n",
        "    pad_seq = pad_sequences([result], maxlen=max_out_len,\n",
        "                            padding='post')\n",
        "    pad_seq = to_categorical(pad_seq, num_classes=MAX_NUM_WORDS+1)\n",
        "  \n",
        "    return pad_seq"
      ],
      "execution_count": null,
      "outputs": []
    },
    {
      "cell_type": "code",
      "metadata": {
        "id": "G_o3xevx6bhC"
      },
      "source": [
        "def generate_batch(X, y, batch_size=32):\n",
        "    ''' Generate a batch of data '''\n",
        "    while True:\n",
        "        for j in range(0, len(X), batch_size):\n",
        "            \n",
        "            encoder_input_data = np.zeros((batch_size, max_input_len,MAX_NUM_WORDS+1), dtype='float32')\n",
        "\n",
        "            decoder_input_data = np.zeros((batch_size, max_out_len, MAX_NUM_WORDS+1), dtype='float32')\n",
        "\n",
        "            decoder_target_data = np.zeros((batch_size, max_out_len, MAX_NUM_WORDS+1), dtype='float32')\n",
        "\n",
        "\n",
        "            for i, (input_sentence, target_sentence) in enumerate(zip(X[j:j+batch_size], y[j:j+batch_size])):\n",
        "\n",
        "                encoder_input_data[i] = get_text_encodings_generate([input_sentence])\n",
        "                decoder_input_data[i] = get_text_decodings_generate([target_sentence])\n",
        "                decoder_target_data[i] = get_text_decodings_generate([target_sentence[2 :]])\n",
        "\n",
        "            yield([encoder_input_data, decoder_input_data], decoder_target_data)"
      ],
      "execution_count": null,
      "outputs": []
    },
    {
      "cell_type": "code",
      "metadata": {
        "id": "AV9AhQHJ6orh"
      },
      "source": [
        "encoder_inputs = Input(shape=(None,MAX_NUM_WORDS+1,))\n",
        "encoder = Bidirectional(LSTM(128,return_sequences=True, return_state=True),merge_mode='concat')\n",
        "encoder_outputs, forward_h, forward_c, backward_h, backward_c = encoder(encoder_inputs)\n",
        "\n",
        "encoder_h = concatenate([forward_h, backward_h])\n",
        "encoder_c = concatenate([forward_c, backward_c])\n",
        "\n",
        "decoder_inputs = Input(shape=(None, MAX_NUM_WORDS+1,))\n",
        "decoder_lstm = LSTM(256, return_sequences=True)\n",
        "decoder_outputs = decoder_lstm(decoder_inputs, initial_state=[encoder_h, encoder_c])\n",
        "\n",
        "attention = dot([decoder_outputs, encoder_outputs], axes=(2, 2))\n",
        "attention = Activation('softmax', name='attention')(attention)\n",
        "context = dot([attention, encoder_outputs], axes=(2, 1))\n",
        "decoder_combined_context = concatenate([context, decoder_outputs])\n",
        "\n",
        "output = TimeDistributed(Dense(128, activation=\"relu\"))(decoder_combined_context)\n",
        "output = TimeDistributed(Dense(MAX_NUM_WORDS+1, activation=\"softmax\"))(output)\n",
        "\n",
        "model = Model([encoder_inputs, decoder_inputs], [output])"
      ],
      "execution_count": null,
      "outputs": []
    },
    {
      "cell_type": "code",
      "metadata": {
        "colab": {
          "base_uri": "https://localhost:8080/"
        },
        "id": "hfHzLcij7cQ4",
        "outputId": "5e3fba74-8b13-456d-ab7d-5478fe152cfb"
      },
      "source": [
        "model.summary()"
      ],
      "execution_count": null,
      "outputs": [
        {
          "output_type": "stream",
          "text": [
            "Model: \"model\"\n",
            "__________________________________________________________________________________________________\n",
            "Layer (type)                    Output Shape         Param #     Connected to                     \n",
            "==================================================================================================\n",
            "input_1 (InputLayer)            [(None, None, 4001)] 0                                            \n",
            "__________________________________________________________________________________________________\n",
            "bidirectional (Bidirectional)   [(None, None, 256),  4229120     input_1[0][0]                    \n",
            "__________________________________________________________________________________________________\n",
            "input_2 (InputLayer)            [(None, None, 4001)] 0                                            \n",
            "__________________________________________________________________________________________________\n",
            "concatenate (Concatenate)       (None, 256)          0           bidirectional[0][1]              \n",
            "                                                                 bidirectional[0][3]              \n",
            "__________________________________________________________________________________________________\n",
            "concatenate_1 (Concatenate)     (None, 256)          0           bidirectional[0][2]              \n",
            "                                                                 bidirectional[0][4]              \n",
            "__________________________________________________________________________________________________\n",
            "lstm_1 (LSTM)                   (None, None, 256)    4360192     input_2[0][0]                    \n",
            "                                                                 concatenate[0][0]                \n",
            "                                                                 concatenate_1[0][0]              \n",
            "__________________________________________________________________________________________________\n",
            "dot (Dot)                       (None, None, None)   0           lstm_1[0][0]                     \n",
            "                                                                 bidirectional[0][0]              \n",
            "__________________________________________________________________________________________________\n",
            "attention (Activation)          (None, None, None)   0           dot[0][0]                        \n",
            "__________________________________________________________________________________________________\n",
            "dot_1 (Dot)                     (None, None, 256)    0           attention[0][0]                  \n",
            "                                                                 bidirectional[0][0]              \n",
            "__________________________________________________________________________________________________\n",
            "concatenate_2 (Concatenate)     (None, None, 512)    0           dot_1[0][0]                      \n",
            "                                                                 lstm_1[0][0]                     \n",
            "__________________________________________________________________________________________________\n",
            "time_distributed (TimeDistribut (None, None, 128)    65664       concatenate_2[0][0]              \n",
            "__________________________________________________________________________________________________\n",
            "time_distributed_1 (TimeDistrib (None, None, 4001)   516129      time_distributed[0][0]           \n",
            "==================================================================================================\n",
            "Total params: 9,171,105\n",
            "Trainable params: 9,171,105\n",
            "Non-trainable params: 0\n",
            "__________________________________________________________________________________________________\n"
          ],
          "name": "stdout"
        }
      ]
    },
    {
      "cell_type": "code",
      "metadata": {
        "colab": {
          "base_uri": "https://localhost:8080/"
        },
        "id": "MXKK1Ixf7dsH",
        "outputId": "37749975-894e-4f62-eb91-1be3dadb7343"
      },
      "source": [
        "print('input_texts length :' , len(input_sentences))"
      ],
      "execution_count": null,
      "outputs": [
        {
          "output_type": "stream",
          "text": [
            "input_texts length : 460949\n"
          ],
          "name": "stdout"
        }
      ]
    },
    {
      "cell_type": "code",
      "metadata": {
        "id": "k5a0WYIz7fpH"
      },
      "source": [
        "def train_model(batch_size = 256, epochs=5):\n",
        "    model.compile(optimizer='adam', loss='categorical_crossentropy', metrics=['accuracy'])\n",
        "    model.fit_generator(\n",
        "        generator=generate_batch(X=input_sentences, y=output_sentences, batch_size=batch_size),\n",
        "        steps_per_epoch=math.ceil(len(input_sentences)/batch_size),\n",
        "        epochs=epochs,\n",
        "        verbose=1,\n",
        "        validation_data = generate_batch(X=testinput, y=testoutput, batch_size=batch_size),\n",
        "        validation_steps=math.ceil(len(testinput)/batch_size),\n",
        "        workers=1,\n",
        "    )"
      ],
      "execution_count": null,
      "outputs": []
    },
    {
      "cell_type": "code",
      "metadata": {
        "colab": {
          "base_uri": "https://localhost:8080/",
          "height": 455
        },
        "id": "mX_tCPEn7olX",
        "outputId": "ea222ede-8ddb-4072-ba2e-1c65a5035873"
      },
      "source": [
        "train_model(epochs=1)\n",
        "\n",
        "weights_path = os.path.join(filepath, 'checkpoint_word_1.h5')\n",
        "model.save_weights(weights_path)"
      ],
      "execution_count": null,
      "outputs": [
        {
          "output_type": "stream",
          "text": [
            "/usr/local/lib/python3.6/dist-packages/tensorflow/python/keras/engine/training.py:1844: UserWarning: `Model.fit_generator` is deprecated and will be removed in a future version. Please use `Model.fit`, which supports generators.\n",
            "  warnings.warn('`Model.fit_generator` is deprecated and '\n"
          ],
          "name": "stderr"
        },
        {
          "output_type": "stream",
          "text": [
            " 244/1801 [===>..........................] - ETA: 22:58 - loss: 3.1276 - accuracy: 0.7212"
          ],
          "name": "stdout"
        },
        {
          "output_type": "error",
          "ename": "KeyboardInterrupt",
          "evalue": "ignored",
          "traceback": [
            "\u001b[0;31m---------------------------------------------------------------------------\u001b[0m",
            "\u001b[0;31mKeyboardInterrupt\u001b[0m                         Traceback (most recent call last)",
            "\u001b[0;32m<ipython-input-26-2d67b3414f47>\u001b[0m in \u001b[0;36m<module>\u001b[0;34m()\u001b[0m\n\u001b[0;32m----> 1\u001b[0;31m \u001b[0mtrain_model\u001b[0m\u001b[0;34m(\u001b[0m\u001b[0mepochs\u001b[0m\u001b[0;34m=\u001b[0m\u001b[0;36m1\u001b[0m\u001b[0;34m)\u001b[0m\u001b[0;34m\u001b[0m\u001b[0;34m\u001b[0m\u001b[0m\n\u001b[0m\u001b[1;32m      2\u001b[0m \u001b[0;34m\u001b[0m\u001b[0m\n\u001b[1;32m      3\u001b[0m \u001b[0mweights_path\u001b[0m \u001b[0;34m=\u001b[0m \u001b[0mos\u001b[0m\u001b[0;34m.\u001b[0m\u001b[0mpath\u001b[0m\u001b[0;34m.\u001b[0m\u001b[0mjoin\u001b[0m\u001b[0;34m(\u001b[0m\u001b[0;34m'/content/drive/MyDrive/Dataset/nlp_assignment 2/'\u001b[0m\u001b[0;34m,\u001b[0m \u001b[0;34m'checkpoint_word_1.h5'\u001b[0m\u001b[0;34m)\u001b[0m\u001b[0;34m\u001b[0m\u001b[0;34m\u001b[0m\u001b[0m\n\u001b[1;32m      4\u001b[0m \u001b[0mmodel\u001b[0m\u001b[0;34m.\u001b[0m\u001b[0msave_weights\u001b[0m\u001b[0;34m(\u001b[0m\u001b[0mweights_path\u001b[0m\u001b[0;34m)\u001b[0m\u001b[0;34m\u001b[0m\u001b[0;34m\u001b[0m\u001b[0m\n",
            "\u001b[0;32m<ipython-input-25-7454ea306e6a>\u001b[0m in \u001b[0;36mtrain_model\u001b[0;34m(batch_size, epochs)\u001b[0m\n\u001b[1;32m      8\u001b[0m         \u001b[0mvalidation_data\u001b[0m \u001b[0;34m=\u001b[0m \u001b[0mgenerate_batch\u001b[0m\u001b[0;34m(\u001b[0m\u001b[0mX\u001b[0m\u001b[0;34m=\u001b[0m\u001b[0mtestinput\u001b[0m\u001b[0;34m,\u001b[0m \u001b[0my\u001b[0m\u001b[0;34m=\u001b[0m\u001b[0mtestoutput\u001b[0m\u001b[0;34m,\u001b[0m \u001b[0mbatch_size\u001b[0m\u001b[0;34m=\u001b[0m\u001b[0mbatch_size\u001b[0m\u001b[0;34m)\u001b[0m\u001b[0;34m,\u001b[0m\u001b[0;34m\u001b[0m\u001b[0;34m\u001b[0m\u001b[0m\n\u001b[1;32m      9\u001b[0m         \u001b[0mvalidation_steps\u001b[0m\u001b[0;34m=\u001b[0m\u001b[0mmath\u001b[0m\u001b[0;34m.\u001b[0m\u001b[0mceil\u001b[0m\u001b[0;34m(\u001b[0m\u001b[0mlen\u001b[0m\u001b[0;34m(\u001b[0m\u001b[0mtestinput\u001b[0m\u001b[0;34m)\u001b[0m\u001b[0;34m/\u001b[0m\u001b[0mbatch_size\u001b[0m\u001b[0;34m)\u001b[0m\u001b[0;34m,\u001b[0m\u001b[0;34m\u001b[0m\u001b[0;34m\u001b[0m\u001b[0m\n\u001b[0;32m---> 10\u001b[0;31m         \u001b[0mworkers\u001b[0m\u001b[0;34m=\u001b[0m\u001b[0;36m1\u001b[0m\u001b[0;34m,\u001b[0m\u001b[0;34m\u001b[0m\u001b[0;34m\u001b[0m\u001b[0m\n\u001b[0m\u001b[1;32m     11\u001b[0m     )\n",
            "\u001b[0;32m/usr/local/lib/python3.6/dist-packages/tensorflow/python/keras/engine/training.py\u001b[0m in \u001b[0;36mfit_generator\u001b[0;34m(self, generator, steps_per_epoch, epochs, verbose, callbacks, validation_data, validation_steps, validation_freq, class_weight, max_queue_size, workers, use_multiprocessing, shuffle, initial_epoch)\u001b[0m\n\u001b[1;32m   1859\u001b[0m         \u001b[0muse_multiprocessing\u001b[0m\u001b[0;34m=\u001b[0m\u001b[0muse_multiprocessing\u001b[0m\u001b[0;34m,\u001b[0m\u001b[0;34m\u001b[0m\u001b[0;34m\u001b[0m\u001b[0m\n\u001b[1;32m   1860\u001b[0m         \u001b[0mshuffle\u001b[0m\u001b[0;34m=\u001b[0m\u001b[0mshuffle\u001b[0m\u001b[0;34m,\u001b[0m\u001b[0;34m\u001b[0m\u001b[0;34m\u001b[0m\u001b[0m\n\u001b[0;32m-> 1861\u001b[0;31m         initial_epoch=initial_epoch)\n\u001b[0m\u001b[1;32m   1862\u001b[0m \u001b[0;34m\u001b[0m\u001b[0m\n\u001b[1;32m   1863\u001b[0m   def evaluate_generator(self,\n",
            "\u001b[0;32m/usr/local/lib/python3.6/dist-packages/tensorflow/python/keras/engine/training.py\u001b[0m in \u001b[0;36mfit\u001b[0;34m(self, x, y, batch_size, epochs, verbose, callbacks, validation_split, validation_data, shuffle, class_weight, sample_weight, initial_epoch, steps_per_epoch, validation_steps, validation_batch_size, validation_freq, max_queue_size, workers, use_multiprocessing)\u001b[0m\n\u001b[1;32m   1098\u001b[0m                 _r=1):\n\u001b[1;32m   1099\u001b[0m               \u001b[0mcallbacks\u001b[0m\u001b[0;34m.\u001b[0m\u001b[0mon_train_batch_begin\u001b[0m\u001b[0;34m(\u001b[0m\u001b[0mstep\u001b[0m\u001b[0;34m)\u001b[0m\u001b[0;34m\u001b[0m\u001b[0;34m\u001b[0m\u001b[0m\n\u001b[0;32m-> 1100\u001b[0;31m               \u001b[0mtmp_logs\u001b[0m \u001b[0;34m=\u001b[0m \u001b[0mself\u001b[0m\u001b[0;34m.\u001b[0m\u001b[0mtrain_function\u001b[0m\u001b[0;34m(\u001b[0m\u001b[0miterator\u001b[0m\u001b[0;34m)\u001b[0m\u001b[0;34m\u001b[0m\u001b[0;34m\u001b[0m\u001b[0m\n\u001b[0m\u001b[1;32m   1101\u001b[0m               \u001b[0;32mif\u001b[0m \u001b[0mdata_handler\u001b[0m\u001b[0;34m.\u001b[0m\u001b[0mshould_sync\u001b[0m\u001b[0;34m:\u001b[0m\u001b[0;34m\u001b[0m\u001b[0;34m\u001b[0m\u001b[0m\n\u001b[1;32m   1102\u001b[0m                 \u001b[0mcontext\u001b[0m\u001b[0;34m.\u001b[0m\u001b[0masync_wait\u001b[0m\u001b[0;34m(\u001b[0m\u001b[0;34m)\u001b[0m\u001b[0;34m\u001b[0m\u001b[0;34m\u001b[0m\u001b[0m\n",
            "\u001b[0;32m/usr/local/lib/python3.6/dist-packages/tensorflow/python/eager/def_function.py\u001b[0m in \u001b[0;36m__call__\u001b[0;34m(self, *args, **kwds)\u001b[0m\n\u001b[1;32m    826\u001b[0m     \u001b[0mtracing_count\u001b[0m \u001b[0;34m=\u001b[0m \u001b[0mself\u001b[0m\u001b[0;34m.\u001b[0m\u001b[0mexperimental_get_tracing_count\u001b[0m\u001b[0;34m(\u001b[0m\u001b[0;34m)\u001b[0m\u001b[0;34m\u001b[0m\u001b[0;34m\u001b[0m\u001b[0m\n\u001b[1;32m    827\u001b[0m     \u001b[0;32mwith\u001b[0m \u001b[0mtrace\u001b[0m\u001b[0;34m.\u001b[0m\u001b[0mTrace\u001b[0m\u001b[0;34m(\u001b[0m\u001b[0mself\u001b[0m\u001b[0;34m.\u001b[0m\u001b[0m_name\u001b[0m\u001b[0;34m)\u001b[0m \u001b[0;32mas\u001b[0m \u001b[0mtm\u001b[0m\u001b[0;34m:\u001b[0m\u001b[0;34m\u001b[0m\u001b[0;34m\u001b[0m\u001b[0m\n\u001b[0;32m--> 828\u001b[0;31m       \u001b[0mresult\u001b[0m \u001b[0;34m=\u001b[0m \u001b[0mself\u001b[0m\u001b[0;34m.\u001b[0m\u001b[0m_call\u001b[0m\u001b[0;34m(\u001b[0m\u001b[0;34m*\u001b[0m\u001b[0margs\u001b[0m\u001b[0;34m,\u001b[0m \u001b[0;34m**\u001b[0m\u001b[0mkwds\u001b[0m\u001b[0;34m)\u001b[0m\u001b[0;34m\u001b[0m\u001b[0;34m\u001b[0m\u001b[0m\n\u001b[0m\u001b[1;32m    829\u001b[0m       \u001b[0mcompiler\u001b[0m \u001b[0;34m=\u001b[0m \u001b[0;34m\"xla\"\u001b[0m \u001b[0;32mif\u001b[0m \u001b[0mself\u001b[0m\u001b[0;34m.\u001b[0m\u001b[0m_experimental_compile\u001b[0m \u001b[0;32melse\u001b[0m \u001b[0;34m\"nonXla\"\u001b[0m\u001b[0;34m\u001b[0m\u001b[0;34m\u001b[0m\u001b[0m\n\u001b[1;32m    830\u001b[0m       \u001b[0mnew_tracing_count\u001b[0m \u001b[0;34m=\u001b[0m \u001b[0mself\u001b[0m\u001b[0;34m.\u001b[0m\u001b[0mexperimental_get_tracing_count\u001b[0m\u001b[0;34m(\u001b[0m\u001b[0;34m)\u001b[0m\u001b[0;34m\u001b[0m\u001b[0;34m\u001b[0m\u001b[0m\n",
            "\u001b[0;32m/usr/local/lib/python3.6/dist-packages/tensorflow/python/eager/def_function.py\u001b[0m in \u001b[0;36m_call\u001b[0;34m(self, *args, **kwds)\u001b[0m\n\u001b[1;32m    853\u001b[0m       \u001b[0;31m# In this case we have created variables on the first call, so we run the\u001b[0m\u001b[0;34m\u001b[0m\u001b[0;34m\u001b[0m\u001b[0;34m\u001b[0m\u001b[0m\n\u001b[1;32m    854\u001b[0m       \u001b[0;31m# defunned version which is guaranteed to never create variables.\u001b[0m\u001b[0;34m\u001b[0m\u001b[0;34m\u001b[0m\u001b[0;34m\u001b[0m\u001b[0m\n\u001b[0;32m--> 855\u001b[0;31m       \u001b[0;32mreturn\u001b[0m \u001b[0mself\u001b[0m\u001b[0;34m.\u001b[0m\u001b[0m_stateless_fn\u001b[0m\u001b[0;34m(\u001b[0m\u001b[0;34m*\u001b[0m\u001b[0margs\u001b[0m\u001b[0;34m,\u001b[0m \u001b[0;34m**\u001b[0m\u001b[0mkwds\u001b[0m\u001b[0;34m)\u001b[0m  \u001b[0;31m# pylint: disable=not-callable\u001b[0m\u001b[0;34m\u001b[0m\u001b[0;34m\u001b[0m\u001b[0m\n\u001b[0m\u001b[1;32m    856\u001b[0m     \u001b[0;32melif\u001b[0m \u001b[0mself\u001b[0m\u001b[0;34m.\u001b[0m\u001b[0m_stateful_fn\u001b[0m \u001b[0;32mis\u001b[0m \u001b[0;32mnot\u001b[0m \u001b[0;32mNone\u001b[0m\u001b[0;34m:\u001b[0m\u001b[0;34m\u001b[0m\u001b[0;34m\u001b[0m\u001b[0m\n\u001b[1;32m    857\u001b[0m       \u001b[0;31m# Release the lock early so that multiple threads can perform the call\u001b[0m\u001b[0;34m\u001b[0m\u001b[0;34m\u001b[0m\u001b[0;34m\u001b[0m\u001b[0m\n",
            "\u001b[0;32m/usr/local/lib/python3.6/dist-packages/tensorflow/python/eager/function.py\u001b[0m in \u001b[0;36m__call__\u001b[0;34m(self, *args, **kwargs)\u001b[0m\n\u001b[1;32m   2941\u001b[0m        filtered_flat_args) = self._maybe_define_function(args, kwargs)\n\u001b[1;32m   2942\u001b[0m     return graph_function._call_flat(\n\u001b[0;32m-> 2943\u001b[0;31m         filtered_flat_args, captured_inputs=graph_function.captured_inputs)  # pylint: disable=protected-access\n\u001b[0m\u001b[1;32m   2944\u001b[0m \u001b[0;34m\u001b[0m\u001b[0m\n\u001b[1;32m   2945\u001b[0m   \u001b[0;34m@\u001b[0m\u001b[0mproperty\u001b[0m\u001b[0;34m\u001b[0m\u001b[0;34m\u001b[0m\u001b[0m\n",
            "\u001b[0;32m/usr/local/lib/python3.6/dist-packages/tensorflow/python/eager/function.py\u001b[0m in \u001b[0;36m_call_flat\u001b[0;34m(self, args, captured_inputs, cancellation_manager)\u001b[0m\n\u001b[1;32m   1917\u001b[0m       \u001b[0;31m# No tape is watching; skip to running the function.\u001b[0m\u001b[0;34m\u001b[0m\u001b[0;34m\u001b[0m\u001b[0;34m\u001b[0m\u001b[0m\n\u001b[1;32m   1918\u001b[0m       return self._build_call_outputs(self._inference_function.call(\n\u001b[0;32m-> 1919\u001b[0;31m           ctx, args, cancellation_manager=cancellation_manager))\n\u001b[0m\u001b[1;32m   1920\u001b[0m     forward_backward = self._select_forward_and_backward_functions(\n\u001b[1;32m   1921\u001b[0m         \u001b[0margs\u001b[0m\u001b[0;34m,\u001b[0m\u001b[0;34m\u001b[0m\u001b[0;34m\u001b[0m\u001b[0m\n",
            "\u001b[0;32m/usr/local/lib/python3.6/dist-packages/tensorflow/python/eager/function.py\u001b[0m in \u001b[0;36mcall\u001b[0;34m(self, ctx, args, cancellation_manager)\u001b[0m\n\u001b[1;32m    558\u001b[0m               \u001b[0minputs\u001b[0m\u001b[0;34m=\u001b[0m\u001b[0margs\u001b[0m\u001b[0;34m,\u001b[0m\u001b[0;34m\u001b[0m\u001b[0;34m\u001b[0m\u001b[0m\n\u001b[1;32m    559\u001b[0m               \u001b[0mattrs\u001b[0m\u001b[0;34m=\u001b[0m\u001b[0mattrs\u001b[0m\u001b[0;34m,\u001b[0m\u001b[0;34m\u001b[0m\u001b[0;34m\u001b[0m\u001b[0m\n\u001b[0;32m--> 560\u001b[0;31m               ctx=ctx)\n\u001b[0m\u001b[1;32m    561\u001b[0m         \u001b[0;32melse\u001b[0m\u001b[0;34m:\u001b[0m\u001b[0;34m\u001b[0m\u001b[0;34m\u001b[0m\u001b[0m\n\u001b[1;32m    562\u001b[0m           outputs = execute.execute_with_cancellation(\n",
            "\u001b[0;32m/usr/local/lib/python3.6/dist-packages/tensorflow/python/eager/execute.py\u001b[0m in \u001b[0;36mquick_execute\u001b[0;34m(op_name, num_outputs, inputs, attrs, ctx, name)\u001b[0m\n\u001b[1;32m     58\u001b[0m     \u001b[0mctx\u001b[0m\u001b[0;34m.\u001b[0m\u001b[0mensure_initialized\u001b[0m\u001b[0;34m(\u001b[0m\u001b[0;34m)\u001b[0m\u001b[0;34m\u001b[0m\u001b[0;34m\u001b[0m\u001b[0m\n\u001b[1;32m     59\u001b[0m     tensors = pywrap_tfe.TFE_Py_Execute(ctx._handle, device_name, op_name,\n\u001b[0;32m---> 60\u001b[0;31m                                         inputs, attrs, num_outputs)\n\u001b[0m\u001b[1;32m     61\u001b[0m   \u001b[0;32mexcept\u001b[0m \u001b[0mcore\u001b[0m\u001b[0;34m.\u001b[0m\u001b[0m_NotOkStatusException\u001b[0m \u001b[0;32mas\u001b[0m \u001b[0me\u001b[0m\u001b[0;34m:\u001b[0m\u001b[0;34m\u001b[0m\u001b[0;34m\u001b[0m\u001b[0m\n\u001b[1;32m     62\u001b[0m     \u001b[0;32mif\u001b[0m \u001b[0mname\u001b[0m \u001b[0;32mis\u001b[0m \u001b[0;32mnot\u001b[0m \u001b[0;32mNone\u001b[0m\u001b[0;34m:\u001b[0m\u001b[0;34m\u001b[0m\u001b[0;34m\u001b[0m\u001b[0m\n",
            "\u001b[0;31mKeyboardInterrupt\u001b[0m: "
          ]
        }
      ]
    },
    {
      "cell_type": "code",
      "metadata": {
        "id": "VUD_hPy_C968"
      },
      "source": [
        "weights_path = os.path.join(filepath, 'checkpoint_word_1.h5')\n",
        "model.load_weights(weights_path)"
      ],
      "execution_count": null,
      "outputs": []
    },
    {
      "cell_type": "code",
      "metadata": {
        "id": "YJ_fyZt1sM3Z"
      },
      "source": [
        "# Load parameters\n",
        "with open(filepath + 'params_word_1.pkl', \"rb\") as file:\n",
        "    parameters = pickle.load(file)"
      ],
      "execution_count": null,
      "outputs": []
    },
    {
      "cell_type": "code",
      "metadata": {
        "id": "piTpUSZ7DBv4"
      },
      "source": [
        "# TESTING\n",
        "def get_text_encodings(texts):\n",
        "    result = []\n",
        "    for x in texts[0].split(' '):\n",
        "      try:\n",
        "        if parameters[\"enc_token\"].word_index[x] > MAX_NUM_WORDS:\n",
        "          result.append(parameters[\"enc_token\"].word_index['<oov>'])\n",
        "        else:  \n",
        "          result.append(parameters[\"enc_token\"].word_index[x])\n",
        "      except:\n",
        "        continue\n",
        "    pad_seq = pad_sequences([result], maxlen=parameters[\"max_encoder_seq_length\"],\n",
        "                            padding='post')\n",
        "    pad_seq = to_categorical(pad_seq, num_classes=parameters[\"enc_vocab_size\"])\n",
        "    return pad_seq"
      ],
      "execution_count": null,
      "outputs": []
    },
    {
      "cell_type": "code",
      "metadata": {
        "id": "3PH9TH60NM0n"
      },
      "source": [
        "def get_extra_chars():\n",
        "    allowed_extras = []\n",
        "    for d_c, d_i in parameters[\"dec_token\"].word_index.items():\n",
        "        \n",
        "        if d_c.lower() not in parameters[\"enc_token\"].word_index:\n",
        "            allowed_extras.append(d_i)\n",
        "    return allowed_extras"
      ],
      "execution_count": null,
      "outputs": []
    },
    {
      "cell_type": "code",
      "metadata": {
        "id": "XBwwo80ANSbc"
      },
      "source": [
        "def decode(input_text, allowed_extras, batch_size=128):\n",
        "    input_texts = [input_text]\n",
        "    input_texts_c = input_texts.copy()\n",
        "    out_dict = {}\n",
        "    input_sequences = get_text_encodings(input_texts)\n",
        "    outputs = [\"\"] * len(input_sequences+1)\n",
        "    target_text = \"\\t\"\n",
        "    parameters[\"reverse_dec_dict\"][0] = \"\\n\"\n",
        "\n",
        "    target_seq = parameters[\"dec_token\"].texts_to_sequences([target_text] * len(input_sequences))\n",
        "    target_seq = pad_sequences(target_seq, maxlen=parameters[\"max_decoder_seq_length\"],\n",
        "                               padding=\"post\")\n",
        "\n",
        "    target_seq_hot = to_categorical(target_seq, num_classes=parameters[\"dec_vocab_size\"])\n",
        "\n",
        "    extra_char_count = [0] * len(input_texts)\n",
        "    prev_char_index = [0] * len(input_texts)\n",
        "    i = 0\n",
        "    \n",
        "    while len(input_texts) != 0:\n",
        "\n",
        "        curr_char_index = [i - extra_char_count[j] for j in range(len(input_texts))]\n",
        "        input_encodings = np.argmax(input_sequences, axis=2)\n",
        "        cur_inp_list = [input_encodings[_][curr_char_index[_]] if curr_char_index[_] < len(input_texts[_]) else 0 for _\n",
        "                        in range(len(input_texts))]\n",
        "        output_tokens = model.predict([input_sequences, target_seq_hot], batch_size=batch_size)\n",
        "\n",
        "        sampled_possible_indices = np.argsort(output_tokens[:, i, :])[:, ::-1].tolist()\n",
        "        sampled_token_indices = []\n",
        "        for j, per_char_list in enumerate(sampled_possible_indices):\n",
        "            \n",
        "            for index in per_char_list:\n",
        "                if index in allowed_extras:\n",
        "                    if parameters[\"reverse_dec_dict\"][index] != '\\n' and cur_inp_list[j] != 0:\n",
        "                        continue\n",
        "                    elif parameters[\"reverse_dec_dict\"][index] != '\\n' and prev_char_index[j] in allowed_extras:\n",
        "                        continue\n",
        "                    sampled_token_indices.append(index)\n",
        "                    extra_char_count[j] += 1\n",
        "                    break\n",
        "                elif parameters[\"reverse_dec_dict\"][index] != '\\n' and parameters[\"enc_token\"].word_index[parameters[\"reverse_dec_dict\"][index].lower()] == cur_inp_list[j]:\n",
        "                    sampled_token_indices.append(index)\n",
        "                    break\n",
        "\n",
        "        sampled_chars = []\n",
        "        for index in sampled_token_indices:\n",
        "            sampled_chars.append(parameters[\"reverse_dec_dict\"][index])\n",
        "        outputs = [outputs[j] +\" \" +sampled_chars[j] for j, output in enumerate(outputs)]\n",
        "        end_indices = sorted([index for index, char in enumerate(sampled_chars) if char == '\\n'], reverse=True)\n",
        "        for index in end_indices:\n",
        "            out_dict[input_texts[index]] = outputs[index].strip()\n",
        "            del outputs[index]\n",
        "            del input_texts[index]\n",
        "            del extra_char_count[index]\n",
        "            del sampled_token_indices[index]\n",
        "            input_sequences = np.delete(input_sequences, index, axis=0)\n",
        "            target_seq = np.delete(target_seq, index, axis=0)\n",
        "        if i == parameters[\"max_decoder_seq_length\"] - 1 or len(input_texts) == 0:\n",
        "            break\n",
        "        target_seq[:, i + 1] = sampled_token_indices\n",
        "        target_seq_hot = to_categorical(target_seq, num_classes=parameters[\"dec_vocab_size\"])\n",
        "        prev_char_index = sampled_token_indices\n",
        "        i += 1\n",
        "    outputs = [out_dict[text] for text in input_texts_c]\n",
        "    return outputs[0]"
      ],
      "execution_count": null,
      "outputs": []
    },
    {
      "cell_type": "code",
      "metadata": {
        "id": "BAUIVflljXn7"
      },
      "source": [
        "extra = get_extra_chars()"
      ],
      "execution_count": null,
      "outputs": []
    },
    {
      "cell_type": "code",
      "metadata": {
        "colab": {
          "base_uri": "https://localhost:8080/",
          "height": 35
        },
        "id": "8WQz3kEIsnl0",
        "outputId": "b0119f61-170b-4f7d-de67-9a7a18d97fbd"
      },
      "source": [
        "decode(\"dalam kejadian itu muhammad israf izzuddin sembilan belas yang menunggang motosikal dirempuh kereta dipandu lelaki itu yang berlaku pada pukul dua belas tengah malam\", extra)"
      ],
      "execution_count": null,
      "outputs": [
        {
          "output_type": "execute_result",
          "data": {
            "application/vnd.google.colaboratory.intrinsic+json": {
              "type": "string"
            },
            "text/plain": [
              "'Dalam kejadian itu Muhammad Sembilan yang motosikal kereta lelaki itu yang berlaku pada pukul dua tengah malam .'"
            ]
          },
          "metadata": {
            "tags": []
          },
          "execution_count": 26
        }
      ]
    },
    {
      "cell_type": "code",
      "metadata": {
        "colab": {
          "base_uri": "https://localhost:8080/"
        },
        "id": "R6psIngQotby",
        "outputId": "c5245742-528a-4a8e-d2a4-a7f962ee6038"
      },
      "source": [
        "with open(filepath + 'testset.txt', 'r',encoding='cp1252') as f:\n",
        "  test_data = f.read().split('\\n')\n",
        "\n",
        "for line in test_data:\n",
        "    print(\"Original Text:\" + line)\n",
        "    line = line.lower() \n",
        "    line = re.sub(r\"[^a-zA-Z0-9]\", \" \", line)\n",
        "    line=re.sub(r'[ ]{2,}',r' ',line) \n",
        "    print(\"Normalized Text:\" + line)\n",
        "    print(\"Predicted Text:\" + decode(line, extra))\n",
        "    print()\n"
      ],
      "execution_count": null,
      "outputs": [
        {
          "output_type": "stream",
          "text": [
            "Original Text:Menteri Kanan (Keselamatan), Datuk Seri Ismail Sabri Yaakob, berkata angka itu menjadikan jumlah keseluruhan pekerja asing disahkan dijangkiti COVID-19 seramai 4,096 orang sejak ujian saringan dijalankan pada 1 Disember tahun lalu.\n",
            "Normalized Text:menteri kanan keselamatan datuk seri ismail sabri yaakob berkata angka itu menjadikan jumlah keseluruhan pekerja asing disahkan dijangkiti covid 19 seramai 4 096 orang sejak ujian saringan dijalankan pada 1 disember tahun lalu \n",
            "Predicted Text:Menteri Kanan Keselamatan Datuk Seri Ismail Sabri Yaakob berkata\n",
            "\n",
            "Original Text:Beliau berkata sebanyak 854 klinik menyertai program saringan terbabit.\n",
            "Normalized Text:beliau berkata sebanyak 854 klinik menyertai program saringan terbabit \n",
            "Predicted Text:Beliau berkata\n",
            "\n",
            "Original Text:Daripada jumlah ini, sebanyak 4,096 disahkan positif COVID-19 manakala 201,220 lagi adalah negatif.\n",
            "Normalized Text:daripada jumlah ini sebanyak 4 096 disahkan positif covid 19 manakala 201 220 lagi adalah negatif \n",
            "Predicted Text:Daripada jumlah ini sebanyak 4\n",
            "\n",
            "Original Text:Dalam pemeriksaan itu, CIDB mendapati semua tujuh tapak binaan terbabit mematuhi prosedur operasi standard (SOP).\n",
            "Normalized Text:dalam pemeriksaan itu cidb mendapati semua tujuh tapak binaan terbabit mematuhi prosedur operasi standard sop \n",
            "Predicted Text:Dalam pemeriksaan itu mendapati semua tujuh tapak binaan terbabit mematuhi prosedur operasi\n",
            "\n",
            "Original Text:Mengenai operasi di tapak binaan, Ismail Sabri berkata, anggota penguat kuasa Lembaga Pembangunan Industri Pembinaan Malaysia (CIDB) menjalankan lapan pemeriksaan di seluruh negara.\n",
            "Normalized Text:mengenai operasi di tapak binaan ismail sabri berkata anggota penguat kuasa lembaga pembangunan industri pembinaan malaysia cidb menjalankan lapan pemeriksaan di seluruh negara \n",
            "Predicted Text:Mengenai operasi di tapak\n",
            "\n",
            "Original Text:Katanya, dalam tempoh sama sebanyak 495 tapak binaan tidak patuh SOP dan diberi amaran, manakala 19 tapak binaan lagi diarahkan ditutup.\n",
            "Normalized Text:katanya dalam tempoh sama sebanyak 495 tapak binaan tidak patuh sop dan diberi amaran manakala 19 tapak binaan lagi diarahkan ditutup \n",
            "Predicted Text:Katanya dalam tempoh sama sebanyak tapak binaan tidak dan diberi amaran manakala 19\n",
            "\n",
            "Original Text:Semalam, CIDB membuat pemeriksaan di 38 tapak binaan di seluruh negara membabitkan seramai 80 penguatkuasa.\n",
            "Normalized Text:semalam cidb membuat pemeriksaan di 38 tapak binaan di seluruh negara membabitkan seramai 80 penguatkuasa \n",
            "Predicted Text:semalam membuat pemeriksaan di\n",
            "\n",
            "Original Text:CIDB dengan kerjasama Pertubuhan Keselamatan Sosial (PERKESO) akan menganjurkan Program Saringan Prihatin (PSP) COVID-19 percuma untuk semua pekerja warga asing sektor Pembinaan di Wilayah Persekutuan Kuala Lumpur dan Putrajaya serta Selangor.\n",
            "Normalized Text:cidb dengan kerjasama pertubuhan keselamatan sosial perkeso akan menganjurkan program saringan prihatin psp covid 19 percuma untuk semua pekerja warga asing sektor pembinaan di wilayah persekutuan kuala lumpur dan putrajaya serta selangor \n",
            "Predicted Text:Dengan kerjasama Pertubuhan Keselamatan\n",
            "\n",
            "Original Text:Katanya, sejak 30 Mac lalu hingga semalam, sebanyak 9,118 operasi sanitasi membabitkan 134 zon, di seluruh negara sudah dijalankan.\n",
            "Normalized Text:katanya sejak 30 mac lalu hingga semalam sebanyak 9 118 operasi sanitasi membabitkan 134 zon di seluruh negara sudah dijalankan \n",
            "Predicted Text:Katanya sejak 30 Mac lalu hingga semalam sebanyak 9\n",
            "\n",
            "Original Text:Menurut kenyataan itu, surat yang telah mencetuskan kebimbangan pelbagai pihak itu berkali-kali menyatakan sumbangan semua pihak amat ditagih untuk memutuskan rantaian pandemik.\n",
            "Normalized Text:menurut kenyataan itu surat yang telah mencetuskan kebimbangan pelbagai pihak itu berkali kali menyatakan sumbangan semua pihak amat ditagih untuk memutuskan rantaian pandemik \n",
            "Predicted Text:Menurut kenyataan itu surat yang telah mencetuskan kebimbangan pelbagai pihak itu kali menyatakan sumbangan semua pihak amat untuk memutuskan .\n",
            "\n",
            "Original Text:\n",
            "Normalized Text:\n",
            "Predicted Text:\n",
            "\n",
            "Original Text:\n",
            "Normalized Text:\n",
            "Predicted Text:\n",
            "\n"
          ],
          "name": "stdout"
        }
      ]
    },
    {
      "cell_type": "code",
      "metadata": {
        "id": "WYmeRnOFpQ0b"
      },
      "source": [
        ""
      ],
      "execution_count": null,
      "outputs": []
    }
  ]
}